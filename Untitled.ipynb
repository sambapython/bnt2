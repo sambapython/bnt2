{
 "cells": [
  {
   "cell_type": "code",
   "execution_count": 1,
   "metadata": {},
   "outputs": [
    {
     "data": {
      "text/plain": [
       "[3, 10, 22]"
      ]
     },
     "execution_count": 1,
     "metadata": {},
     "output_type": "execute_result"
    }
   ],
   "source": [
    "d={10:\"ten\",22:\"towtwo\",3:\"three\"}\n",
    "sorted(d)"
   ]
  },
  {
   "cell_type": "code",
   "execution_count": 2,
   "metadata": {},
   "outputs": [],
   "source": [
    "l =list(d.keys())"
   ]
  },
  {
   "cell_type": "code",
   "execution_count": 3,
   "metadata": {},
   "outputs": [
    {
     "name": "stdout",
     "output_type": "stream",
     "text": [
      "{1: {2: 'numner', 3: {4: 'numbr4', 5: 'number5'}, 6: {'number6'}}}\n"
     ]
    }
   ],
   "source": [
    "d={1:{2:\"numner\",3:{4:\"numbr4\",5:\"number5\"},6:{\"number6\"}}}\n",
    "print(d)"
   ]
  },
  {
   "cell_type": "code",
   "execution_count": 4,
   "metadata": {},
   "outputs": [
    {
     "data": {
      "text/plain": [
       "[1]"
      ]
     },
     "execution_count": 4,
     "metadata": {},
     "output_type": "execute_result"
    }
   ],
   "source": [
    "list(d.keys())"
   ]
  },
  {
   "cell_type": "code",
   "execution_count": 5,
   "metadata": {},
   "outputs": [
    {
     "name": "stdout",
     "output_type": "stream",
     "text": [
      "{'2016': {'variety1': {'name': 'google', 'date': 20100701, 'downloads': 0}, 'variety2': {'name': 'chrome', 'date': 20071012, 'downloads': 0}, 'variety3': {'name': 'python', 'date': 20100713, 'downloads': 100}}, '2017': {'variety1': {'name': 'google', 'date': 20100704, 'downloads': 0}, 'variety2': {'name': 'chrome', 'date': 20071015, 'downloads': 0}, 'variety3': {'name': 'python', 'date': 20100716, 'downloads': 100}}, '2018': {'variety3': {'name': 'google', 'date': 20100707, 'downloads': 0}, 'variety1': {'name': 'chrome', 'date': 20071018, 'downloads': 0}, 'variety2': {'name': 'python', 'date': 20100719, 'downloads': 100}}}\n"
     ]
    }
   ],
   "source": [
    "dict1 = {'2016':{'variety1':\n",
    "                  {'name':'google','date':20100701,'downloads':0},\n",
    "                 'variety2':\n",
    "                  {'name':'chrome','date':20071012,'downloads':0},\n",
    "                 'variety3':\n",
    "                  {'name':'python','date':20100713,'downloads':100}},\n",
    "         \n",
    "         '2017':{'variety1':\n",
    "                  {'name':'google','date':20100704,'downloads':0},\n",
    "                 'variety2':\n",
    "                  {'name':'chrome','date':20071015,'downloads':0},\n",
    "                 'variety3':\n",
    "                  {'name':'python','date':20100716,'downloads':100}},\n",
    "         \n",
    "         '2018':{'variety3':\n",
    "                  {'name':'google','date':20100707,'downloads':0},\n",
    "                 'variety1':\n",
    "                  {'name':'chrome','date':20071018,'downloads':0},\n",
    "                 'variety2':\n",
    "                  {'name':'python','date':20100719,'downloads':100}}\n",
    "            }\n",
    "print(dict1)"
   ]
  },
  {
   "cell_type": "code",
   "execution_count": 6,
   "metadata": {},
   "outputs": [
    {
     "name": "stdout",
     "output_type": "stream",
     "text": [
      "{'2016': {'variety1': {'name': 'google', 'date': 20100701, 'downloads': 0}, 'variety2': {'name': 'chrome', 'date': 20071012, 'downloads': 0}, 'variety3': {'name': 'python', 'date': 20100713, 'downloads': 100}}, '2017': {'variety1': {'name': 'google', 'date': 20100704, 'downloads': 0}, 'variety2': {'name': 'chrome', 'date': 20071015, 'downloads': 0}, 'variety3': {'name': 'python', 'date': 20100716, 'downloads': 100}}, '2018': {'variety1': {'name': 'chrome', 'date': 20071018, 'downloads': 0}, 'variety2': {'name': 'python', 'date': 20100719, 'downloads': 100}, 'variety3': {'name': 'google', 'date': 20100707, 'downloads': 0}}}\n"
     ]
    }
   ],
   "source": [
    "res = {}\n",
    "for key,value in dict1.items():\n",
    "    vk = list(value.keys())\n",
    "    vk.sort()\n",
    "    res[key]={k:value[k] for k in vk}\n",
    "print(res)"
   ]
  },
  {
   "cell_type": "code",
   "execution_count": 7,
   "metadata": {},
   "outputs": [
    {
     "data": {
      "text/plain": [
       "['ANT', 'APle', 'ant', 'apple']"
      ]
     },
     "execution_count": 7,
     "metadata": {},
     "output_type": "execute_result"
    }
   ],
   "source": [
    "l=[\"APle\",\"apple\",\"ant\",\"ANT\"]\n",
    "l.sort()\n",
    "l"
   ]
  },
  {
   "cell_type": "code",
   "execution_count": 8,
   "metadata": {},
   "outputs": [
    {
     "data": {
      "text/plain": [
       "['ant', 'ANT', 'APle', 'apple']"
      ]
     },
     "execution_count": 8,
     "metadata": {},
     "output_type": "execute_result"
    }
   ],
   "source": [
    "l=[\"APle\",\"apple\",\"ant\",\"ANT\"]\n",
    "l.sort(key=lambda x:x.lower())\n",
    "l"
   ]
  },
  {
   "cell_type": "code",
   "execution_count": 11,
   "metadata": {},
   "outputs": [
    {
     "name": "stdout",
     "output_type": "stream",
     "text": [
      "['VAriety1', 'VAriety3', 'variety2']\n",
      "['variety1', 'variety2', 'variety3']\n",
      "['variety1', 'variety2', 'variety3']\n",
      "{'2016': {'VAriety1': {'name': 'google', 'date': 20100701, 'downloads': 0}, 'VAriety3': {'name': 'python', 'date': 20100713, 'downloads': 100}, 'variety2': {'name': 'chrome', 'date': 20071012, 'downloads': 0}}, '2017': {'variety1': {'name': 'google', 'date': 20100704, 'downloads': 0}, 'variety2': {'name': 'chrome', 'date': 20071015, 'downloads': 0}, 'variety3': {'name': 'python', 'date': 20100716, 'downloads': 100}}, '2018': {'variety1': {'name': 'chrome', 'date': 20071018, 'downloads': 0}, 'variety2': {'name': 'python', 'date': 20100719, 'downloads': 100}, 'variety3': {'name': 'google', 'date': 20100707, 'downloads': 0}}}\n"
     ]
    }
   ],
   "source": [
    "dict1 = {'2016':{'VAriety1':\n",
    "                  {'name':'google','date':20100701,'downloads':0},\n",
    "                 'variety2':\n",
    "                  {'name':'chrome','date':20071012,'downloads':0},\n",
    "                 'VAriety3':\n",
    "                  {'name':'python','date':20100713,'downloads':100}},\n",
    "         \n",
    "         '2017':{'variety1':\n",
    "                  {'name':'google','date':20100704,'downloads':0},\n",
    "                 'variety2':\n",
    "                  {'name':'chrome','date':20071015,'downloads':0},\n",
    "                 'variety3':\n",
    "                  {'name':'python','date':20100716,'downloads':100}},\n",
    "         \n",
    "         '2018':{'variety3':\n",
    "                  {'name':'google','date':20100707,'downloads':0},\n",
    "                 'variety1':\n",
    "                  {'name':'chrome','date':20071018,'downloads':0},\n",
    "                 'variety2':\n",
    "                  {'name':'python','date':20100719,'downloads':100}}\n",
    "            }\n",
    "res = {}\n",
    "for key,value in dict1.items():\n",
    "    vk = list(value.keys())\n",
    "    vk.sort()\n",
    "    print(vk)\n",
    "    res[key]={k:value[k] for k in vk}\n",
    "print(res)"
   ]
  },
  {
   "cell_type": "code",
   "execution_count": 12,
   "metadata": {},
   "outputs": [
    {
     "name": "stdout",
     "output_type": "stream",
     "text": [
      "['VAriety1', 'variety2', 'VAriety3']\n",
      "['variety1', 'variety2', 'variety3']\n",
      "['variety1', 'variety2', 'variety3']\n",
      "{'2016': {'VAriety1': {'name': 'google', 'date': 20100701, 'downloads': 0}, 'variety2': {'name': 'chrome', 'date': 20071012, 'downloads': 0}, 'VAriety3': {'name': 'python', 'date': 20100713, 'downloads': 100}}, '2017': {'variety1': {'name': 'google', 'date': 20100704, 'downloads': 0}, 'variety2': {'name': 'chrome', 'date': 20071015, 'downloads': 0}, 'variety3': {'name': 'python', 'date': 20100716, 'downloads': 100}}, '2018': {'variety1': {'name': 'chrome', 'date': 20071018, 'downloads': 0}, 'variety2': {'name': 'python', 'date': 20100719, 'downloads': 100}, 'variety3': {'name': 'google', 'date': 20100707, 'downloads': 0}}}\n"
     ]
    }
   ],
   "source": [
    "dict1 = {'2016':{'VAriety1':\n",
    "                  {'name':'google','date':20100701,'downloads':0},\n",
    "                 'variety2':\n",
    "                  {'name':'chrome','date':20071012,'downloads':0},\n",
    "                 'VAriety3':\n",
    "                  {'name':'python','date':20100713,'downloads':100}},\n",
    "         \n",
    "         '2017':{'variety1':\n",
    "                  {'name':'google','date':20100704,'downloads':0},\n",
    "                 'variety2':\n",
    "                  {'name':'chrome','date':20071015,'downloads':0},\n",
    "                 'variety3':\n",
    "                  {'name':'python','date':20100716,'downloads':100}},\n",
    "         \n",
    "         '2018':{'variety3':\n",
    "                  {'name':'google','date':20100707,'downloads':0},\n",
    "                 'variety1':\n",
    "                  {'name':'chrome','date':20071018,'downloads':0},\n",
    "                 'variety2':\n",
    "                  {'name':'python','date':20100719,'downloads':100}}\n",
    "            }\n",
    "res = {}\n",
    "for key,value in dict1.items():\n",
    "    vk = list(value.keys())\n",
    "    vk.sort(key=lambda x:x.lower())\n",
    "    print(vk)\n",
    "    res[key]={k:value[k] for k in vk}\n",
    "print(res)"
   ]
  },
  {
   "cell_type": "code",
   "execution_count": 13,
   "metadata": {},
   "outputs": [
    {
     "data": {
      "text/plain": [
       "[('name', 'anil'), ('name', 'badhri'), ('name', 'jay')]"
      ]
     },
     "execution_count": 13,
     "metadata": {},
     "output_type": "execute_result"
    }
   ],
   "source": [
    "l=[(\"name\", \"anil\"),(\"name\",\"jay\"),(\"name\",\"badhri\")]\n",
    "l.sort()\n",
    "l\n"
   ]
  },
  {
   "cell_type": "code",
   "execution_count": 14,
   "metadata": {},
   "outputs": [
    {
     "data": {
      "text/plain": [
       "[('name', 'anil'), ('name', 'badhri'), ('name', 'jay')]"
      ]
     },
     "execution_count": 14,
     "metadata": {},
     "output_type": "execute_result"
    }
   ],
   "source": [
    "l=[(\"name\", \"anil\"),(\"name\",\"jay\"),(\"name\",\"badhri\")]\n",
    "l.sort(key=lambda x:x[1])\n",
    "l\n"
   ]
  },
  {
   "cell_type": "code",
   "execution_count": 16,
   "metadata": {},
   "outputs": [
    {
     "name": "stdout",
     "output_type": "stream",
     "text": [
      "{'name1': 'anil', 'name2': 'jay', 'name3': 'badhri'}\n"
     ]
    }
   ],
   "source": [
    "l=[(\"name1\", \"anil\"),(\"name2\",\"jay\"),(\"name3\",\"badhri\")]\n",
    "d=dict(l)\n",
    "print(d)"
   ]
  },
  {
   "cell_type": "code",
   "execution_count": 17,
   "metadata": {},
   "outputs": [
    {
     "data": {
      "text/plain": [
       "['name1', 'name3', 'name2']"
      ]
     },
     "execution_count": 17,
     "metadata": {},
     "output_type": "execute_result"
    }
   ],
   "source": [
    "sorted(d, key=lambda x:d[x])"
   ]
  },
  {
   "cell_type": "code",
   "execution_count": null,
   "metadata": {},
   "outputs": [],
   "source": []
  }
 ],
 "metadata": {
  "kernelspec": {
   "display_name": "Python 3",
   "language": "python",
   "name": "python3"
  },
  "language_info": {
   "codemirror_mode": {
    "name": "ipython",
    "version": 3
   },
   "file_extension": ".py",
   "mimetype": "text/x-python",
   "name": "python",
   "nbconvert_exporter": "python",
   "pygments_lexer": "ipython3",
   "version": "3.7.3"
  }
 },
 "nbformat": 4,
 "nbformat_minor": 2
}
