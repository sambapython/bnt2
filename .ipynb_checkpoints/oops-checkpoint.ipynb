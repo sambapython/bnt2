{
 "cells": [
  {
   "cell_type": "code",
   "execution_count": 1,
   "metadata": {},
   "outputs": [
    {
     "name": "stdout",
     "output_type": "stream",
     "text": [
      "this is class\n"
     ]
    }
   ],
   "source": [
    "def fun():\n",
    "    print(\"this is fun\")\n",
    "class Emp:\n",
    "    print(\"this is class\")"
   ]
  },
  {
   "cell_type": "code",
   "execution_count": 2,
   "metadata": {},
   "outputs": [
    {
     "name": "stdout",
     "output_type": "stream",
     "text": [
      "this is class\n",
      "this is fun\n"
     ]
    }
   ],
   "source": [
    "def fun():\n",
    "    print(\"this is fun\")\n",
    "class Emp:\n",
    "    print(\"this is class\")\n",
    "fun()"
   ]
  },
  {
   "cell_type": "code",
   "execution_count": 3,
   "metadata": {},
   "outputs": [
    {
     "name": "stdout",
     "output_type": "stream",
     "text": [
      "this is class\n"
     ]
    }
   ],
   "source": [
    "def fun():\n",
    "    print(\"this is fun\")\n",
    "class Emp:\n",
    "    print(\"this is class\")\n",
    "    a=1000\n",
    "    b=2000\n",
    "    def get(x):\n",
    "        print(\"this is get in Emp class\")"
   ]
  },
  {
   "cell_type": "code",
   "execution_count": 6,
   "metadata": {},
   "outputs": [
    {
     "name": "stdout",
     "output_type": "stream",
     "text": [
      "this is class\n",
      "1000\n",
      "2000\n"
     ]
    }
   ],
   "source": [
    "def fun():\n",
    "    print(\"this is fun\")\n",
    "class Emp:\n",
    "    print(\"this is class\")\n",
    "    a=1000\n",
    "    b=2000\n",
    "    def get(x):\n",
    "        print(\"this is get in Emp class\")\n",
    "print(Emp.a)\n",
    "print(Emp.b)"
   ]
  },
  {
   "cell_type": "code",
   "execution_count": 7,
   "metadata": {},
   "outputs": [
    {
     "name": "stdout",
     "output_type": "stream",
     "text": [
      "this is class\n",
      "1000\n",
      "2000\n",
      "this is get in Emp class\n"
     ]
    }
   ],
   "source": [
    "def fun():\n",
    "    print(\"this is fun\")\n",
    "class Emp:\n",
    "    print(\"this is class\")\n",
    "    a=1000\n",
    "    b=2000\n",
    "    def get(x):\n",
    "        print(\"this is get in Emp class\")\n",
    "        \n",
    "print(Emp.a)\n",
    "print(Emp.b)\n",
    "Emp.get(100)"
   ]
  },
  {
   "cell_type": "code",
   "execution_count": 8,
   "metadata": {},
   "outputs": [
    {
     "name": "stdout",
     "output_type": "stream",
     "text": [
      "this is class\n",
      "<class '__main__.Emp'>\n"
     ]
    }
   ],
   "source": [
    "def fun():\n",
    "    print(\"this is fun\")\n",
    "class Emp:\n",
    "    print(\"this is class\")\n",
    "    a=1000\n",
    "    b=2000\n",
    "    def get(x):\n",
    "        print(\"this is get in Emp class\")\n",
    "print(Emp)"
   ]
  },
  {
   "cell_type": "code",
   "execution_count": 9,
   "metadata": {},
   "outputs": [
    {
     "name": "stdout",
     "output_type": "stream",
     "text": [
      "Maithrivanam\n",
      "KHYAATHi\n"
     ]
    }
   ],
   "source": [
    "class Emp:\n",
    "    company_name=\"KHYAATHi\"\n",
    "    company_address=\"Maithrivanam\"\n",
    "    def get(x):\n",
    "        print(\"this is get in Emp class\")\n",
    "print(Emp.company_address)\n",
    "print(Emp.company_name)"
   ]
  },
  {
   "cell_type": "code",
   "execution_count": 10,
   "metadata": {},
   "outputs": [
    {
     "name": "stdout",
     "output_type": "stream",
     "text": [
      "Maithrivanam\n",
      "KHYAATHi\n",
      "this is get in Emp class\n"
     ]
    }
   ],
   "source": [
    "class Emp:\n",
    "    company_name=\"KHYAATHi\"\n",
    "    company_address=\"Maithrivanam\"\n",
    "    def get(x):\n",
    "        print(\"this is get in Emp class\")\n",
    "print(Emp.company_address)\n",
    "print(Emp.company_name)\n",
    "Emp.get(10)"
   ]
  },
  {
   "cell_type": "code",
   "execution_count": 11,
   "metadata": {},
   "outputs": [],
   "source": [
    "class Emp:\n",
    "    company_name=\"KHYAATHi\"\n",
    "    company_address=\"Maithrivanam\"\n",
    "    def get(x):\n",
    "        print(\"this is get in Emp class\")\n",
    "jay=Emp()"
   ]
  },
  {
   "cell_type": "code",
   "execution_count": 12,
   "metadata": {},
   "outputs": [
    {
     "name": "stdout",
     "output_type": "stream",
     "text": [
      "<class '__main__.Emp'>\n",
      "<__main__.Emp object at 0x0000021ABBE04828>\n"
     ]
    }
   ],
   "source": [
    "class Emp:\n",
    "    company_name=\"KHYAATHi\"\n",
    "    company_address=\"Maithrivanam\"\n",
    "    def get(x):\n",
    "        print(\"this is get in Emp class\")\n",
    "jay=Emp()\n",
    "print(Emp) # class object\n",
    "print(jay) # data object"
   ]
  },
  {
   "cell_type": "code",
   "execution_count": 13,
   "metadata": {},
   "outputs": [],
   "source": [
    "class Emp:\n",
    "    company_name=\"KHYAATHi\"\n",
    "    company_address=\"Maithrivanam\"\n",
    "    def get(x):\n",
    "        print(\"this is get in Emp class\")\n",
    "jay=Emp()\n",
    "jay.name=\"JAYARAM\"\n",
    "jay.doj=\"2017-02-28\"\n",
    "vedha = Emp()\n",
    "vedha.age=23\n",
    "vedha.sal=234"
   ]
  },
  {
   "cell_type": "code",
   "execution_count": 14,
   "metadata": {},
   "outputs": [
    {
     "name": "stdout",
     "output_type": "stream",
     "text": [
      "JAYARAM\n",
      "234\n"
     ]
    },
    {
     "ename": "AttributeError",
     "evalue": "'Emp' object has no attribute 'name'",
     "output_type": "error",
     "traceback": [
      "\u001b[1;31m---------------------------------------------------------------------------\u001b[0m",
      "\u001b[1;31mAttributeError\u001b[0m                            Traceback (most recent call last)",
      "\u001b[1;32m<ipython-input-14-a7ef4bc928d2>\u001b[0m in \u001b[0;36m<module>\u001b[1;34m\u001b[0m\n\u001b[0;32m     12\u001b[0m \u001b[0mprint\u001b[0m\u001b[1;33m(\u001b[0m\u001b[0mjay\u001b[0m\u001b[1;33m.\u001b[0m\u001b[0mname\u001b[0m\u001b[1;33m)\u001b[0m\u001b[1;33m\u001b[0m\u001b[1;33m\u001b[0m\u001b[0m\n\u001b[0;32m     13\u001b[0m \u001b[0mprint\u001b[0m\u001b[1;33m(\u001b[0m\u001b[0mvedha\u001b[0m\u001b[1;33m.\u001b[0m\u001b[0msal\u001b[0m\u001b[1;33m)\u001b[0m\u001b[1;33m\u001b[0m\u001b[1;33m\u001b[0m\u001b[0m\n\u001b[1;32m---> 14\u001b[1;33m \u001b[0mprint\u001b[0m\u001b[1;33m(\u001b[0m\u001b[0mvedha\u001b[0m\u001b[1;33m.\u001b[0m\u001b[0mname\u001b[0m\u001b[1;33m)\u001b[0m\u001b[1;33m\u001b[0m\u001b[1;33m\u001b[0m\u001b[0m\n\u001b[0m",
      "\u001b[1;31mAttributeError\u001b[0m: 'Emp' object has no attribute 'name'"
     ]
    }
   ],
   "source": [
    "class Emp:\n",
    "    company_name=\"KHYAATHi\"\n",
    "    company_address=\"Maithrivanam\"\n",
    "    def get(x):\n",
    "        print(\"this is get in Emp class\")\n",
    "jay=Emp()\n",
    "jay.name=\"JAYARAM\"\n",
    "jay.doj=\"2017-02-28\"\n",
    "vedha = Emp()\n",
    "vedha.age=23\n",
    "vedha.sal=234\n",
    "print(jay.name)\n",
    "print(vedha.sal)\n",
    "print(vedha.name)"
   ]
  },
  {
   "cell_type": "code",
   "execution_count": 15,
   "metadata": {},
   "outputs": [],
   "source": [
    "class Emp:\n",
    "    company_name=\"KHYAATHi\"\n",
    "    company_address=\"Maithrivanam\"\n",
    "    def get(x):\n",
    "        print(\"this is get in Emp class\")\n",
    "jay=Emp()\n",
    "jay.name=\"JAYARAM\"\n",
    "jay.doj=\"2017-02-28\"\n",
    "jay.sal=2345\n",
    "jay.age=24\n",
    "vedha = Emp()\n",
    "vedha.name=\"vedhanvesh\"\n",
    "vedha.doj=\"2018-09-23\"\n",
    "vedha.sal=3485\n",
    "vedha.age=23\n"
   ]
  },
  {
   "cell_type": "code",
   "execution_count": 16,
   "metadata": {},
   "outputs": [
    {
     "name": "stdout",
     "output_type": "stream",
     "text": [
      "Vedhanvesh\n",
      "JAYARAM\n"
     ]
    }
   ],
   "source": [
    "class Emp:\n",
    "    company_name=\"KHYAATHi\"\n",
    "    company_address=\"Maithrivanam\"\n",
    "    def set_data(x, e_name, e_age,e_sal,e_doj):\n",
    "        x.name=e_name\n",
    "        x.doj=e_doj\n",
    "        x.sal=e_sal\n",
    "        x.ahe=e_age\n",
    "    def get(x):\n",
    "        print(\"this is get in Emp class\")\n",
    "jay=Emp()\n",
    "Emp.set_data(jay,\"JAYARAM\",23,34567,\"2017-02-28\")\n",
    "'''\n",
    "jay.name=\"JAYARAM\"\n",
    "jay.doj=\"2017-02-28\"\n",
    "jay.sal=2345\n",
    "jay.age=24\n",
    "'''\n",
    "vedha = Emp()\n",
    "'''\n",
    "vedha.name=\"vedhanvesh\"\n",
    "vedha.doj=\"2018-09-23\"\n",
    "vedha.sal=3485\n",
    "vedha.age=23\n",
    "'''\n",
    "Emp.set_data(vedha,\"Vedhanvesh\",24,2859596,\"2018-06-14\")\n",
    "print(vedha.name)\n",
    "print(jay.name)"
   ]
  },
  {
   "cell_type": "code",
   "execution_count": 18,
   "metadata": {},
   "outputs": [
    {
     "name": "stdout",
     "output_type": "stream",
     "text": [
      "('JAYARAM', 23, 34567, '2017-02-28')\n",
      "('Vedhanvesh', 24, 2859596, '2018-06-14')\n"
     ]
    }
   ],
   "source": [
    "class Emp:\n",
    "    company_name=\"KHYAATHi\"\n",
    "    company_address=\"Maithrivanam\"\n",
    "    def set_data(x, e_name, e_age,e_sal,e_doj):\n",
    "        x.name=e_name\n",
    "        x.doj=e_doj\n",
    "        x.sal=e_sal\n",
    "        x.age=e_age\n",
    "    def get(x):\n",
    "        return x.name,x.age,x.sal,x.doj\n",
    "jay=Emp()\n",
    "Emp.set_data(jay,\"JAYARAM\",23,34567,\"2017-02-28\")\n",
    "vedha = Emp()\n",
    "Emp.set_data(vedha,\"Vedhanvesh\",24,2859596,\"2018-06-14\")\n",
    "print(Emp.get(jay))\n",
    "print(Emp.get(vedha))"
   ]
  },
  {
   "cell_type": "code",
   "execution_count": 19,
   "metadata": {},
   "outputs": [
    {
     "name": "stdout",
     "output_type": "stream",
     "text": [
      "('JAYARAM', 23, 34567, '2017-02-28')\n",
      "('Vedhanvesh', 24, 2859596, '2018-06-14')\n"
     ]
    }
   ],
   "source": [
    "class Emp:\n",
    "    company_name=\"KHYAATHi\"\n",
    "    company_address=\"Maithrivanam\"\n",
    "    def set_data(x, e_name, e_age,e_sal,e_doj):\n",
    "        x.name=e_name\n",
    "        x.doj=e_doj\n",
    "        x.sal=e_sal\n",
    "        x.age=e_age\n",
    "    def get(x):\n",
    "        return x.name,x.age,x.sal,x.doj\n",
    "jay=Emp()\n",
    "#Emp.set_data(jay,\"JAYARAM\",23,34567,\"2017-02-28\")\n",
    "jay.set_data(\"JAYARAM\",23,34567,\"2017-02-28\")\n",
    "vedha = Emp()\n",
    "#Emp.set_data(vedha,\"Vedhanvesh\",24,2859596,\"2018-06-14\")\n",
    "vedha.set_data(\"Vedhanvesh\",24,2859596,\"2018-06-14\")\n",
    "print(Emp.get(jay))\n",
    "print(Emp.get(vedha))"
   ]
  },
  {
   "cell_type": "code",
   "execution_count": 20,
   "metadata": {},
   "outputs": [
    {
     "name": "stdout",
     "output_type": "stream",
     "text": [
      "('JAYARAM', 23, 34567, '2017-02-28')\n",
      "('Vedhanvesh', 24, 2859596, '2018-06-14')\n"
     ]
    }
   ],
   "source": [
    "class Emp:\n",
    "    company_name=\"KHYAATHi\"\n",
    "    company_address=\"Maithrivanam\"\n",
    "    def set_data(x, e_name, e_age,e_sal,e_doj):\n",
    "        x.name=e_name\n",
    "        x.doj=e_doj\n",
    "        x.sal=e_sal\n",
    "        x.age=e_age\n",
    "    def get(x):\n",
    "        return x.name,x.age,x.sal,x.doj\n",
    "jay=Emp()\n",
    "jay.set_data(\"JAYARAM\",23,34567,\"2017-02-28\")\n",
    "vedha = Emp()\n",
    "vedha.set_data(\"Vedhanvesh\",24,2859596,\"2018-06-14\")\n",
    "print(Emp.get(jay))\n",
    "print(Emp.get(vedha))"
   ]
  },
  {
   "cell_type": "code",
   "execution_count": 21,
   "metadata": {},
   "outputs": [
    {
     "ename": "TypeError",
     "evalue": "set_data() takes 4 positional arguments but 5 were given",
     "output_type": "error",
     "traceback": [
      "\u001b[1;31m---------------------------------------------------------------------------\u001b[0m",
      "\u001b[1;31mTypeError\u001b[0m                                 Traceback (most recent call last)",
      "\u001b[1;32m<ipython-input-21-d5a423a4c3bb>\u001b[0m in \u001b[0;36m<module>\u001b[1;34m\u001b[0m\n\u001b[0;32m     10\u001b[0m         \u001b[1;32mreturn\u001b[0m \u001b[0mx\u001b[0m\u001b[1;33m.\u001b[0m\u001b[0mname\u001b[0m\u001b[1;33m,\u001b[0m\u001b[0mx\u001b[0m\u001b[1;33m.\u001b[0m\u001b[0mage\u001b[0m\u001b[1;33m,\u001b[0m\u001b[0mx\u001b[0m\u001b[1;33m.\u001b[0m\u001b[0msal\u001b[0m\u001b[1;33m,\u001b[0m\u001b[0mx\u001b[0m\u001b[1;33m.\u001b[0m\u001b[0mdoj\u001b[0m\u001b[1;33m\u001b[0m\u001b[1;33m\u001b[0m\u001b[0m\n\u001b[0;32m     11\u001b[0m \u001b[0mjay\u001b[0m\u001b[1;33m=\u001b[0m\u001b[0mEmp\u001b[0m\u001b[1;33m(\u001b[0m\u001b[1;33m)\u001b[0m\u001b[1;33m\u001b[0m\u001b[1;33m\u001b[0m\u001b[0m\n\u001b[1;32m---> 12\u001b[1;33m \u001b[0mjay\u001b[0m\u001b[1;33m.\u001b[0m\u001b[0mset_data\u001b[0m\u001b[1;33m(\u001b[0m\u001b[1;34m\"JAYARAM\"\u001b[0m\u001b[1;33m,\u001b[0m\u001b[1;36m23\u001b[0m\u001b[1;33m,\u001b[0m\u001b[1;36m34567\u001b[0m\u001b[1;33m,\u001b[0m\u001b[1;34m\"2017-02-28\"\u001b[0m\u001b[1;33m)\u001b[0m\u001b[1;33m\u001b[0m\u001b[1;33m\u001b[0m\u001b[0m\n\u001b[0m\u001b[0;32m     13\u001b[0m \u001b[0mvedha\u001b[0m \u001b[1;33m=\u001b[0m \u001b[0mEmp\u001b[0m\u001b[1;33m(\u001b[0m\u001b[1;33m)\u001b[0m\u001b[1;33m\u001b[0m\u001b[1;33m\u001b[0m\u001b[0m\n\u001b[0;32m     14\u001b[0m \u001b[0mvedha\u001b[0m\u001b[1;33m.\u001b[0m\u001b[0mset_data\u001b[0m\u001b[1;33m(\u001b[0m\u001b[1;34m\"Vedhanvesh\"\u001b[0m\u001b[1;33m,\u001b[0m\u001b[1;36m24\u001b[0m\u001b[1;33m,\u001b[0m\u001b[1;36m2859596\u001b[0m\u001b[1;33m,\u001b[0m\u001b[1;34m\"2018-06-14\"\u001b[0m\u001b[1;33m)\u001b[0m\u001b[1;33m\u001b[0m\u001b[1;33m\u001b[0m\u001b[0m\n",
      "\u001b[1;31mTypeError\u001b[0m: set_data() takes 4 positional arguments but 5 were given"
     ]
    }
   ],
   "source": [
    "class Emp:\n",
    "    company_name=\"KHYAATHi\"\n",
    "    company_address=\"Maithrivanam\"\n",
    "    def set_data(e_name, e_age,e_sal,e_doj):\n",
    "        x.name=e_name\n",
    "        x.doj=e_doj\n",
    "        x.sal=e_sal\n",
    "        x.age=e_age\n",
    "    def get(x):\n",
    "        return x.name,x.age,x.sal,x.doj\n",
    "jay=Emp()\n",
    "jay.set_data(\"JAYARAM\",23,34567,\"2017-02-28\")\n",
    "vedha = Emp()\n",
    "vedha.set_data(\"Vedhanvesh\",24,2859596,\"2018-06-14\")\n",
    "print(Emp.get(jay))\n",
    "print(Emp.get(vedha))"
   ]
  },
  {
   "cell_type": "code",
   "execution_count": 22,
   "metadata": {},
   "outputs": [
    {
     "name": "stdout",
     "output_type": "stream",
     "text": [
      "('JAYARAM', 23, 34567, '2017-02-28')\n",
      "('Vedhanvesh', 24, 2859596, '2018-06-14')\n"
     ]
    }
   ],
   "source": [
    "class Emp:\n",
    "    company_name=\"KHYAATHi\"\n",
    "    company_address=\"Maithrivanam\"\n",
    "    def set_data(self, e_name, e_age,e_sal,e_doj):\n",
    "        self.name=e_name\n",
    "        self.doj=e_doj\n",
    "        self.sal=e_sal\n",
    "        self.age=e_age\n",
    "    def get(self):\n",
    "        return self.name, self.age,self.sal,self.doj\n",
    "jay=Emp()\n",
    "jay.set_data(\"JAYARAM\",23,34567,\"2017-02-28\")\n",
    "vedha = Emp()\n",
    "vedha.set_data(\"Vedhanvesh\",24,2859596,\"2018-06-14\")\n",
    "print(jay.get())\n",
    "print(vedha.get())"
   ]
  },
  {
   "cell_type": "code",
   "execution_count": 23,
   "metadata": {},
   "outputs": [
    {
     "name": "stdout",
     "output_type": "stream",
     "text": [
      "2313844428472\n",
      "2313844428472\n",
      "2313844494856\n",
      "2313844494856\n",
      "('JAYARAM', 23, 34567, '2017-02-28')\n",
      "('Vedhanvesh', 24, 2859596, '2018-06-14')\n"
     ]
    }
   ],
   "source": [
    "class Emp:\n",
    "    company_name=\"KHYAATHi\"\n",
    "    company_address=\"Maithrivanam\"\n",
    "    def set_data(self, e_name, e_age,e_sal,e_doj):\n",
    "        print(id(self))\n",
    "        self.name=e_name\n",
    "        self.doj=e_doj\n",
    "        self.sal=e_sal\n",
    "        self.age=e_age\n",
    "    def get(self):\n",
    "        return self.name, self.age,self.sal,self.doj\n",
    "jay=Emp()\n",
    "print(id(jay))\n",
    "jay.set_data(\"JAYARAM\",23,34567,\"2017-02-28\")\n",
    "vedha = Emp()\n",
    "print(id(vedha))\n",
    "vedha.set_data(\"Vedhanvesh\",24,2859596,\"2018-06-14\")\n",
    "print(jay.get())\n",
    "print(vedha.get())"
   ]
  },
  {
   "cell_type": "code",
   "execution_count": 24,
   "metadata": {},
   "outputs": [
    {
     "name": "stdout",
     "output_type": "stream",
     "text": [
      "('JAYARAM', 23, 34567, '2017-02-28')\n",
      "('Vedhanvesh', 24, 2859596, '2018-06-14')\n"
     ]
    },
    {
     "ename": "AttributeError",
     "evalue": "'Emp' object has no attribute 'name'",
     "output_type": "error",
     "traceback": [
      "\u001b[1;31m---------------------------------------------------------------------------\u001b[0m",
      "\u001b[1;31mAttributeError\u001b[0m                            Traceback (most recent call last)",
      "\u001b[1;32m<ipython-input-24-e57be429968f>\u001b[0m in \u001b[0;36m<module>\u001b[1;34m\u001b[0m\n\u001b[0;32m     16\u001b[0m \u001b[0mprint\u001b[0m\u001b[1;33m(\u001b[0m\u001b[0mvedha\u001b[0m\u001b[1;33m.\u001b[0m\u001b[0mget\u001b[0m\u001b[1;33m(\u001b[0m\u001b[1;33m)\u001b[0m\u001b[1;33m)\u001b[0m\u001b[1;33m\u001b[0m\u001b[1;33m\u001b[0m\u001b[0m\n\u001b[0;32m     17\u001b[0m \u001b[0msai\u001b[0m\u001b[1;33m=\u001b[0m\u001b[0mEmp\u001b[0m\u001b[1;33m(\u001b[0m\u001b[1;33m)\u001b[0m\u001b[1;33m\u001b[0m\u001b[1;33m\u001b[0m\u001b[0m\n\u001b[1;32m---> 18\u001b[1;33m \u001b[0mprint\u001b[0m\u001b[1;33m(\u001b[0m\u001b[0msai\u001b[0m\u001b[1;33m.\u001b[0m\u001b[0mget\u001b[0m\u001b[1;33m(\u001b[0m\u001b[1;33m)\u001b[0m\u001b[1;33m)\u001b[0m\u001b[1;33m\u001b[0m\u001b[1;33m\u001b[0m\u001b[0m\n\u001b[0m",
      "\u001b[1;32m<ipython-input-24-e57be429968f>\u001b[0m in \u001b[0;36mget\u001b[1;34m(self)\u001b[0m\n\u001b[0;32m      8\u001b[0m         \u001b[0mself\u001b[0m\u001b[1;33m.\u001b[0m\u001b[0mage\u001b[0m\u001b[1;33m=\u001b[0m\u001b[0me_age\u001b[0m\u001b[1;33m\u001b[0m\u001b[1;33m\u001b[0m\u001b[0m\n\u001b[0;32m      9\u001b[0m     \u001b[1;32mdef\u001b[0m \u001b[0mget\u001b[0m\u001b[1;33m(\u001b[0m\u001b[0mself\u001b[0m\u001b[1;33m)\u001b[0m\u001b[1;33m:\u001b[0m\u001b[1;33m\u001b[0m\u001b[1;33m\u001b[0m\u001b[0m\n\u001b[1;32m---> 10\u001b[1;33m         \u001b[1;32mreturn\u001b[0m \u001b[0mself\u001b[0m\u001b[1;33m.\u001b[0m\u001b[0mname\u001b[0m\u001b[1;33m,\u001b[0m \u001b[0mself\u001b[0m\u001b[1;33m.\u001b[0m\u001b[0mage\u001b[0m\u001b[1;33m,\u001b[0m\u001b[0mself\u001b[0m\u001b[1;33m.\u001b[0m\u001b[0msal\u001b[0m\u001b[1;33m,\u001b[0m\u001b[0mself\u001b[0m\u001b[1;33m.\u001b[0m\u001b[0mdoj\u001b[0m\u001b[1;33m\u001b[0m\u001b[1;33m\u001b[0m\u001b[0m\n\u001b[0m\u001b[0;32m     11\u001b[0m \u001b[0mjay\u001b[0m\u001b[1;33m=\u001b[0m\u001b[0mEmp\u001b[0m\u001b[1;33m(\u001b[0m\u001b[1;33m)\u001b[0m\u001b[1;33m\u001b[0m\u001b[1;33m\u001b[0m\u001b[0m\n\u001b[0;32m     12\u001b[0m \u001b[0mjay\u001b[0m\u001b[1;33m.\u001b[0m\u001b[0mset_data\u001b[0m\u001b[1;33m(\u001b[0m\u001b[1;34m\"JAYARAM\"\u001b[0m\u001b[1;33m,\u001b[0m\u001b[1;36m23\u001b[0m\u001b[1;33m,\u001b[0m\u001b[1;36m34567\u001b[0m\u001b[1;33m,\u001b[0m\u001b[1;34m\"2017-02-28\"\u001b[0m\u001b[1;33m)\u001b[0m\u001b[1;33m\u001b[0m\u001b[1;33m\u001b[0m\u001b[0m\n",
      "\u001b[1;31mAttributeError\u001b[0m: 'Emp' object has no attribute 'name'"
     ]
    }
   ],
   "source": [
    "class Emp:\n",
    "    company_name=\"KHYAATHi\"\n",
    "    company_address=\"Maithrivanam\"\n",
    "    def set_data(self, e_name, e_age,e_sal,e_doj):\n",
    "        self.name=e_name\n",
    "        self.doj=e_doj\n",
    "        self.sal=e_sal\n",
    "        self.age=e_age\n",
    "    def get(self):\n",
    "        return self.name, self.age,self.sal,self.doj\n",
    "jay=Emp()\n",
    "jay.set_data(\"JAYARAM\",23,34567,\"2017-02-28\")\n",
    "vedha = Emp()\n",
    "vedha.set_data(\"Vedhanvesh\",24,2859596,\"2018-06-14\")\n",
    "print(jay.get())\n",
    "print(vedha.get())\n",
    "sai=Emp()\n",
    "print(sai.get())"
   ]
  },
  {
   "cell_type": "code",
   "execution_count": 25,
   "metadata": {},
   "outputs": [
    {
     "name": "stdout",
     "output_type": "stream",
     "text": [
      "this is class\n"
     ]
    }
   ],
   "source": [
    "class Emp:\n",
    "    print(\"this is class\")\n",
    "    def get(self):\n",
    "        print(\"this is get\")\n",
    "        return self.name, self.age\n",
    "    def __init__(self):\n",
    "        print(\"this is init\")\n",
    "    "
   ]
  },
  {
   "cell_type": "code",
   "execution_count": 26,
   "metadata": {},
   "outputs": [
    {
     "name": "stdout",
     "output_type": "stream",
     "text": [
      "this is class\n",
      "this is init\n",
      "this is init\n"
     ]
    }
   ],
   "source": [
    "class Emp:\n",
    "    print(\"this is class\")\n",
    "    def get(self):\n",
    "        print(\"this is get\")\n",
    "        return self.name, self.age\n",
    "    def __init__(self):\n",
    "        print(\"this is init\")\n",
    "    \n",
    "jay=Emp()\n",
    "vedha=Emp()"
   ]
  },
  {
   "cell_type": "code",
   "execution_count": 27,
   "metadata": {},
   "outputs": [
    {
     "name": "stdout",
     "output_type": "stream",
     "text": [
      "this is class\n",
      "this is init\n",
      "this is init\n",
      "this is init\n"
     ]
    }
   ],
   "source": [
    "class Emp:\n",
    "    print(\"this is class\")\n",
    "    def get(self):\n",
    "        print(\"this is get\")\n",
    "        return self.name, self.age\n",
    "    def __init__(self):\n",
    "        print(\"this is init\")\n",
    "    \n",
    "jay=Emp()\n",
    "vedha=Emp()\n",
    "sai=Emp()"
   ]
  },
  {
   "cell_type": "code",
   "execution_count": 28,
   "metadata": {},
   "outputs": [
    {
     "name": "stdout",
     "output_type": "stream",
     "text": [
      "this is class\n",
      "JAYARAM 23 2345\n",
      "this is init\n",
      "VEDHANVESH 34 4567\n",
      "this is init\n"
     ]
    }
   ],
   "source": [
    "class Emp:\n",
    "    print(\"this is class\")\n",
    "    def get(self):\n",
    "        print(\"this is get\")\n",
    "        return self.name, self.age\n",
    "    def __init__(self, name, age, sal):\n",
    "        print(name, age, sal)\n",
    "        print(\"this is init\")\n",
    "    \n",
    "jay=Emp(\"JAYARAM\",23,2345)\n",
    "vedha=Emp(\"VEDHANVESH\",34,4567)\n"
   ]
  },
  {
   "cell_type": "code",
   "execution_count": 29,
   "metadata": {},
   "outputs": [
    {
     "name": "stdout",
     "output_type": "stream",
     "text": [
      "('JAYARAM', 23, 34567, '2017-02-28')\n",
      "('Vedhanvesh', 24, 2859596, '2018-06-14')\n"
     ]
    }
   ],
   "source": [
    "class Emp:\n",
    "    company_name=\"KHYAATHi\"\n",
    "    company_address=\"Maithrivanam\"\n",
    "    def __init__(self, e_name, e_age,e_sal,e_doj):\n",
    "        self.name=e_name\n",
    "        self.doj=e_doj\n",
    "        self.sal=e_sal\n",
    "        self.age=e_age\n",
    "    def get(self):\n",
    "        return self.name, self.age,self.sal,self.doj\n",
    "jay=Emp(\"JAYARAM\",23,34567,\"2017-02-28\")\n",
    "vedha = Emp(\"Vedhanvesh\",24,2859596,\"2018-06-14\")\n",
    "print(jay.get())\n",
    "print(vedha.get())"
   ]
  },
  {
   "cell_type": "code",
   "execution_count": 30,
   "metadata": {},
   "outputs": [
    {
     "name": "stdout",
     "output_type": "stream",
     "text": [
      "('JAYARAM', 23, 34567, '2017-02-28')\n",
      "('Vedhanvesh', 24, 2859596, '2018-06-14')\n"
     ]
    },
    {
     "ename": "TypeError",
     "evalue": "__init__() missing 4 required positional arguments: 'e_name', 'e_age', 'e_sal', and 'e_doj'",
     "output_type": "error",
     "traceback": [
      "\u001b[1;31m---------------------------------------------------------------------------\u001b[0m",
      "\u001b[1;31mTypeError\u001b[0m                                 Traceback (most recent call last)",
      "\u001b[1;32m<ipython-input-30-07b4f708d254>\u001b[0m in \u001b[0;36m<module>\u001b[1;34m\u001b[0m\n\u001b[0;32m     13\u001b[0m \u001b[0mprint\u001b[0m\u001b[1;33m(\u001b[0m\u001b[0mjay\u001b[0m\u001b[1;33m.\u001b[0m\u001b[0mget\u001b[0m\u001b[1;33m(\u001b[0m\u001b[1;33m)\u001b[0m\u001b[1;33m)\u001b[0m\u001b[1;33m\u001b[0m\u001b[1;33m\u001b[0m\u001b[0m\n\u001b[0;32m     14\u001b[0m \u001b[0mprint\u001b[0m\u001b[1;33m(\u001b[0m\u001b[0mvedha\u001b[0m\u001b[1;33m.\u001b[0m\u001b[0mget\u001b[0m\u001b[1;33m(\u001b[0m\u001b[1;33m)\u001b[0m\u001b[1;33m)\u001b[0m\u001b[1;33m\u001b[0m\u001b[1;33m\u001b[0m\u001b[0m\n\u001b[1;32m---> 15\u001b[1;33m \u001b[0msai\u001b[0m\u001b[1;33m=\u001b[0m\u001b[0mEmp\u001b[0m\u001b[1;33m(\u001b[0m\u001b[1;33m)\u001b[0m\u001b[1;33m\u001b[0m\u001b[1;33m\u001b[0m\u001b[0m\n\u001b[0m",
      "\u001b[1;31mTypeError\u001b[0m: __init__() missing 4 required positional arguments: 'e_name', 'e_age', 'e_sal', and 'e_doj'"
     ]
    }
   ],
   "source": [
    "class Emp:\n",
    "    company_name=\"KHYAATHi\"\n",
    "    company_address=\"Maithrivanam\"\n",
    "    def __init__(self, e_name, e_age,e_sal,e_doj):\n",
    "        self.name=e_name\n",
    "        self.doj=e_doj\n",
    "        self.sal=e_sal\n",
    "        self.age=e_age\n",
    "    def get(self):\n",
    "        return self.name, self.age,self.sal,self.doj\n",
    "jay=Emp(\"JAYARAM\",23,34567,\"2017-02-28\")\n",
    "vedha = Emp(\"Vedhanvesh\",24,2859596,\"2018-06-14\")\n",
    "print(jay.get())\n",
    "print(vedha.get())\n",
    "sai=Emp()"
   ]
  },
  {
   "cell_type": "code",
   "execution_count": null,
   "metadata": {},
   "outputs": [],
   "source": []
  }
 ],
 "metadata": {
  "kernelspec": {
   "display_name": "Python 3",
   "language": "python",
   "name": "python3"
  },
  "language_info": {
   "codemirror_mode": {
    "name": "ipython",
    "version": 3
   },
   "file_extension": ".py",
   "mimetype": "text/x-python",
   "name": "python",
   "nbconvert_exporter": "python",
   "pygments_lexer": "ipython3",
   "version": "3.7.3"
  }
 },
 "nbformat": 4,
 "nbformat_minor": 2
}
