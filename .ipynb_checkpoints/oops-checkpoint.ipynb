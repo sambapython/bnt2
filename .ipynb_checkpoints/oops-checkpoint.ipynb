{
 "cells": [
  {
   "cell_type": "code",
   "execution_count": 1,
   "metadata": {},
   "outputs": [
    {
     "name": "stdout",
     "output_type": "stream",
     "text": [
      "this is class\n"
     ]
    }
   ],
   "source": [
    "def fun():\n",
    "    print(\"this is fun\")\n",
    "class Emp:\n",
    "    print(\"this is class\")"
   ]
  },
  {
   "cell_type": "code",
   "execution_count": 2,
   "metadata": {},
   "outputs": [
    {
     "name": "stdout",
     "output_type": "stream",
     "text": [
      "this is class\n",
      "this is fun\n"
     ]
    }
   ],
   "source": [
    "def fun():\n",
    "    print(\"this is fun\")\n",
    "class Emp:\n",
    "    print(\"this is class\")\n",
    "fun()"
   ]
  },
  {
   "cell_type": "code",
   "execution_count": 3,
   "metadata": {},
   "outputs": [
    {
     "name": "stdout",
     "output_type": "stream",
     "text": [
      "this is class\n"
     ]
    }
   ],
   "source": [
    "def fun():\n",
    "    print(\"this is fun\")\n",
    "class Emp:\n",
    "    print(\"this is class\")\n",
    "    a=1000\n",
    "    b=2000\n",
    "    def get(x):\n",
    "        print(\"this is get in Emp class\")"
   ]
  },
  {
   "cell_type": "code",
   "execution_count": 6,
   "metadata": {},
   "outputs": [
    {
     "name": "stdout",
     "output_type": "stream",
     "text": [
      "this is class\n",
      "1000\n",
      "2000\n"
     ]
    }
   ],
   "source": [
    "def fun():\n",
    "    print(\"this is fun\")\n",
    "class Emp:\n",
    "    print(\"this is class\")\n",
    "    a=1000\n",
    "    b=2000\n",
    "    def get(x):\n",
    "        print(\"this is get in Emp class\")\n",
    "print(Emp.a)\n",
    "print(Emp.b)"
   ]
  },
  {
   "cell_type": "code",
   "execution_count": 7,
   "metadata": {},
   "outputs": [
    {
     "name": "stdout",
     "output_type": "stream",
     "text": [
      "this is class\n",
      "1000\n",
      "2000\n",
      "this is get in Emp class\n"
     ]
    }
   ],
   "source": [
    "def fun():\n",
    "    print(\"this is fun\")\n",
    "class Emp:\n",
    "    print(\"this is class\")\n",
    "    a=1000\n",
    "    b=2000\n",
    "    def get(x):\n",
    "        print(\"this is get in Emp class\")\n",
    "        \n",
    "print(Emp.a)\n",
    "print(Emp.b)\n",
    "Emp.get(100)"
   ]
  },
  {
   "cell_type": "code",
   "execution_count": 8,
   "metadata": {},
   "outputs": [
    {
     "name": "stdout",
     "output_type": "stream",
     "text": [
      "this is class\n",
      "<class '__main__.Emp'>\n"
     ]
    }
   ],
   "source": [
    "def fun():\n",
    "    print(\"this is fun\")\n",
    "class Emp:\n",
    "    print(\"this is class\")\n",
    "    a=1000\n",
    "    b=2000\n",
    "    def get(x):\n",
    "        print(\"this is get in Emp class\")\n",
    "print(Emp)"
   ]
  },
  {
   "cell_type": "code",
   "execution_count": 9,
   "metadata": {},
   "outputs": [
    {
     "name": "stdout",
     "output_type": "stream",
     "text": [
      "Maithrivanam\n",
      "KHYAATHi\n"
     ]
    }
   ],
   "source": [
    "class Emp:\n",
    "    company_name=\"KHYAATHi\"\n",
    "    company_address=\"Maithrivanam\"\n",
    "    def get(x):\n",
    "        print(\"this is get in Emp class\")\n",
    "print(Emp.company_address)\n",
    "print(Emp.company_name)"
   ]
  },
  {
   "cell_type": "code",
   "execution_count": 10,
   "metadata": {},
   "outputs": [
    {
     "name": "stdout",
     "output_type": "stream",
     "text": [
      "Maithrivanam\n",
      "KHYAATHi\n",
      "this is get in Emp class\n"
     ]
    }
   ],
   "source": [
    "class Emp:\n",
    "    company_name=\"KHYAATHi\"\n",
    "    company_address=\"Maithrivanam\"\n",
    "    def get(x):\n",
    "        print(\"this is get in Emp class\")\n",
    "print(Emp.company_address)\n",
    "print(Emp.company_name)\n",
    "Emp.get(10)"
   ]
  },
  {
   "cell_type": "code",
   "execution_count": 11,
   "metadata": {},
   "outputs": [],
   "source": [
    "class Emp:\n",
    "    company_name=\"KHYAATHi\"\n",
    "    company_address=\"Maithrivanam\"\n",
    "    def get(x):\n",
    "        print(\"this is get in Emp class\")\n",
    "jay=Emp()"
   ]
  },
  {
   "cell_type": "code",
   "execution_count": 12,
   "metadata": {},
   "outputs": [
    {
     "name": "stdout",
     "output_type": "stream",
     "text": [
      "<class '__main__.Emp'>\n",
      "<__main__.Emp object at 0x0000021ABBE04828>\n"
     ]
    }
   ],
   "source": [
    "class Emp:\n",
    "    company_name=\"KHYAATHi\"\n",
    "    company_address=\"Maithrivanam\"\n",
    "    def get(x):\n",
    "        print(\"this is get in Emp class\")\n",
    "jay=Emp()\n",
    "print(Emp) # class object\n",
    "print(jay) # data object"
   ]
  },
  {
   "cell_type": "code",
   "execution_count": 13,
   "metadata": {},
   "outputs": [],
   "source": [
    "class Emp:\n",
    "    company_name=\"KHYAATHi\"\n",
    "    company_address=\"Maithrivanam\"\n",
    "    def get(x):\n",
    "        print(\"this is get in Emp class\")\n",
    "jay=Emp()\n",
    "jay.name=\"JAYARAM\"\n",
    "jay.doj=\"2017-02-28\"\n",
    "vedha = Emp()\n",
    "vedha.age=23\n",
    "vedha.sal=234"
   ]
  },
  {
   "cell_type": "code",
   "execution_count": 14,
   "metadata": {},
   "outputs": [
    {
     "name": "stdout",
     "output_type": "stream",
     "text": [
      "JAYARAM\n",
      "234\n"
     ]
    },
    {
     "ename": "AttributeError",
     "evalue": "'Emp' object has no attribute 'name'",
     "output_type": "error",
     "traceback": [
      "\u001b[1;31m---------------------------------------------------------------------------\u001b[0m",
      "\u001b[1;31mAttributeError\u001b[0m                            Traceback (most recent call last)",
      "\u001b[1;32m<ipython-input-14-a7ef4bc928d2>\u001b[0m in \u001b[0;36m<module>\u001b[1;34m\u001b[0m\n\u001b[0;32m     12\u001b[0m \u001b[0mprint\u001b[0m\u001b[1;33m(\u001b[0m\u001b[0mjay\u001b[0m\u001b[1;33m.\u001b[0m\u001b[0mname\u001b[0m\u001b[1;33m)\u001b[0m\u001b[1;33m\u001b[0m\u001b[1;33m\u001b[0m\u001b[0m\n\u001b[0;32m     13\u001b[0m \u001b[0mprint\u001b[0m\u001b[1;33m(\u001b[0m\u001b[0mvedha\u001b[0m\u001b[1;33m.\u001b[0m\u001b[0msal\u001b[0m\u001b[1;33m)\u001b[0m\u001b[1;33m\u001b[0m\u001b[1;33m\u001b[0m\u001b[0m\n\u001b[1;32m---> 14\u001b[1;33m \u001b[0mprint\u001b[0m\u001b[1;33m(\u001b[0m\u001b[0mvedha\u001b[0m\u001b[1;33m.\u001b[0m\u001b[0mname\u001b[0m\u001b[1;33m)\u001b[0m\u001b[1;33m\u001b[0m\u001b[1;33m\u001b[0m\u001b[0m\n\u001b[0m",
      "\u001b[1;31mAttributeError\u001b[0m: 'Emp' object has no attribute 'name'"
     ]
    }
   ],
   "source": [
    "class Emp:\n",
    "    company_name=\"KHYAATHi\"\n",
    "    company_address=\"Maithrivanam\"\n",
    "    def get(x):\n",
    "        print(\"this is get in Emp class\")\n",
    "jay=Emp()\n",
    "jay.name=\"JAYARAM\"\n",
    "jay.doj=\"2017-02-28\"\n",
    "vedha = Emp()\n",
    "vedha.age=23\n",
    "vedha.sal=234\n",
    "print(jay.name)\n",
    "print(vedha.sal)\n",
    "print(vedha.name)"
   ]
  },
  {
   "cell_type": "code",
   "execution_count": 15,
   "metadata": {},
   "outputs": [],
   "source": [
    "class Emp:\n",
    "    company_name=\"KHYAATHi\"\n",
    "    company_address=\"Maithrivanam\"\n",
    "    def get(x):\n",
    "        print(\"this is get in Emp class\")\n",
    "jay=Emp()\n",
    "jay.name=\"JAYARAM\"\n",
    "jay.doj=\"2017-02-28\"\n",
    "jay.sal=2345\n",
    "jay.age=24\n",
    "vedha = Emp()\n",
    "vedha.name=\"vedhanvesh\"\n",
    "vedha.doj=\"2018-09-23\"\n",
    "vedha.sal=3485\n",
    "vedha.age=23\n"
   ]
  },
  {
   "cell_type": "code",
   "execution_count": 16,
   "metadata": {},
   "outputs": [
    {
     "name": "stdout",
     "output_type": "stream",
     "text": [
      "Vedhanvesh\n",
      "JAYARAM\n"
     ]
    }
   ],
   "source": [
    "class Emp:\n",
    "    company_name=\"KHYAATHi\"\n",
    "    company_address=\"Maithrivanam\"\n",
    "    def set_data(x, e_name, e_age,e_sal,e_doj):\n",
    "        x.name=e_name\n",
    "        x.doj=e_doj\n",
    "        x.sal=e_sal\n",
    "        x.ahe=e_age\n",
    "    def get(x):\n",
    "        print(\"this is get in Emp class\")\n",
    "jay=Emp()\n",
    "Emp.set_data(jay,\"JAYARAM\",23,34567,\"2017-02-28\")\n",
    "'''\n",
    "jay.name=\"JAYARAM\"\n",
    "jay.doj=\"2017-02-28\"\n",
    "jay.sal=2345\n",
    "jay.age=24\n",
    "'''\n",
    "vedha = Emp()\n",
    "'''\n",
    "vedha.name=\"vedhanvesh\"\n",
    "vedha.doj=\"2018-09-23\"\n",
    "vedha.sal=3485\n",
    "vedha.age=23\n",
    "'''\n",
    "Emp.set_data(vedha,\"Vedhanvesh\",24,2859596,\"2018-06-14\")\n",
    "print(vedha.name)\n",
    "print(jay.name)"
   ]
  },
  {
   "cell_type": "code",
   "execution_count": 18,
   "metadata": {},
   "outputs": [
    {
     "name": "stdout",
     "output_type": "stream",
     "text": [
      "('JAYARAM', 23, 34567, '2017-02-28')\n",
      "('Vedhanvesh', 24, 2859596, '2018-06-14')\n"
     ]
    }
   ],
   "source": [
    "class Emp:\n",
    "    company_name=\"KHYAATHi\"\n",
    "    company_address=\"Maithrivanam\"\n",
    "    def set_data(x, e_name, e_age,e_sal,e_doj):\n",
    "        x.name=e_name\n",
    "        x.doj=e_doj\n",
    "        x.sal=e_sal\n",
    "        x.age=e_age\n",
    "    def get(x):\n",
    "        return x.name,x.age,x.sal,x.doj\n",
    "jay=Emp()\n",
    "Emp.set_data(jay,\"JAYARAM\",23,34567,\"2017-02-28\")\n",
    "vedha = Emp()\n",
    "Emp.set_data(vedha,\"Vedhanvesh\",24,2859596,\"2018-06-14\")\n",
    "print(Emp.get(jay))\n",
    "print(Emp.get(vedha))"
   ]
  },
  {
   "cell_type": "code",
   "execution_count": 19,
   "metadata": {},
   "outputs": [
    {
     "name": "stdout",
     "output_type": "stream",
     "text": [
      "('JAYARAM', 23, 34567, '2017-02-28')\n",
      "('Vedhanvesh', 24, 2859596, '2018-06-14')\n"
     ]
    }
   ],
   "source": [
    "class Emp:\n",
    "    company_name=\"KHYAATHi\"\n",
    "    company_address=\"Maithrivanam\"\n",
    "    def set_data(x, e_name, e_age,e_sal,e_doj):\n",
    "        x.name=e_name\n",
    "        x.doj=e_doj\n",
    "        x.sal=e_sal\n",
    "        x.age=e_age\n",
    "    def get(x):\n",
    "        return x.name,x.age,x.sal,x.doj\n",
    "jay=Emp()\n",
    "#Emp.set_data(jay,\"JAYARAM\",23,34567,\"2017-02-28\")\n",
    "jay.set_data(\"JAYARAM\",23,34567,\"2017-02-28\")\n",
    "vedha = Emp()\n",
    "#Emp.set_data(vedha,\"Vedhanvesh\",24,2859596,\"2018-06-14\")\n",
    "vedha.set_data(\"Vedhanvesh\",24,2859596,\"2018-06-14\")\n",
    "print(Emp.get(jay))\n",
    "print(Emp.get(vedha))"
   ]
  },
  {
   "cell_type": "code",
   "execution_count": 20,
   "metadata": {},
   "outputs": [
    {
     "name": "stdout",
     "output_type": "stream",
     "text": [
      "('JAYARAM', 23, 34567, '2017-02-28')\n",
      "('Vedhanvesh', 24, 2859596, '2018-06-14')\n"
     ]
    }
   ],
   "source": [
    "class Emp:\n",
    "    company_name=\"KHYAATHi\"\n",
    "    company_address=\"Maithrivanam\"\n",
    "    def set_data(x, e_name, e_age,e_sal,e_doj):\n",
    "        x.name=e_name\n",
    "        x.doj=e_doj\n",
    "        x.sal=e_sal\n",
    "        x.age=e_age\n",
    "    def get(x):\n",
    "        return x.name,x.age,x.sal,x.doj\n",
    "jay=Emp()\n",
    "jay.set_data(\"JAYARAM\",23,34567,\"2017-02-28\")\n",
    "vedha = Emp()\n",
    "vedha.set_data(\"Vedhanvesh\",24,2859596,\"2018-06-14\")\n",
    "print(Emp.get(jay))\n",
    "print(Emp.get(vedha))"
   ]
  },
  {
   "cell_type": "code",
   "execution_count": 21,
   "metadata": {},
   "outputs": [
    {
     "ename": "TypeError",
     "evalue": "set_data() takes 4 positional arguments but 5 were given",
     "output_type": "error",
     "traceback": [
      "\u001b[1;31m---------------------------------------------------------------------------\u001b[0m",
      "\u001b[1;31mTypeError\u001b[0m                                 Traceback (most recent call last)",
      "\u001b[1;32m<ipython-input-21-d5a423a4c3bb>\u001b[0m in \u001b[0;36m<module>\u001b[1;34m\u001b[0m\n\u001b[0;32m     10\u001b[0m         \u001b[1;32mreturn\u001b[0m \u001b[0mx\u001b[0m\u001b[1;33m.\u001b[0m\u001b[0mname\u001b[0m\u001b[1;33m,\u001b[0m\u001b[0mx\u001b[0m\u001b[1;33m.\u001b[0m\u001b[0mage\u001b[0m\u001b[1;33m,\u001b[0m\u001b[0mx\u001b[0m\u001b[1;33m.\u001b[0m\u001b[0msal\u001b[0m\u001b[1;33m,\u001b[0m\u001b[0mx\u001b[0m\u001b[1;33m.\u001b[0m\u001b[0mdoj\u001b[0m\u001b[1;33m\u001b[0m\u001b[1;33m\u001b[0m\u001b[0m\n\u001b[0;32m     11\u001b[0m \u001b[0mjay\u001b[0m\u001b[1;33m=\u001b[0m\u001b[0mEmp\u001b[0m\u001b[1;33m(\u001b[0m\u001b[1;33m)\u001b[0m\u001b[1;33m\u001b[0m\u001b[1;33m\u001b[0m\u001b[0m\n\u001b[1;32m---> 12\u001b[1;33m \u001b[0mjay\u001b[0m\u001b[1;33m.\u001b[0m\u001b[0mset_data\u001b[0m\u001b[1;33m(\u001b[0m\u001b[1;34m\"JAYARAM\"\u001b[0m\u001b[1;33m,\u001b[0m\u001b[1;36m23\u001b[0m\u001b[1;33m,\u001b[0m\u001b[1;36m34567\u001b[0m\u001b[1;33m,\u001b[0m\u001b[1;34m\"2017-02-28\"\u001b[0m\u001b[1;33m)\u001b[0m\u001b[1;33m\u001b[0m\u001b[1;33m\u001b[0m\u001b[0m\n\u001b[0m\u001b[0;32m     13\u001b[0m \u001b[0mvedha\u001b[0m \u001b[1;33m=\u001b[0m \u001b[0mEmp\u001b[0m\u001b[1;33m(\u001b[0m\u001b[1;33m)\u001b[0m\u001b[1;33m\u001b[0m\u001b[1;33m\u001b[0m\u001b[0m\n\u001b[0;32m     14\u001b[0m \u001b[0mvedha\u001b[0m\u001b[1;33m.\u001b[0m\u001b[0mset_data\u001b[0m\u001b[1;33m(\u001b[0m\u001b[1;34m\"Vedhanvesh\"\u001b[0m\u001b[1;33m,\u001b[0m\u001b[1;36m24\u001b[0m\u001b[1;33m,\u001b[0m\u001b[1;36m2859596\u001b[0m\u001b[1;33m,\u001b[0m\u001b[1;34m\"2018-06-14\"\u001b[0m\u001b[1;33m)\u001b[0m\u001b[1;33m\u001b[0m\u001b[1;33m\u001b[0m\u001b[0m\n",
      "\u001b[1;31mTypeError\u001b[0m: set_data() takes 4 positional arguments but 5 were given"
     ]
    }
   ],
   "source": [
    "class Emp:\n",
    "    company_name=\"KHYAATHi\"\n",
    "    company_address=\"Maithrivanam\"\n",
    "    def set_data(e_name, e_age,e_sal,e_doj):\n",
    "        x.name=e_name\n",
    "        x.doj=e_doj\n",
    "        x.sal=e_sal\n",
    "        x.age=e_age\n",
    "    def get(x):\n",
    "        return x.name,x.age,x.sal,x.doj\n",
    "jay=Emp()\n",
    "jay.set_data(\"JAYARAM\",23,34567,\"2017-02-28\")\n",
    "vedha = Emp()\n",
    "vedha.set_data(\"Vedhanvesh\",24,2859596,\"2018-06-14\")\n",
    "print(Emp.get(jay))\n",
    "print(Emp.get(vedha))"
   ]
  },
  {
   "cell_type": "code",
   "execution_count": 22,
   "metadata": {},
   "outputs": [
    {
     "name": "stdout",
     "output_type": "stream",
     "text": [
      "('JAYARAM', 23, 34567, '2017-02-28')\n",
      "('Vedhanvesh', 24, 2859596, '2018-06-14')\n"
     ]
    }
   ],
   "source": [
    "class Emp:\n",
    "    company_name=\"KHYAATHi\"\n",
    "    company_address=\"Maithrivanam\"\n",
    "    def set_data(self, e_name, e_age,e_sal,e_doj):\n",
    "        self.name=e_name\n",
    "        self.doj=e_doj\n",
    "        self.sal=e_sal\n",
    "        self.age=e_age\n",
    "    def get(self):\n",
    "        return self.name, self.age,self.sal,self.doj\n",
    "jay=Emp()\n",
    "jay.set_data(\"JAYARAM\",23,34567,\"2017-02-28\")\n",
    "vedha = Emp()\n",
    "vedha.set_data(\"Vedhanvesh\",24,2859596,\"2018-06-14\")\n",
    "print(jay.get())\n",
    "print(vedha.get())"
   ]
  },
  {
   "cell_type": "code",
   "execution_count": 23,
   "metadata": {},
   "outputs": [
    {
     "name": "stdout",
     "output_type": "stream",
     "text": [
      "2313844428472\n",
      "2313844428472\n",
      "2313844494856\n",
      "2313844494856\n",
      "('JAYARAM', 23, 34567, '2017-02-28')\n",
      "('Vedhanvesh', 24, 2859596, '2018-06-14')\n"
     ]
    }
   ],
   "source": [
    "class Emp:\n",
    "    company_name=\"KHYAATHi\"\n",
    "    company_address=\"Maithrivanam\"\n",
    "    def set_data(self, e_name, e_age,e_sal,e_doj):\n",
    "        print(id(self))\n",
    "        self.name=e_name\n",
    "        self.doj=e_doj\n",
    "        self.sal=e_sal\n",
    "        self.age=e_age\n",
    "    def get(self):\n",
    "        return self.name, self.age,self.sal,self.doj\n",
    "jay=Emp()\n",
    "print(id(jay))\n",
    "jay.set_data(\"JAYARAM\",23,34567,\"2017-02-28\")\n",
    "vedha = Emp()\n",
    "print(id(vedha))\n",
    "vedha.set_data(\"Vedhanvesh\",24,2859596,\"2018-06-14\")\n",
    "print(jay.get())\n",
    "print(vedha.get())"
   ]
  },
  {
   "cell_type": "code",
   "execution_count": 24,
   "metadata": {},
   "outputs": [
    {
     "name": "stdout",
     "output_type": "stream",
     "text": [
      "('JAYARAM', 23, 34567, '2017-02-28')\n",
      "('Vedhanvesh', 24, 2859596, '2018-06-14')\n"
     ]
    },
    {
     "ename": "AttributeError",
     "evalue": "'Emp' object has no attribute 'name'",
     "output_type": "error",
     "traceback": [
      "\u001b[1;31m---------------------------------------------------------------------------\u001b[0m",
      "\u001b[1;31mAttributeError\u001b[0m                            Traceback (most recent call last)",
      "\u001b[1;32m<ipython-input-24-e57be429968f>\u001b[0m in \u001b[0;36m<module>\u001b[1;34m\u001b[0m\n\u001b[0;32m     16\u001b[0m \u001b[0mprint\u001b[0m\u001b[1;33m(\u001b[0m\u001b[0mvedha\u001b[0m\u001b[1;33m.\u001b[0m\u001b[0mget\u001b[0m\u001b[1;33m(\u001b[0m\u001b[1;33m)\u001b[0m\u001b[1;33m)\u001b[0m\u001b[1;33m\u001b[0m\u001b[1;33m\u001b[0m\u001b[0m\n\u001b[0;32m     17\u001b[0m \u001b[0msai\u001b[0m\u001b[1;33m=\u001b[0m\u001b[0mEmp\u001b[0m\u001b[1;33m(\u001b[0m\u001b[1;33m)\u001b[0m\u001b[1;33m\u001b[0m\u001b[1;33m\u001b[0m\u001b[0m\n\u001b[1;32m---> 18\u001b[1;33m \u001b[0mprint\u001b[0m\u001b[1;33m(\u001b[0m\u001b[0msai\u001b[0m\u001b[1;33m.\u001b[0m\u001b[0mget\u001b[0m\u001b[1;33m(\u001b[0m\u001b[1;33m)\u001b[0m\u001b[1;33m)\u001b[0m\u001b[1;33m\u001b[0m\u001b[1;33m\u001b[0m\u001b[0m\n\u001b[0m",
      "\u001b[1;32m<ipython-input-24-e57be429968f>\u001b[0m in \u001b[0;36mget\u001b[1;34m(self)\u001b[0m\n\u001b[0;32m      8\u001b[0m         \u001b[0mself\u001b[0m\u001b[1;33m.\u001b[0m\u001b[0mage\u001b[0m\u001b[1;33m=\u001b[0m\u001b[0me_age\u001b[0m\u001b[1;33m\u001b[0m\u001b[1;33m\u001b[0m\u001b[0m\n\u001b[0;32m      9\u001b[0m     \u001b[1;32mdef\u001b[0m \u001b[0mget\u001b[0m\u001b[1;33m(\u001b[0m\u001b[0mself\u001b[0m\u001b[1;33m)\u001b[0m\u001b[1;33m:\u001b[0m\u001b[1;33m\u001b[0m\u001b[1;33m\u001b[0m\u001b[0m\n\u001b[1;32m---> 10\u001b[1;33m         \u001b[1;32mreturn\u001b[0m \u001b[0mself\u001b[0m\u001b[1;33m.\u001b[0m\u001b[0mname\u001b[0m\u001b[1;33m,\u001b[0m \u001b[0mself\u001b[0m\u001b[1;33m.\u001b[0m\u001b[0mage\u001b[0m\u001b[1;33m,\u001b[0m\u001b[0mself\u001b[0m\u001b[1;33m.\u001b[0m\u001b[0msal\u001b[0m\u001b[1;33m,\u001b[0m\u001b[0mself\u001b[0m\u001b[1;33m.\u001b[0m\u001b[0mdoj\u001b[0m\u001b[1;33m\u001b[0m\u001b[1;33m\u001b[0m\u001b[0m\n\u001b[0m\u001b[0;32m     11\u001b[0m \u001b[0mjay\u001b[0m\u001b[1;33m=\u001b[0m\u001b[0mEmp\u001b[0m\u001b[1;33m(\u001b[0m\u001b[1;33m)\u001b[0m\u001b[1;33m\u001b[0m\u001b[1;33m\u001b[0m\u001b[0m\n\u001b[0;32m     12\u001b[0m \u001b[0mjay\u001b[0m\u001b[1;33m.\u001b[0m\u001b[0mset_data\u001b[0m\u001b[1;33m(\u001b[0m\u001b[1;34m\"JAYARAM\"\u001b[0m\u001b[1;33m,\u001b[0m\u001b[1;36m23\u001b[0m\u001b[1;33m,\u001b[0m\u001b[1;36m34567\u001b[0m\u001b[1;33m,\u001b[0m\u001b[1;34m\"2017-02-28\"\u001b[0m\u001b[1;33m)\u001b[0m\u001b[1;33m\u001b[0m\u001b[1;33m\u001b[0m\u001b[0m\n",
      "\u001b[1;31mAttributeError\u001b[0m: 'Emp' object has no attribute 'name'"
     ]
    }
   ],
   "source": [
    "class Emp:\n",
    "    company_name=\"KHYAATHi\"\n",
    "    company_address=\"Maithrivanam\"\n",
    "    def set_data(self, e_name, e_age,e_sal,e_doj):\n",
    "        self.name=e_name\n",
    "        self.doj=e_doj\n",
    "        self.sal=e_sal\n",
    "        self.age=e_age\n",
    "    def get(self):\n",
    "        return self.name, self.age,self.sal,self.doj\n",
    "jay=Emp()\n",
    "jay.set_data(\"JAYARAM\",23,34567,\"2017-02-28\")\n",
    "vedha = Emp()\n",
    "vedha.set_data(\"Vedhanvesh\",24,2859596,\"2018-06-14\")\n",
    "print(jay.get())\n",
    "print(vedha.get())\n",
    "sai=Emp()\n",
    "print(sai.get())"
   ]
  },
  {
   "cell_type": "code",
   "execution_count": 25,
   "metadata": {},
   "outputs": [
    {
     "name": "stdout",
     "output_type": "stream",
     "text": [
      "this is class\n"
     ]
    }
   ],
   "source": [
    "class Emp:\n",
    "    print(\"this is class\")\n",
    "    def get(self):\n",
    "        print(\"this is get\")\n",
    "        return self.name, self.age\n",
    "    def __init__(self):\n",
    "        print(\"this is init\")\n",
    "    "
   ]
  },
  {
   "cell_type": "code",
   "execution_count": 26,
   "metadata": {},
   "outputs": [
    {
     "name": "stdout",
     "output_type": "stream",
     "text": [
      "this is class\n",
      "this is init\n",
      "this is init\n"
     ]
    }
   ],
   "source": [
    "class Emp:\n",
    "    print(\"this is class\")\n",
    "    def get(self):\n",
    "        print(\"this is get\")\n",
    "        return self.name, self.age\n",
    "    def __init__(self):\n",
    "        print(\"this is init\")\n",
    "    \n",
    "jay=Emp()\n",
    "vedha=Emp()"
   ]
  },
  {
   "cell_type": "code",
   "execution_count": 27,
   "metadata": {},
   "outputs": [
    {
     "name": "stdout",
     "output_type": "stream",
     "text": [
      "this is class\n",
      "this is init\n",
      "this is init\n",
      "this is init\n"
     ]
    }
   ],
   "source": [
    "class Emp:\n",
    "    print(\"this is class\")\n",
    "    def get(self):\n",
    "        print(\"this is get\")\n",
    "        return self.name, self.age\n",
    "    def __init__(self):\n",
    "        print(\"this is init\")\n",
    "    \n",
    "jay=Emp()\n",
    "vedha=Emp()\n",
    "sai=Emp()"
   ]
  },
  {
   "cell_type": "code",
   "execution_count": 28,
   "metadata": {},
   "outputs": [
    {
     "name": "stdout",
     "output_type": "stream",
     "text": [
      "this is class\n",
      "JAYARAM 23 2345\n",
      "this is init\n",
      "VEDHANVESH 34 4567\n",
      "this is init\n"
     ]
    }
   ],
   "source": [
    "class Emp:\n",
    "    print(\"this is class\")\n",
    "    def get(self):\n",
    "        print(\"this is get\")\n",
    "        return self.name, self.age\n",
    "    def __init__(self, name, age, sal):\n",
    "        print(name, age, sal)\n",
    "        print(\"this is init\")\n",
    "    \n",
    "jay=Emp(\"JAYARAM\",23,2345)\n",
    "vedha=Emp(\"VEDHANVESH\",34,4567)\n"
   ]
  },
  {
   "cell_type": "code",
   "execution_count": 29,
   "metadata": {},
   "outputs": [
    {
     "name": "stdout",
     "output_type": "stream",
     "text": [
      "('JAYARAM', 23, 34567, '2017-02-28')\n",
      "('Vedhanvesh', 24, 2859596, '2018-06-14')\n"
     ]
    }
   ],
   "source": [
    "class Emp:\n",
    "    company_name=\"KHYAATHi\"\n",
    "    company_address=\"Maithrivanam\"\n",
    "    def __init__(self, e_name, e_age,e_sal,e_doj):\n",
    "        self.name=e_name\n",
    "        self.doj=e_doj\n",
    "        self.sal=e_sal\n",
    "        self.age=e_age\n",
    "    def get(self):\n",
    "        return self.name, self.age,self.sal,self.doj\n",
    "jay=Emp(\"JAYARAM\",23,34567,\"2017-02-28\")\n",
    "vedha = Emp(\"Vedhanvesh\",24,2859596,\"2018-06-14\")\n",
    "print(jay.get())\n",
    "print(vedha.get())"
   ]
  },
  {
   "cell_type": "code",
   "execution_count": 30,
   "metadata": {},
   "outputs": [
    {
     "name": "stdout",
     "output_type": "stream",
     "text": [
      "('JAYARAM', 23, 34567, '2017-02-28')\n",
      "('Vedhanvesh', 24, 2859596, '2018-06-14')\n"
     ]
    },
    {
     "ename": "TypeError",
     "evalue": "__init__() missing 4 required positional arguments: 'e_name', 'e_age', 'e_sal', and 'e_doj'",
     "output_type": "error",
     "traceback": [
      "\u001b[1;31m---------------------------------------------------------------------------\u001b[0m",
      "\u001b[1;31mTypeError\u001b[0m                                 Traceback (most recent call last)",
      "\u001b[1;32m<ipython-input-30-07b4f708d254>\u001b[0m in \u001b[0;36m<module>\u001b[1;34m\u001b[0m\n\u001b[0;32m     13\u001b[0m \u001b[0mprint\u001b[0m\u001b[1;33m(\u001b[0m\u001b[0mjay\u001b[0m\u001b[1;33m.\u001b[0m\u001b[0mget\u001b[0m\u001b[1;33m(\u001b[0m\u001b[1;33m)\u001b[0m\u001b[1;33m)\u001b[0m\u001b[1;33m\u001b[0m\u001b[1;33m\u001b[0m\u001b[0m\n\u001b[0;32m     14\u001b[0m \u001b[0mprint\u001b[0m\u001b[1;33m(\u001b[0m\u001b[0mvedha\u001b[0m\u001b[1;33m.\u001b[0m\u001b[0mget\u001b[0m\u001b[1;33m(\u001b[0m\u001b[1;33m)\u001b[0m\u001b[1;33m)\u001b[0m\u001b[1;33m\u001b[0m\u001b[1;33m\u001b[0m\u001b[0m\n\u001b[1;32m---> 15\u001b[1;33m \u001b[0msai\u001b[0m\u001b[1;33m=\u001b[0m\u001b[0mEmp\u001b[0m\u001b[1;33m(\u001b[0m\u001b[1;33m)\u001b[0m\u001b[1;33m\u001b[0m\u001b[1;33m\u001b[0m\u001b[0m\n\u001b[0m",
      "\u001b[1;31mTypeError\u001b[0m: __init__() missing 4 required positional arguments: 'e_name', 'e_age', 'e_sal', and 'e_doj'"
     ]
    }
   ],
   "source": [
    "class Emp:\n",
    "    company_name=\"KHYAATHi\"\n",
    "    company_address=\"Maithrivanam\"\n",
    "    def __init__(self, e_name, e_age,e_sal,e_doj):\n",
    "        self.name=e_name\n",
    "        self.doj=e_doj\n",
    "        self.sal=e_sal\n",
    "        self.age=e_age\n",
    "    def get(self):\n",
    "        return self.name, self.age,self.sal,self.doj\n",
    "jay=Emp(\"JAYARAM\",23,34567,\"2017-02-28\")\n",
    "vedha = Emp(\"Vedhanvesh\",24,2859596,\"2018-06-14\")\n",
    "print(jay.get())\n",
    "print(vedha.get())\n",
    "sai=Emp()"
   ]
  },
  {
   "cell_type": "code",
   "execution_count": 1,
   "metadata": {},
   "outputs": [
    {
     "name": "stdout",
     "output_type": "stream",
     "text": [
      "('JAYARAM', 23, 34567, '2017-02-28')\n",
      "('Vedhanvesh', 24, 2859596, '2018-06-14')\n"
     ]
    }
   ],
   "source": [
    "# encapsulation\n",
    "class Emp:\n",
    "    company_name=\"KHYAATHi\"\n",
    "    company_address=\"Maithrivanam\"\n",
    "    def __init__(self, e_name, e_age,e_sal,e_doj):\n",
    "        self.name=e_name\n",
    "        self.doj=e_doj\n",
    "        self.sal=e_sal\n",
    "        self.age=e_age\n",
    "    def get(self):\n",
    "        return self.name, self.age,self.sal,self.doj\n",
    "jay=Emp(\"JAYARAM\",23,34567,\"2017-02-28\")\n",
    "vedha = Emp(\"Vedhanvesh\",24,2859596,\"2018-06-14\")\n",
    "print(jay.get())\n",
    "print(vedha.get())"
   ]
  },
  {
   "cell_type": "code",
   "execution_count": 2,
   "metadata": {},
   "outputs": [
    {
     "name": "stdout",
     "output_type": "stream",
     "text": [
      "('JAYARAM', 23, 34567, '2019-02-24')\n",
      "('Vedhanvesh', 24, 2859596, '2018-06-14')\n"
     ]
    }
   ],
   "source": [
    "# encapsulation\n",
    "class Emp:\n",
    "    company_name=\"KHYAATHi\"\n",
    "    company_address=\"Maithrivanam\"\n",
    "    def __init__(self, e_name, e_age,e_sal,e_doj):\n",
    "        self.name=e_name\n",
    "        self.doj=e_doj\n",
    "        self.sal=e_sal\n",
    "        self.age=e_age\n",
    "    def get(self):\n",
    "        return self.name, self.age,self.sal,self.doj\n",
    "jay=Emp(\"JAYARAM\",23,34567,\"2017-02-28\")\n",
    "jay.doj = \"2019-02-24\"\n",
    "vedha = Emp(\"Vedhanvesh\",24,2859596,\"2018-06-14\")\n",
    "print(jay.get())\n",
    "print(vedha.get())\n"
   ]
  },
  {
   "cell_type": "code",
   "execution_count": 3,
   "metadata": {},
   "outputs": [
    {
     "name": "stdout",
     "output_type": "stream",
     "text": [
      "('JAYARAM', 23, 34567, '2017-02-28')\n",
      "('Vedhanvesh', 24, 2859596, '2018-06-14')\n"
     ]
    }
   ],
   "source": [
    "# encapsulation\n",
    "class Emp:\n",
    "    company_name=\"KHYAATHi\"\n",
    "    company_address=\"Maithrivanam\"\n",
    "    def __init__(self, e_name, e_age,e_sal,e_doj):\n",
    "        self.name=e_name\n",
    "        self.__doj=e_doj\n",
    "        self.sal=e_sal\n",
    "        self.age=e_age\n",
    "    def get(self):\n",
    "        return self.name, self.age,self.sal,self.__doj\n",
    "jay=Emp(\"JAYARAM\",23,34567,\"2017-02-28\")\n",
    "jay.__doj = \"2019-02-24\"\n",
    "vedha = Emp(\"Vedhanvesh\",24,2859596,\"2018-06-14\")\n",
    "print(jay.get())\n",
    "print(vedha.get())"
   ]
  },
  {
   "cell_type": "code",
   "execution_count": 5,
   "metadata": {},
   "outputs": [
    {
     "name": "stdout",
     "output_type": "stream",
     "text": [
      "('JAYARAM123', 23, 34567, '2017-02-28')\n",
      "('Vedhanvesh', 24, 2859596, '2018-06-14')\n"
     ]
    }
   ],
   "source": [
    "# encapsulation\n",
    "class Emp:\n",
    "    company_name=\"KHYAATHi\"\n",
    "    company_address=\"Maithrivanam\"\n",
    "    def __init__(self, e_name, e_age,e_sal,e_doj):\n",
    "        self.name=e_name\n",
    "        self.__doj=e_doj\n",
    "        self.sal=e_sal\n",
    "        self.age=e_age\n",
    "    def get(self):\n",
    "        return self.name, self.age,self.sal,self.__doj\n",
    "jay=Emp(\"JAYARAM\",23,34567,\"2017-02-28\")\n",
    "jay.__doj = \"2019-02-24\"\n",
    "jay.name=\"JAYARAM123\"\n",
    "vedha = Emp(\"Vedhanvesh\",24,2859596,\"2018-06-14\")\n",
    "print(jay.get())\n",
    "print(vedha.get())"
   ]
  },
  {
   "cell_type": "code",
   "execution_count": 6,
   "metadata": {},
   "outputs": [
    {
     "name": "stdout",
     "output_type": "stream",
     "text": [
      "('JAYARAM123', 23, 34567, '2017-02-28')\n",
      "('Vedhanvesh', 24, 2859596, '2018-06-14')\n"
     ]
    }
   ],
   "source": [
    "# encapsulation\n",
    "class Emp:\n",
    "    company_name=\"KHYAATHi\"\n",
    "    company_address=\"Maithrivanam\"\n",
    "    def __init__(self, e_name, e_age,e_sal,e_doj):\n",
    "        self.name=e_name\n",
    "        self.__doj=e_doj\n",
    "        self.sal=e_sal\n",
    "        self.age=e_age\n",
    "    def get(self):\n",
    "        return self.name, self.age,self.sal,self.__doj\n",
    "    def update_doj(self, new_doj):\n",
    "        self.__doj=new_doj\n",
    "jay=Emp(\"JAYARAM\",23,34567,\"2017-02-28\")\n",
    "jay.__doj = \"2019-02-24\"\n",
    "jay.name=\"JAYARAM123\"\n",
    "vedha = Emp(\"Vedhanvesh\",24,2859596,\"2018-06-14\")\n",
    "print(jay.get())\n",
    "print(vedha.get())"
   ]
  },
  {
   "cell_type": "code",
   "execution_count": 7,
   "metadata": {},
   "outputs": [
    {
     "name": "stdout",
     "output_type": "stream",
     "text": [
      "('JAYARAM123', 23, 34567, '2019-02-24')\n",
      "('Vedhanvesh', 24, 2859596, '2018-06-14')\n"
     ]
    }
   ],
   "source": [
    "# encapsulation\n",
    "class Emp:\n",
    "    company_name=\"KHYAATHi\"\n",
    "    company_address=\"Maithrivanam\"\n",
    "    def __init__(self, e_name, e_age,e_sal,e_doj):\n",
    "        self.name=e_name\n",
    "        self.__doj=e_doj\n",
    "        self.sal=e_sal\n",
    "        self.age=e_age\n",
    "    def get(self):\n",
    "        return self.name, self.age,self.sal,self.__doj\n",
    "    def update_doj(self, new_doj):\n",
    "        #autherization\n",
    "        self.__doj=new_doj\n",
    "jay=Emp(\"JAYARAM\",23,34567,\"2017-02-28\")\n",
    "jay.update_doj(\"2019-02-24\")\n",
    "jay.name=\"JAYARAM123\"\n",
    "vedha = Emp(\"Vedhanvesh\",24,2859596,\"2018-06-14\")\n",
    "print(jay.get())\n",
    "print(vedha.get())"
   ]
  },
  {
   "cell_type": "code",
   "execution_count": 8,
   "metadata": {},
   "outputs": [
    {
     "data": {
      "text/plain": [
       "__main__.Emp"
      ]
     },
     "execution_count": 8,
     "metadata": {},
     "output_type": "execute_result"
    }
   ],
   "source": [
    "type(jay)"
   ]
  },
  {
   "cell_type": "code",
   "execution_count": 9,
   "metadata": {},
   "outputs": [
    {
     "data": {
      "text/plain": [
       "int"
      ]
     },
     "execution_count": 9,
     "metadata": {},
     "output_type": "execute_result"
    }
   ],
   "source": [
    "a=10\n",
    "type(a)"
   ]
  },
  {
   "cell_type": "code",
   "execution_count": 10,
   "metadata": {},
   "outputs": [
    {
     "ename": "AttributeError",
     "evalue": "'Emp' object has no attribute '__update_doj'",
     "output_type": "error",
     "traceback": [
      "\u001b[1;31m---------------------------------------------------------------------------\u001b[0m",
      "\u001b[1;31mAttributeError\u001b[0m                            Traceback (most recent call last)",
      "\u001b[1;32m<ipython-input-10-e40d93f83767>\u001b[0m in \u001b[0;36m<module>\u001b[1;34m\u001b[0m\n\u001b[0;32m     14\u001b[0m         \u001b[0mself\u001b[0m\u001b[1;33m.\u001b[0m\u001b[0m__doj\u001b[0m\u001b[1;33m=\u001b[0m\u001b[0mnew_doj\u001b[0m\u001b[1;33m\u001b[0m\u001b[1;33m\u001b[0m\u001b[0m\n\u001b[0;32m     15\u001b[0m \u001b[0mjay\u001b[0m\u001b[1;33m=\u001b[0m\u001b[0mEmp\u001b[0m\u001b[1;33m(\u001b[0m\u001b[1;34m\"JAYARAM\"\u001b[0m\u001b[1;33m,\u001b[0m\u001b[1;36m23\u001b[0m\u001b[1;33m,\u001b[0m\u001b[1;36m34567\u001b[0m\u001b[1;33m,\u001b[0m\u001b[1;34m\"2017-02-28\"\u001b[0m\u001b[1;33m)\u001b[0m\u001b[1;33m\u001b[0m\u001b[1;33m\u001b[0m\u001b[0m\n\u001b[1;32m---> 16\u001b[1;33m \u001b[0mjay\u001b[0m\u001b[1;33m.\u001b[0m\u001b[0m__update_doj\u001b[0m\u001b[1;33m(\u001b[0m\u001b[1;34m\"2019-02-24\"\u001b[0m\u001b[1;33m)\u001b[0m\u001b[1;33m\u001b[0m\u001b[1;33m\u001b[0m\u001b[0m\n\u001b[0m\u001b[0;32m     17\u001b[0m \u001b[0mjay\u001b[0m\u001b[1;33m.\u001b[0m\u001b[0mname\u001b[0m\u001b[1;33m=\u001b[0m\u001b[1;34m\"JAYARAM123\"\u001b[0m\u001b[1;33m\u001b[0m\u001b[1;33m\u001b[0m\u001b[0m\n\u001b[0;32m     18\u001b[0m \u001b[0mvedha\u001b[0m \u001b[1;33m=\u001b[0m \u001b[0mEmp\u001b[0m\u001b[1;33m(\u001b[0m\u001b[1;34m\"Vedhanvesh\"\u001b[0m\u001b[1;33m,\u001b[0m\u001b[1;36m24\u001b[0m\u001b[1;33m,\u001b[0m\u001b[1;36m2859596\u001b[0m\u001b[1;33m,\u001b[0m\u001b[1;34m\"2018-06-14\"\u001b[0m\u001b[1;33m)\u001b[0m\u001b[1;33m\u001b[0m\u001b[1;33m\u001b[0m\u001b[0m\n",
      "\u001b[1;31mAttributeError\u001b[0m: 'Emp' object has no attribute '__update_doj'"
     ]
    }
   ],
   "source": [
    "# encapsulation\n",
    "class Emp:\n",
    "    company_name=\"KHYAATHi\"\n",
    "    company_address=\"Maithrivanam\"\n",
    "    def __init__(self, e_name, e_age,e_sal,e_doj):\n",
    "        self.name=e_name\n",
    "        self.__doj=e_doj\n",
    "        self.sal=e_sal\n",
    "        self.age=e_age\n",
    "    def get(self):\n",
    "        return self.name, self.age,self.sal,self.__doj\n",
    "    def __update_doj(self, new_doj):\n",
    "        #autherization\n",
    "        self.__doj=new_doj\n",
    "jay=Emp(\"JAYARAM\",23,34567,\"2017-02-28\")\n",
    "jay.__update_doj(\"2019-02-24\")\n",
    "jay.name=\"JAYARAM123\"\n",
    "vedha = Emp(\"Vedhanvesh\",24,2859596,\"2018-06-14\")\n",
    "print(jay.get())\n",
    "print(vedha.get())"
   ]
  },
  {
   "cell_type": "code",
   "execution_count": 12,
   "metadata": {},
   "outputs": [
    {
     "name": "stdout",
     "output_type": "stream",
     "text": [
      "('JAYARAM123', 23, 34567, '2019-02-24')\n",
      "('Vedhanvesh', 24, 2859596, '2018-06-14')\n"
     ]
    }
   ],
   "source": [
    "# encapsulation\n",
    "class Emp:\n",
    "    company_name=\"KHYAATHi\"\n",
    "    company_address=\"Maithrivanam\"\n",
    "    def __init__(self, e_name, e_age,e_sal,e_doj):\n",
    "        self.name=e_name\n",
    "        self.__doj=e_doj\n",
    "        self.sal=e_sal\n",
    "        self.age=e_age\n",
    "    def get(self):\n",
    "        return self.name, self.age,self.sal,self.__doj\n",
    "    def change_doj(self, new_date):\n",
    "        #authorization\n",
    "        self.__update_doj(new_date)\n",
    "    def __update_doj(self, new_doj):\n",
    "        self.__doj=new_doj\n",
    "jay=Emp(\"JAYARAM\",23,34567,\"2017-02-28\")\n",
    "jay.change_doj(\"2019-02-24\")\n",
    "jay.name=\"JAYARAM123\"\n",
    "vedha = Emp(\"Vedhanvesh\",24,2859596,\"2018-06-14\")\n",
    "print(jay.get())\n",
    "print(vedha.get())"
   ]
  },
  {
   "cell_type": "code",
   "execution_count": 13,
   "metadata": {},
   "outputs": [],
   "source": [
    "# operator overloading\n",
    "class Emp:\n",
    "    company_name=\"KHYAATHi\"\n",
    "    company_address=\"Maithrivanam\"\n",
    "    def __init__(self, e_name, e_age,e_sal,e_doj):\n",
    "        self.name=e_name\n",
    "        self.__doj=e_doj\n",
    "        self.sal=e_sal\n",
    "        self.age=e_age\n",
    "    def get(self):\n",
    "        return self.name, self.age,self.sal,self.__doj\n",
    "    \n",
    "jay=Emp(\"JAYARAM\",23,34567,\"2017-02-28\")\n",
    "vedha = Emp(\"Vedhanvesh\",24,2859596,\"2018-06-14\")\n"
   ]
  },
  {
   "cell_type": "code",
   "execution_count": 14,
   "metadata": {},
   "outputs": [
    {
     "name": "stdout",
     "output_type": "stream",
     "text": [
      "30\n",
      "stfr1str2\n",
      "[1, 2, 3, 4, 5, 6, 7, 8]\n"
     ]
    }
   ],
   "source": [
    "a=10\n",
    "b=20\n",
    "print(a+b)\n",
    "s1=\"stfr1\"\n",
    "s2=\"str2\"\n",
    "print(s1+s2)\n",
    "l1=[1,2,3,4]\n",
    "l2=[5,6,7,8]\n",
    "print(l1+l2)"
   ]
  },
  {
   "cell_type": "code",
   "execution_count": 15,
   "metadata": {},
   "outputs": [
    {
     "ename": "TypeError",
     "evalue": "unsupported operand type(s) for +: 'Emp' and 'Emp'",
     "output_type": "error",
     "traceback": [
      "\u001b[1;31m---------------------------------------------------------------------------\u001b[0m",
      "\u001b[1;31mTypeError\u001b[0m                                 Traceback (most recent call last)",
      "\u001b[1;32m<ipython-input-15-9ad6b926941a>\u001b[0m in \u001b[0;36m<module>\u001b[1;34m\u001b[0m\n\u001b[0;32m     13\u001b[0m \u001b[0mjay\u001b[0m\u001b[1;33m=\u001b[0m\u001b[0mEmp\u001b[0m\u001b[1;33m(\u001b[0m\u001b[1;34m\"JAYARAM\"\u001b[0m\u001b[1;33m,\u001b[0m\u001b[1;36m23\u001b[0m\u001b[1;33m,\u001b[0m\u001b[1;36m34567\u001b[0m\u001b[1;33m,\u001b[0m\u001b[1;34m\"2017-02-28\"\u001b[0m\u001b[1;33m)\u001b[0m\u001b[1;33m\u001b[0m\u001b[1;33m\u001b[0m\u001b[0m\n\u001b[0;32m     14\u001b[0m \u001b[0mvedha\u001b[0m \u001b[1;33m=\u001b[0m \u001b[0mEmp\u001b[0m\u001b[1;33m(\u001b[0m\u001b[1;34m\"Vedhanvesh\"\u001b[0m\u001b[1;33m,\u001b[0m\u001b[1;36m24\u001b[0m\u001b[1;33m,\u001b[0m\u001b[1;36m2859596\u001b[0m\u001b[1;33m,\u001b[0m\u001b[1;34m\"2018-06-14\"\u001b[0m\u001b[1;33m)\u001b[0m\u001b[1;33m\u001b[0m\u001b[1;33m\u001b[0m\u001b[0m\n\u001b[1;32m---> 15\u001b[1;33m \u001b[0mjay\u001b[0m\u001b[1;33m+\u001b[0m\u001b[0mvedha\u001b[0m\u001b[1;33m\u001b[0m\u001b[1;33m\u001b[0m\u001b[0m\n\u001b[0m",
      "\u001b[1;31mTypeError\u001b[0m: unsupported operand type(s) for +: 'Emp' and 'Emp'"
     ]
    }
   ],
   "source": [
    "# operator overloading\n",
    "class Emp:\n",
    "    company_name=\"KHYAATHi\"\n",
    "    company_address=\"Maithrivanam\"\n",
    "    def __init__(self, e_name, e_age,e_sal,e_doj):\n",
    "        self.name=e_name\n",
    "        self.__doj=e_doj\n",
    "        self.sal=e_sal\n",
    "        self.age=e_age\n",
    "    def get(self):\n",
    "        return self.name, self.age,self.sal,self.__doj\n",
    "    \n",
    "jay=Emp(\"JAYARAM\",23,34567,\"2017-02-28\")\n",
    "vedha = Emp(\"Vedhanvesh\",24,2859596,\"2018-06-14\")\n",
    "jay+vedha"
   ]
  },
  {
   "cell_type": "code",
   "execution_count": 17,
   "metadata": {},
   "outputs": [
    {
     "ename": "TypeError",
     "evalue": "unsupported operand type(s) for +: 'dict' and 'dict'",
     "output_type": "error",
     "traceback": [
      "\u001b[1;31m---------------------------------------------------------------------------\u001b[0m",
      "\u001b[1;31mTypeError\u001b[0m                                 Traceback (most recent call last)",
      "\u001b[1;32m<ipython-input-17-80e2432b8194>\u001b[0m in \u001b[0;36m<module>\u001b[1;34m\u001b[0m\n\u001b[0;32m      1\u001b[0m \u001b[0md\u001b[0m\u001b[1;33m=\u001b[0m\u001b[1;33m{\u001b[0m\u001b[1;36m1\u001b[0m\u001b[1;33m:\u001b[0m\u001b[1;36m2\u001b[0m\u001b[1;33m}\u001b[0m\u001b[1;33m\u001b[0m\u001b[1;33m\u001b[0m\u001b[0m\n\u001b[0;32m      2\u001b[0m \u001b[0md1\u001b[0m\u001b[1;33m=\u001b[0m\u001b[1;33m{\u001b[0m\u001b[1;36m3\u001b[0m\u001b[1;33m:\u001b[0m\u001b[1;36m4\u001b[0m\u001b[1;33m}\u001b[0m\u001b[1;33m\u001b[0m\u001b[1;33m\u001b[0m\u001b[0m\n\u001b[1;32m----> 3\u001b[1;33m \u001b[0md1\u001b[0m\u001b[1;33m+\u001b[0m\u001b[0md\u001b[0m\u001b[1;33m\u001b[0m\u001b[1;33m\u001b[0m\u001b[0m\n\u001b[0m",
      "\u001b[1;31mTypeError\u001b[0m: unsupported operand type(s) for +: 'dict' and 'dict'"
     ]
    }
   ],
   "source": [
    "d={1:2}\n",
    "d1={3:4}\n",
    "d1+d"
   ]
  },
  {
   "cell_type": "code",
   "execution_count": 18,
   "metadata": {},
   "outputs": [
    {
     "name": "stdout",
     "output_type": "stream",
     "text": [
      "s\n",
      "t\n",
      "r\n"
     ]
    }
   ],
   "source": [
    "for i in \"str\":\n",
    "    print(i)"
   ]
  },
  {
   "cell_type": "code",
   "execution_count": 19,
   "metadata": {},
   "outputs": [
    {
     "ename": "TypeError",
     "evalue": "'int' object is not iterable",
     "output_type": "error",
     "traceback": [
      "\u001b[1;31m---------------------------------------------------------------------------\u001b[0m",
      "\u001b[1;31mTypeError\u001b[0m                                 Traceback (most recent call last)",
      "\u001b[1;32m<ipython-input-19-bcddcd506fd8>\u001b[0m in \u001b[0;36m<module>\u001b[1;34m\u001b[0m\n\u001b[1;32m----> 1\u001b[1;33m \u001b[1;32mfor\u001b[0m \u001b[0mi\u001b[0m \u001b[1;32min\u001b[0m \u001b[1;36m100\u001b[0m\u001b[1;33m:\u001b[0m\u001b[1;33m\u001b[0m\u001b[1;33m\u001b[0m\u001b[0m\n\u001b[0m\u001b[0;32m      2\u001b[0m     \u001b[0mprint\u001b[0m\u001b[1;33m(\u001b[0m\u001b[0mi\u001b[0m\u001b[1;33m)\u001b[0m\u001b[1;33m\u001b[0m\u001b[1;33m\u001b[0m\u001b[0m\n",
      "\u001b[1;31mTypeError\u001b[0m: 'int' object is not iterable"
     ]
    }
   ],
   "source": [
    "for i in 100:\n",
    "    print(i)"
   ]
  },
  {
   "cell_type": "code",
   "execution_count": 20,
   "metadata": {},
   "outputs": [
    {
     "data": {
      "text/plain": [
       "20"
      ]
     },
     "execution_count": 20,
     "metadata": {},
     "output_type": "execute_result"
    }
   ],
   "source": [
    "# operator overloading\n",
    "class Emp:\n",
    "    company_name=\"KHYAATHi\"\n",
    "    company_address=\"Maithrivanam\"\n",
    "    def __init__(self, e_name, e_age,e_sal,e_doj):\n",
    "        self.name=e_name\n",
    "        self.__doj=e_doj\n",
    "        self.sal=e_sal\n",
    "        self.age=e_age\n",
    "    def get(self):\n",
    "        return self.name, self.age,self.sal,self.__doj\n",
    "    def __add__(self1,self2):\n",
    "        return 20\n",
    "    \n",
    "jay=Emp(\"JAYARAM\",23,34567,\"2017-02-28\")\n",
    "vedha = Emp(\"Vedhanvesh\",24,2859596,\"2018-06-14\")\n",
    "jay+vedha"
   ]
  },
  {
   "cell_type": "code",
   "execution_count": 21,
   "metadata": {},
   "outputs": [
    {
     "data": {
      "text/plain": [
       "('JAYARAM', 'Vedhanvesh')"
      ]
     },
     "execution_count": 21,
     "metadata": {},
     "output_type": "execute_result"
    }
   ],
   "source": [
    "# operator overloading\n",
    "class Emp:\n",
    "    company_name=\"KHYAATHi\"\n",
    "    company_address=\"Maithrivanam\"\n",
    "    def __init__(self, e_name, e_age,e_sal,e_doj):\n",
    "        self.name=e_name\n",
    "        self.__doj=e_doj\n",
    "        self.sal=e_sal\n",
    "        self.age=e_age\n",
    "    def get(self):\n",
    "        return self.name, self.age,self.sal,self.__doj\n",
    "    def __add__(self1,self2):\n",
    "        return self1.name,self2.name\n",
    "    \n",
    "jay=Emp(\"JAYARAM\",23,34567,\"2017-02-28\")\n",
    "vedha = Emp(\"Vedhanvesh\",24,2859596,\"2018-06-14\")\n",
    "jay+vedha"
   ]
  },
  {
   "cell_type": "code",
   "execution_count": 22,
   "metadata": {},
   "outputs": [
    {
     "name": "stdout",
     "output_type": "stream",
     "text": [
      "('JAYARAM', 'Vedhanvesh')\n"
     ]
    },
    {
     "ename": "TypeError",
     "evalue": "object of type 'Emp' has no len()",
     "output_type": "error",
     "traceback": [
      "\u001b[1;31m---------------------------------------------------------------------------\u001b[0m",
      "\u001b[1;31mTypeError\u001b[0m                                 Traceback (most recent call last)",
      "\u001b[1;32m<ipython-input-22-9e43f37c21cb>\u001b[0m in \u001b[0;36m<module>\u001b[1;34m\u001b[0m\n\u001b[0;32m     16\u001b[0m \u001b[0mvedha\u001b[0m \u001b[1;33m=\u001b[0m \u001b[0mEmp\u001b[0m\u001b[1;33m(\u001b[0m\u001b[1;34m\"Vedhanvesh\"\u001b[0m\u001b[1;33m,\u001b[0m\u001b[1;36m24\u001b[0m\u001b[1;33m,\u001b[0m\u001b[1;36m2859596\u001b[0m\u001b[1;33m,\u001b[0m\u001b[1;34m\"2018-06-14\"\u001b[0m\u001b[1;33m)\u001b[0m\u001b[1;33m\u001b[0m\u001b[1;33m\u001b[0m\u001b[0m\n\u001b[0;32m     17\u001b[0m \u001b[0mprint\u001b[0m\u001b[1;33m(\u001b[0m\u001b[0mjay\u001b[0m\u001b[1;33m+\u001b[0m\u001b[0mvedha\u001b[0m\u001b[1;33m)\u001b[0m\u001b[1;33m\u001b[0m\u001b[1;33m\u001b[0m\u001b[0m\n\u001b[1;32m---> 18\u001b[1;33m \u001b[0mprint\u001b[0m\u001b[1;33m(\u001b[0m\u001b[0mlen\u001b[0m\u001b[1;33m(\u001b[0m\u001b[0mjay\u001b[0m\u001b[1;33m)\u001b[0m\u001b[1;33m)\u001b[0m\u001b[1;33m\u001b[0m\u001b[1;33m\u001b[0m\u001b[0m\n\u001b[0m",
      "\u001b[1;31mTypeError\u001b[0m: object of type 'Emp' has no len()"
     ]
    }
   ],
   "source": [
    "# operator overloading\n",
    "class Emp:\n",
    "    company_name=\"KHYAATHi\"\n",
    "    company_address=\"Maithrivanam\"\n",
    "    def __init__(self, e_name, e_age,e_sal,e_doj):\n",
    "        self.name=e_name\n",
    "        self.__doj=e_doj\n",
    "        self.sal=e_sal\n",
    "        self.age=e_age\n",
    "    def get(self):\n",
    "        return self.name, self.age,self.sal,self.__doj\n",
    "    def __add__(self1,self2):\n",
    "        return self1.name,self2.name\n",
    "    \n",
    "jay=Emp(\"JAYARAM\",23,34567,\"2017-02-28\")\n",
    "vedha = Emp(\"Vedhanvesh\",24,2859596,\"2018-06-14\")\n",
    "print(jay+vedha)\n",
    "print(len(jay))\n"
   ]
  },
  {
   "cell_type": "code",
   "execution_count": 23,
   "metadata": {},
   "outputs": [
    {
     "name": "stdout",
     "output_type": "stream",
     "text": [
      "('JAYARAM', 'Vedhanvesh')\n",
      "20\n"
     ]
    }
   ],
   "source": [
    "# operator overloading\n",
    "class Emp:\n",
    "    company_name=\"KHYAATHi\"\n",
    "    company_address=\"Maithrivanam\"\n",
    "    def __init__(self, e_name, e_age,e_sal,e_doj):\n",
    "        self.name=e_name\n",
    "        self.__doj=e_doj\n",
    "        self.sal=e_sal\n",
    "        self.age=e_age\n",
    "    def get(self):\n",
    "        return self.name, self.age,self.sal,self.__doj\n",
    "    def __add__(self1,self2):\n",
    "        return self1.name,self2.name\n",
    "    def __len__(self):\n",
    "        return 20\n",
    "    \n",
    "jay=Emp(\"JAYARAM\",23,34567,\"2017-02-28\")\n",
    "vedha = Emp(\"Vedhanvesh\",24,2859596,\"2018-06-14\")\n",
    "print(jay+vedha)\n",
    "print(len(jay))\n"
   ]
  },
  {
   "cell_type": "code",
   "execution_count": 24,
   "metadata": {},
   "outputs": [
    {
     "data": {
      "text/plain": [
       "4"
      ]
     },
     "execution_count": 24,
     "metadata": {},
     "output_type": "execute_result"
    }
   ],
   "source": [
    "len(\"str1\")"
   ]
  },
  {
   "cell_type": "code",
   "execution_count": 25,
   "metadata": {},
   "outputs": [
    {
     "ename": "TypeError",
     "evalue": "object of type 'int' has no len()",
     "output_type": "error",
     "traceback": [
      "\u001b[1;31m---------------------------------------------------------------------------\u001b[0m",
      "\u001b[1;31mTypeError\u001b[0m                                 Traceback (most recent call last)",
      "\u001b[1;32m<ipython-input-25-a4774ebe235f>\u001b[0m in \u001b[0;36m<module>\u001b[1;34m\u001b[0m\n\u001b[1;32m----> 1\u001b[1;33m \u001b[0mlen\u001b[0m\u001b[1;33m(\u001b[0m\u001b[1;36m1000\u001b[0m\u001b[1;33m)\u001b[0m\u001b[1;33m\u001b[0m\u001b[1;33m\u001b[0m\u001b[0m\n\u001b[0m",
      "\u001b[1;31mTypeError\u001b[0m: object of type 'int' has no len()"
     ]
    }
   ],
   "source": [
    "len(1000)"
   ]
  },
  {
   "cell_type": "code",
   "execution_count": 26,
   "metadata": {},
   "outputs": [
    {
     "name": "stdout",
     "output_type": "stream",
     "text": [
      "('JAYARAM', 'Vedhanvesh')\n",
      "20\n"
     ]
    },
    {
     "ename": "TypeError",
     "evalue": "'Emp' object is not iterable",
     "output_type": "error",
     "traceback": [
      "\u001b[1;31m---------------------------------------------------------------------------\u001b[0m",
      "\u001b[1;31mTypeError\u001b[0m                                 Traceback (most recent call last)",
      "\u001b[1;32m<ipython-input-26-84fa1008c38f>\u001b[0m in \u001b[0;36m<module>\u001b[1;34m\u001b[0m\n\u001b[0;32m     19\u001b[0m \u001b[0mprint\u001b[0m\u001b[1;33m(\u001b[0m\u001b[0mjay\u001b[0m\u001b[1;33m+\u001b[0m\u001b[0mvedha\u001b[0m\u001b[1;33m)\u001b[0m\u001b[1;33m\u001b[0m\u001b[1;33m\u001b[0m\u001b[0m\n\u001b[0;32m     20\u001b[0m \u001b[0mprint\u001b[0m\u001b[1;33m(\u001b[0m\u001b[0mlen\u001b[0m\u001b[1;33m(\u001b[0m\u001b[0mjay\u001b[0m\u001b[1;33m)\u001b[0m\u001b[1;33m)\u001b[0m\u001b[1;33m\u001b[0m\u001b[1;33m\u001b[0m\u001b[0m\n\u001b[1;32m---> 21\u001b[1;33m \u001b[1;32mfor\u001b[0m \u001b[0mi\u001b[0m \u001b[1;32min\u001b[0m \u001b[0mjay\u001b[0m\u001b[1;33m:\u001b[0m\u001b[1;33m\u001b[0m\u001b[1;33m\u001b[0m\u001b[0m\n\u001b[0m\u001b[0;32m     22\u001b[0m     \u001b[0mprint\u001b[0m\u001b[1;33m(\u001b[0m\u001b[0mi\u001b[0m\u001b[1;33m)\u001b[0m\u001b[1;33m\u001b[0m\u001b[1;33m\u001b[0m\u001b[0m\n",
      "\u001b[1;31mTypeError\u001b[0m: 'Emp' object is not iterable"
     ]
    }
   ],
   "source": [
    "# operator overloading\n",
    "class Emp:\n",
    "    company_name=\"KHYAATHi\"\n",
    "    company_address=\"Maithrivanam\"\n",
    "    def __init__(self, e_name, e_age,e_sal,e_doj):\n",
    "        self.name=e_name\n",
    "        self.__doj=e_doj\n",
    "        self.sal=e_sal\n",
    "        self.age=e_age\n",
    "    def get(self):\n",
    "        return self.name, self.age,self.sal,self.__doj\n",
    "    def __add__(self1,self2):\n",
    "        return self1.name,self2.name\n",
    "    def __len__(self):\n",
    "        return 20\n",
    "    \n",
    "jay=Emp(\"JAYARAM\",23,34567,\"2017-02-28\")\n",
    "vedha = Emp(\"Vedhanvesh\",24,2859596,\"2018-06-14\")\n",
    "print(jay+vedha)\n",
    "print(len(jay))\n",
    "for i in jay:\n",
    "    print(i)"
   ]
  },
  {
   "cell_type": "code",
   "execution_count": 27,
   "metadata": {},
   "outputs": [
    {
     "name": "stdout",
     "output_type": "stream",
     "text": [
      "('JAYARAM', 'Vedhanvesh')\n",
      "20\n"
     ]
    },
    {
     "ename": "TypeError",
     "evalue": "iter() returned non-iterator of type 'list'",
     "output_type": "error",
     "traceback": [
      "\u001b[1;31m---------------------------------------------------------------------------\u001b[0m",
      "\u001b[1;31mTypeError\u001b[0m                                 Traceback (most recent call last)",
      "\u001b[1;32m<ipython-input-27-c50049063bb5>\u001b[0m in \u001b[0;36m<module>\u001b[1;34m\u001b[0m\n\u001b[0;32m     21\u001b[0m \u001b[0mprint\u001b[0m\u001b[1;33m(\u001b[0m\u001b[0mjay\u001b[0m\u001b[1;33m+\u001b[0m\u001b[0mvedha\u001b[0m\u001b[1;33m)\u001b[0m\u001b[1;33m\u001b[0m\u001b[1;33m\u001b[0m\u001b[0m\n\u001b[0;32m     22\u001b[0m \u001b[0mprint\u001b[0m\u001b[1;33m(\u001b[0m\u001b[0mlen\u001b[0m\u001b[1;33m(\u001b[0m\u001b[0mjay\u001b[0m\u001b[1;33m)\u001b[0m\u001b[1;33m)\u001b[0m\u001b[1;33m\u001b[0m\u001b[1;33m\u001b[0m\u001b[0m\n\u001b[1;32m---> 23\u001b[1;33m \u001b[1;32mfor\u001b[0m \u001b[0mi\u001b[0m \u001b[1;32min\u001b[0m \u001b[0mjay\u001b[0m\u001b[1;33m:\u001b[0m\u001b[1;33m\u001b[0m\u001b[1;33m\u001b[0m\u001b[0m\n\u001b[0m\u001b[0;32m     24\u001b[0m     \u001b[0mprint\u001b[0m\u001b[1;33m(\u001b[0m\u001b[0mi\u001b[0m\u001b[1;33m)\u001b[0m\u001b[1;33m\u001b[0m\u001b[1;33m\u001b[0m\u001b[0m\n",
      "\u001b[1;31mTypeError\u001b[0m: iter() returned non-iterator of type 'list'"
     ]
    }
   ],
   "source": [
    "# operator overloading\n",
    "class Emp:\n",
    "    company_name=\"KHYAATHi\"\n",
    "    company_address=\"Maithrivanam\"\n",
    "    def __init__(self, e_name, e_age,e_sal,e_doj):\n",
    "        self.name=e_name\n",
    "        self.__doj=e_doj\n",
    "        self.sal=e_sal\n",
    "        self.age=e_age\n",
    "    def get(self):\n",
    "        return self.name, self.age,self.sal,self.__doj\n",
    "    def __add__(self1,self2):\n",
    "        return self1.name,self2.name\n",
    "    def __len__(self):\n",
    "        return 20\n",
    "    def __iter__(self):\n",
    "        return [1,2,3]\n",
    "    \n",
    "jay=Emp(\"JAYARAM\",23,34567,\"2017-02-28\")\n",
    "vedha = Emp(\"Vedhanvesh\",24,2859596,\"2018-06-14\")\n",
    "print(jay+vedha)\n",
    "print(len(jay))\n",
    "for i in jay:\n",
    "    print(i)"
   ]
  },
  {
   "cell_type": "code",
   "execution_count": 28,
   "metadata": {},
   "outputs": [
    {
     "name": "stdout",
     "output_type": "stream",
     "text": [
      "('JAYARAM', 'Vedhanvesh')\n",
      "20\n",
      "1\n",
      "2\n",
      "3\n"
     ]
    }
   ],
   "source": [
    "# operator overloading\n",
    "class Emp:\n",
    "    company_name=\"KHYAATHi\"\n",
    "    company_address=\"Maithrivanam\"\n",
    "    def __init__(self, e_name, e_age,e_sal,e_doj):\n",
    "        self.name=e_name\n",
    "        self.__doj=e_doj\n",
    "        self.sal=e_sal\n",
    "        self.age=e_age\n",
    "    def get(self):\n",
    "        return self.name, self.age,self.sal,self.__doj\n",
    "    def __add__(self1,self2):\n",
    "        return self1.name,self2.name\n",
    "    def __len__(self):\n",
    "        return 20\n",
    "    def __iter__(self):\n",
    "        yield 1\n",
    "        yield 2\n",
    "        yield 3\n",
    "    \n",
    "jay=Emp(\"JAYARAM\",23,34567,\"2017-02-28\")\n",
    "vedha = Emp(\"Vedhanvesh\",24,2859596,\"2018-06-14\")\n",
    "print(jay+vedha)\n",
    "print(len(jay))\n",
    "for i in jay:\n",
    "    print(i)"
   ]
  },
  {
   "cell_type": "code",
   "execution_count": 29,
   "metadata": {},
   "outputs": [
    {
     "name": "stdout",
     "output_type": "stream",
     "text": [
      "('JAYARAM', 'Vedhanvesh')\n",
      "20\n",
      "('name', 'JAYARAM')\n",
      "('_Emp__doj', '2017-02-28')\n",
      "('sal', 34567)\n",
      "('age', 23)\n"
     ]
    }
   ],
   "source": [
    "# operator overloading\n",
    "class Emp:\n",
    "    company_name=\"KHYAATHi\"\n",
    "    company_address=\"Maithrivanam\"\n",
    "    def __init__(self, e_name, e_age,e_sal,e_doj):\n",
    "        self.name=e_name\n",
    "        self.__doj=e_doj\n",
    "        self.sal=e_sal\n",
    "        self.age=e_age\n",
    "    def get(self):\n",
    "        return self.name, self.age,self.sal,self.__doj\n",
    "    def __add__(self1,self2):\n",
    "        return self1.name,self2.name\n",
    "    def __len__(self):\n",
    "        return 20\n",
    "    def __iter__(self):\n",
    "        for i in self.__dict__.items():\n",
    "            yield i\n",
    "    \n",
    "jay=Emp(\"JAYARAM\",23,34567,\"2017-02-28\")\n",
    "vedha = Emp(\"Vedhanvesh\",24,2859596,\"2018-06-14\")\n",
    "print(jay+vedha)\n",
    "print(len(jay))\n",
    "for i in jay:\n",
    "    print(i)"
   ]
  },
  {
   "cell_type": "code",
   "execution_count": 30,
   "metadata": {},
   "outputs": [
    {
     "name": "stdout",
     "output_type": "stream",
     "text": [
      "('JAYARAM', 'Vedhanvesh')\n",
      "20\n",
      "('name', 'JAYARAM')\n",
      "('_Emp__doj', '2017-02-28')\n",
      "('sal', 34567)\n",
      "('age', 23)\n"
     ]
    },
    {
     "data": {
      "text/plain": [
       "{'name': 'JAYARAM', '_Emp__doj': '2017-02-28', 'sal': 34567, 'age': 23}"
      ]
     },
     "execution_count": 30,
     "metadata": {},
     "output_type": "execute_result"
    }
   ],
   "source": [
    "# operator overloading\n",
    "class Emp:\n",
    "    company_name=\"KHYAATHi\"\n",
    "    company_address=\"Maithrivanam\"\n",
    "    def __init__(self, e_name, e_age,e_sal,e_doj):\n",
    "        self.name=e_name\n",
    "        self.__doj=e_doj\n",
    "        self.sal=e_sal\n",
    "        self.age=e_age\n",
    "    def get(self):\n",
    "        return self.name, self.age,self.sal,self.__doj\n",
    "    def __add__(self1,self2):\n",
    "        return self1.name,self2.name\n",
    "    def __len__(self):\n",
    "        return 20\n",
    "    def __iter__(self):\n",
    "        for i in self.__dict__.items():\n",
    "            yield i\n",
    "    \n",
    "jay=Emp(\"JAYARAM\",23,34567,\"2017-02-28\")\n",
    "vedha = Emp(\"Vedhanvesh\",24,2859596,\"2018-06-14\")\n",
    "print(jay+vedha)\n",
    "print(len(jay))\n",
    "for i in jay:\n",
    "    print(i)\n",
    "dict(jay)"
   ]
  },
  {
   "cell_type": "code",
   "execution_count": 31,
   "metadata": {},
   "outputs": [
    {
     "name": "stdout",
     "output_type": "stream",
     "text": [
      "('JAYARAM', 'Vedhanvesh')\n",
      "20\n",
      "('name', 'JAYARAM')\n",
      "('_Emp__doj', '2017-02-28')\n",
      "('sal', 34567)\n",
      "('age', 23)\n",
      "{'name': 'JAYARAM', '_Emp__doj': '2017-02-28', 'sal': 34567, 'age': 23}\n",
      "<__main__.Emp object at 0x000002761765CEB8>\n"
     ]
    }
   ],
   "source": [
    "# operator overloading\n",
    "class Emp:\n",
    "    company_name=\"KHYAATHi\"\n",
    "    company_address=\"Maithrivanam\"\n",
    "    def __init__(self, e_name, e_age,e_sal,e_doj):\n",
    "        self.name=e_name\n",
    "        self.__doj=e_doj\n",
    "        self.sal=e_sal\n",
    "        self.age=e_age\n",
    "    def get(self):\n",
    "        return self.name, self.age,self.sal,self.__doj\n",
    "    def __add__(self1,self2):\n",
    "        return self1.name,self2.name\n",
    "    def __len__(self):\n",
    "        return 20\n",
    "    def __iter__(self):\n",
    "        for i in self.__dict__.items():\n",
    "            yield i\n",
    "    \n",
    "jay=Emp(\"JAYARAM\",23,34567,\"2017-02-28\")\n",
    "vedha = Emp(\"Vedhanvesh\",24,2859596,\"2018-06-14\")\n",
    "print(jay+vedha)\n",
    "print(len(jay))\n",
    "for i in jay:\n",
    "    print(i)\n",
    "print(dict(jay))\n",
    "print(str(jay))"
   ]
  },
  {
   "cell_type": "code",
   "execution_count": 32,
   "metadata": {},
   "outputs": [
    {
     "name": "stdout",
     "output_type": "stream",
     "text": [
      "('JAYARAM', 'Vedhanvesh')\n",
      "20\n",
      "('name', 'JAYARAM')\n",
      "('_Emp__doj', '2017-02-28')\n",
      "('sal', 34567)\n",
      "('age', 23)\n",
      "{'name': 'JAYARAM', '_Emp__doj': '2017-02-28', 'sal': 34567, 'age': 23}\n",
      "JAYARAM\n"
     ]
    }
   ],
   "source": [
    "# operator overloading\n",
    "class Emp:\n",
    "    company_name=\"KHYAATHi\"\n",
    "    company_address=\"Maithrivanam\"\n",
    "    def __init__(self, e_name, e_age,e_sal,e_doj):\n",
    "        self.name=e_name\n",
    "        self.__doj=e_doj\n",
    "        self.sal=e_sal\n",
    "        self.age=e_age\n",
    "    def get(self):\n",
    "        return self.name, self.age,self.sal,self.__doj\n",
    "    def __add__(self1,self2):\n",
    "        return self1.name,self2.name\n",
    "    def __len__(self):\n",
    "        return 20\n",
    "    def __iter__(self):\n",
    "        for i in self.__dict__.items():\n",
    "            yield i\n",
    "    def __str__(self):\n",
    "        return self.name\n",
    "    \n",
    "jay=Emp(\"JAYARAM\",23,34567,\"2017-02-28\")\n",
    "vedha = Emp(\"Vedhanvesh\",24,2859596,\"2018-06-14\")\n",
    "print(jay+vedha)\n",
    "print(len(jay))\n",
    "for i in jay:\n",
    "    print(i)\n",
    "print(dict(jay))\n",
    "print(str(jay))"
   ]
  },
  {
   "cell_type": "code",
   "execution_count": 34,
   "metadata": {},
   "outputs": [
    {
     "name": "stdout",
     "output_type": "stream",
     "text": [
      "this is op1 in c1\n",
      "this is op2 in c2\n",
      "this is op3 in c3\n"
     ]
    }
   ],
   "source": [
    "class c1:\n",
    "    def op1(self):\n",
    "        print(\"this is op1 in c1\")\n",
    "class c2:\n",
    "    def op2(self):\n",
    "        print(\"this is op2 in c2\")\n",
    "class c3:\n",
    "    def op3(self):\n",
    "        print(\"this is op3 in c3\")\n",
    "o1=c1()\n",
    "o2=c2()\n",
    "o3=c3()\n",
    "o1.op1()\n",
    "o2.op2()\n",
    "o3.op3()"
   ]
  },
  {
   "cell_type": "code",
   "execution_count": 35,
   "metadata": {},
   "outputs": [
    {
     "name": "stdout",
     "output_type": "stream",
     "text": [
      "this is op1 in c1\n"
     ]
    },
    {
     "ename": "AttributeError",
     "evalue": "'c1' object has no attribute 'op2'",
     "output_type": "error",
     "traceback": [
      "\u001b[1;31m---------------------------------------------------------------------------\u001b[0m",
      "\u001b[1;31mAttributeError\u001b[0m                            Traceback (most recent call last)",
      "\u001b[1;32m<ipython-input-35-db51332dd654>\u001b[0m in \u001b[0;36m<module>\u001b[1;34m\u001b[0m\n\u001b[0;32m     10\u001b[0m \u001b[0mo1\u001b[0m\u001b[1;33m=\u001b[0m\u001b[0mc1\u001b[0m\u001b[1;33m(\u001b[0m\u001b[1;33m)\u001b[0m\u001b[1;33m\u001b[0m\u001b[1;33m\u001b[0m\u001b[0m\n\u001b[0;32m     11\u001b[0m \u001b[0mo1\u001b[0m\u001b[1;33m.\u001b[0m\u001b[0mop1\u001b[0m\u001b[1;33m(\u001b[0m\u001b[1;33m)\u001b[0m\u001b[1;33m\u001b[0m\u001b[1;33m\u001b[0m\u001b[0m\n\u001b[1;32m---> 12\u001b[1;33m \u001b[0mo1\u001b[0m\u001b[1;33m.\u001b[0m\u001b[0mop2\u001b[0m\u001b[1;33m(\u001b[0m\u001b[1;33m)\u001b[0m\u001b[1;33m\u001b[0m\u001b[1;33m\u001b[0m\u001b[0m\n\u001b[0m\u001b[0;32m     13\u001b[0m \u001b[0mo1\u001b[0m\u001b[1;33m.\u001b[0m\u001b[0mop3\u001b[0m\u001b[1;33m(\u001b[0m\u001b[1;33m)\u001b[0m\u001b[1;33m\u001b[0m\u001b[1;33m\u001b[0m\u001b[0m\n",
      "\u001b[1;31mAttributeError\u001b[0m: 'c1' object has no attribute 'op2'"
     ]
    }
   ],
   "source": [
    "class c1:\n",
    "    def op1(self):\n",
    "        print(\"this is op1 in c1\")\n",
    "class c2:\n",
    "    def op2(self):\n",
    "        print(\"this is op2 in c2\")\n",
    "class c3:\n",
    "    def op3(self):\n",
    "        print(\"this is op3 in c3\")\n",
    "o1=c1()\n",
    "o1.op1()\n",
    "o1.op2()\n",
    "o1.op3()"
   ]
  },
  {
   "cell_type": "code",
   "execution_count": 37,
   "metadata": {},
   "outputs": [
    {
     "name": "stdout",
     "output_type": "stream",
     "text": [
      "this is op1 in c1\n",
      "this is op2 in c2\n",
      "this is op3 in c3\n"
     ]
    }
   ],
   "source": [
    "class c1:\n",
    "    def op1(self):\n",
    "        print(\"this is op1 in c1\")\n",
    "class c2:\n",
    "    def op2(self):\n",
    "        print(\"this is op2 in c2\")\n",
    "class c3(c1,c2):\n",
    "    def op3(self):\n",
    "        print(\"this is op3 in c3\")\n",
    "o3=c3()\n",
    "o3.op1()\n",
    "o3.op2()\n",
    "o3.op3()"
   ]
  },
  {
   "cell_type": "code",
   "execution_count": 38,
   "metadata": {},
   "outputs": [
    {
     "name": "stdout",
     "output_type": "stream",
     "text": [
      "this is op1 in c1\n",
      "this is op2 in c2\n",
      "this is op3 in c3\n"
     ]
    }
   ],
   "source": [
    "class c1:\n",
    "    def op1(self):\n",
    "        print(\"this is op1 in c1\")\n",
    "    def op2(self):\n",
    "        print(\"this is op2 in c2\")\n",
    "    def op3(self):\n",
    "        print(\"this is op3 in c3\")\n",
    "o3=c1()\n",
    "o3.op1()\n",
    "o3.op2()\n",
    "o3.op3()"
   ]
  },
  {
   "cell_type": "code",
   "execution_count": 39,
   "metadata": {},
   "outputs": [
    {
     "name": "stdout",
     "output_type": "stream",
     "text": [
      "this is op1 in c1\n",
      "this is op2 in c2\n",
      "this is op3 in c3\n",
      "this is op4 in c2\n"
     ]
    }
   ],
   "source": [
    "class c1:\n",
    "    def op1(self):\n",
    "        print(\"this is op1 in c1\")\n",
    "    def op2(self):\n",
    "        print(\"this is op2 in c2\")\n",
    "    def op3(self):\n",
    "        print(\"this is op3 in c3\")\n",
    "class c2(c1):\n",
    "    def op4(self):\n",
    "        print(\"this is op4 in c2\")\n",
    "o3=c2()\n",
    "o3.op1()\n",
    "o3.op2()\n",
    "o3.op3()\n",
    "o3.op4()"
   ]
  },
  {
   "cell_type": "code",
   "execution_count": 40,
   "metadata": {},
   "outputs": [
    {
     "name": "stdout",
     "output_type": "stream",
     "text": [
      "this is op1 in c1\n",
      "this is op2 in c2\n",
      "this is op3 in c3\n",
      "this is op4 in c2\n"
     ]
    }
   ],
   "source": [
    "class c1:\n",
    "    def op1(self):\n",
    "        print(\"this is op1 in c1\")\n",
    "    def op2(self):\n",
    "        print(\"this is op2 in c2\")\n",
    "    def op3(self):\n",
    "        print(\"this is op3 in c3\")\n",
    "    def op4(self):\n",
    "        print(\"this is op4 in c2\")\n",
    "o3=c1()\n",
    "o3.op1()\n",
    "o3.op2()\n",
    "o3.op3()\n",
    "o3.op4()"
   ]
  },
  {
   "cell_type": "code",
   "execution_count": null,
   "metadata": {},
   "outputs": [],
   "source": []
  }
 ],
 "metadata": {
  "kernelspec": {
   "display_name": "Python 3",
   "language": "python",
   "name": "python3"
  },
  "language_info": {
   "codemirror_mode": {
    "name": "ipython",
    "version": 3
   },
   "file_extension": ".py",
   "mimetype": "text/x-python",
   "name": "python",
   "nbconvert_exporter": "python",
   "pygments_lexer": "ipython3",
   "version": "3.7.3"
  }
 },
 "nbformat": 4,
 "nbformat_minor": 2
}
