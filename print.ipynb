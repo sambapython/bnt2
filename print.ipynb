{
 "cells": [
  {
   "cell_type": "code",
   "execution_count": 1,
   "metadata": {},
   "outputs": [
    {
     "name": "stdout",
     "output_type": "stream",
     "text": [
      "The Kid details are: Name: name\n"
     ]
    }
   ],
   "source": [
    "name=\"JAYARAM\"\n",
    "age=2.45678\n",
    "weight=12.4956868\n",
    "height=3.45678\n",
    "# The kid details are: Name:JAYARAM, Age:2, weight:12.50, Height:3.46\n",
    "print(\"The Kid details are: Name: name\")"
   ]
  },
  {
   "cell_type": "code",
   "execution_count": 2,
   "metadata": {},
   "outputs": [
    {
     "name": "stdout",
     "output_type": "stream",
     "text": [
      "The Kid details are: Name: JAYARAM\n"
     ]
    }
   ],
   "source": [
    "name=\"JAYARAM\"\n",
    "age=2.45678\n",
    "weight=12.4956868\n",
    "height=3.45678\n",
    "# The kid details are: Name:JAYARAM, Age:2, weight:12.50, Height:3.46\n",
    "print(\"The Kid details are: Name:\",name)"
   ]
  },
  {
   "cell_type": "code",
   "execution_count": 3,
   "metadata": {},
   "outputs": [
    {
     "name": "stdout",
     "output_type": "stream",
     "text": [
      "The Kid details are: Name:JAYARAM\n"
     ]
    }
   ],
   "source": [
    "name=\"JAYARAM\"\n",
    "age=2.45678\n",
    "weight=12.4956868\n",
    "height=3.45678\n",
    "# The kid details are: Name:JAYARAM, Age:2, weight:12.50, Height:3.46\n",
    "print(\"The Kid details are: Name:\",name,sep=\"\")"
   ]
  },
  {
   "cell_type": "code",
   "execution_count": 4,
   "metadata": {},
   "outputs": [
    {
     "name": "stdout",
     "output_type": "stream",
     "text": [
      "The Kid details are: Name:JAYARAM, Age:2.45678, Height:3.45678\n"
     ]
    }
   ],
   "source": [
    "name=\"JAYARAM\"\n",
    "age=2.45678\n",
    "weight=12.4956868\n",
    "height=3.45678\n",
    "# The kid details are: Name:JAYARAM, Age:2, weight:12.50, Height:3.46\n",
    "print(\"The Kid details are: Name:\",name,\", Age:\",age,\", Height:\",height,sep=\"\")"
   ]
  },
  {
   "cell_type": "code",
   "execution_count": 5,
   "metadata": {},
   "outputs": [
    {
     "name": "stdout",
     "output_type": "stream",
     "text": [
      "The Kid details are: Name:JAYARAM, Age:2, Height:3.46\n"
     ]
    }
   ],
   "source": [
    "name=\"JAYARAM\"\n",
    "age=2.45678\n",
    "weight=12.4956868\n",
    "height=3.45678\n",
    "# The kid details are: Name:JAYARAM, Age:2, weight:12.50, Height:3.46\n",
    "print(\"The Kid details are: Name:\",name,\", Age:\",int(age),\", Height:\",round(height,2),sep=\"\")"
   ]
  },
  {
   "cell_type": "code",
   "execution_count": 6,
   "metadata": {},
   "outputs": [
    {
     "name": "stdout",
     "output_type": "stream",
     "text": [
      "The Kid details are: Name:JAYARAM, Age:2, Height:3.46\n",
      "name\n"
     ]
    }
   ],
   "source": [
    "name=\"JAYARAM\"\n",
    "age=2.45678\n",
    "weight=12.4956868\n",
    "height=3.45678\n",
    "# The kid details are: Name:JAYARAM, Age:2, weight:12.50, Height:3.46\n",
    "print(\"The Kid details are: Name:\",name,\", Age:\",int(age),\", Height:\",round(height,2),sep=\"\")\n",
    "print(f\"name\")"
   ]
  },
  {
   "cell_type": "code",
   "execution_count": 7,
   "metadata": {},
   "outputs": [
    {
     "name": "stdout",
     "output_type": "stream",
     "text": [
      "The Kid details are: Name:JAYARAM, Age:2, Height:3.46\n",
      "JAYARAM\n"
     ]
    }
   ],
   "source": [
    "name=\"JAYARAM\"\n",
    "age=2.45678\n",
    "weight=12.4956868\n",
    "height=3.45678\n",
    "# The kid details are: Name:JAYARAM, Age:2, weight:12.50, Height:3.46\n",
    "print(\"The Kid details are: Name:\",name,\", Age:\",int(age),\", Height:\",round(height,2),sep=\"\")\n",
    "print(f\"{name}\")"
   ]
  },
  {
   "cell_type": "code",
   "execution_count": 8,
   "metadata": {},
   "outputs": [
    {
     "name": "stdout",
     "output_type": "stream",
     "text": [
      "The Kid details are: Name:JAYARAM, Age:2, Height:3.46\n",
      "The kid details are: Name:JAYARAM, Age:2.45678, Height:3.45678, Weight:12.4956868\n"
     ]
    }
   ],
   "source": [
    "name=\"JAYARAM\"\n",
    "age=2.45678\n",
    "weight=12.4956868\n",
    "height=3.45678\n",
    "# The kid details are: Name:JAYARAM, Age:2, weight:12.50, Height:3.46\n",
    "print(\"The Kid details are: Name:\",name,\", Age:\",int(age),\", Height:\",round(height,2),sep=\"\")\n",
    "print(f\"The kid details are: Name:{name}, Age:{age}, Height:{height}, Weight:{weight}\")"
   ]
  },
  {
   "cell_type": "code",
   "execution_count": 9,
   "metadata": {},
   "outputs": [
    {
     "name": "stdout",
     "output_type": "stream",
     "text": [
      "The Kid details are: Name:JAYARAM, Age:2, Height:3.46\n",
      "The kid details are: Name:JAYARAM, Age:2, Height:3.46, Weight:12.5\n"
     ]
    }
   ],
   "source": [
    "name=\"JAYARAM\"\n",
    "age=2.45678\n",
    "weight=12.4956868\n",
    "height=3.45678\n",
    "# The kid details are: Name:JAYARAM, Age:2, weight:12.50, Height:3.46\n",
    "print(\"The Kid details are: Name:\",name,\", Age:\",int(age),\", Height:\",round(height,2),sep=\"\")\n",
    "print(f\"The kid details are: Name:{name}, Age:{int(age)}, Height:{round(height,2)}, Weight:{round(weight,2)}\")"
   ]
  },
  {
   "cell_type": "code",
   "execution_count": 10,
   "metadata": {},
   "outputs": [
    {
     "name": "stdout",
     "output_type": "stream",
     "text": [
      "%s%d%f%r%o%x\n"
     ]
    }
   ],
   "source": [
    "print(\"%s%d%f%r%o%x\")"
   ]
  },
  {
   "cell_type": "code",
   "execution_count": 11,
   "metadata": {},
   "outputs": [
    {
     "name": "stdout",
     "output_type": "stream",
     "text": [
      "%d 2.45678\n"
     ]
    }
   ],
   "source": [
    "print(\"%d\",age)"
   ]
  },
  {
   "cell_type": "code",
   "execution_count": 12,
   "metadata": {},
   "outputs": [
    {
     "name": "stdout",
     "output_type": "stream",
     "text": [
      "2\n"
     ]
    }
   ],
   "source": [
    "print(\"%d\"%age)"
   ]
  },
  {
   "cell_type": "code",
   "execution_count": 13,
   "metadata": {},
   "outputs": [
    {
     "name": "stdout",
     "output_type": "stream",
     "text": [
      "The Kid details are: Name:JAYARAM, Age:2, Height:3.46\n",
      "The kid details are: Name:JAYARAM, Age:2, Height:3.46, Weight:12.5\n",
      "The kid details are: Name:JAYARAM, Age:2, Height:3.456780, Weight:12.495687\n"
     ]
    }
   ],
   "source": [
    "name=\"JAYARAM\"\n",
    "age=2.45678\n",
    "weight=12.4956868\n",
    "height=3.45678\n",
    "# The kid details are: Name:JAYARAM, Age:2, weight:12.50, Height:3.46\n",
    "print(\"The Kid details are: Name:\",name,\", Age:\",int(age),\", Height:\",round(height,2),sep=\"\")\n",
    "print(f\"The kid details are: Name:{name}, Age:{int(age)}, Height:{round(height,2)}, Weight:{round(weight,2)}\")\n",
    "print(\"The kid details are: Name:%s, Age:%d, Height:%f, Weight:%f\"%(name, age, height, weight))"
   ]
  },
  {
   "cell_type": "code",
   "execution_count": 14,
   "metadata": {},
   "outputs": [
    {
     "name": "stdout",
     "output_type": "stream",
     "text": [
      "The Kid details are: Name:JAYARAM, Age:2, Height:3.46\n",
      "The kid details are: Name:JAYARAM, Age:2, Height:3.46, Weight:12.5\n",
      "The kid details are: Name:JAYARAM, Age:2, Height:3.46, Weight:12.50\n"
     ]
    }
   ],
   "source": [
    "name=\"JAYARAM\"\n",
    "age=2.45678\n",
    "weight=12.4956868\n",
    "height=3.45678\n",
    "# The kid details are: Name:JAYARAM, Age:2, weight:12.50, Height:3.46\n",
    "print(\"The Kid details are: Name:\",name,\", Age:\",int(age),\", Height:\",round(height,2),sep=\"\")\n",
    "print(f\"The kid details are: Name:{name}, Age:{int(age)}, Height:{round(height,2)}, Weight:{round(weight,2)}\")\n",
    "print(\"The kid details are: Name:%s, Age:%d, Height:%.2f, Weight:%.2f\"%(name, age, height, weight))"
   ]
  },
  {
   "cell_type": "code",
   "execution_count": 15,
   "metadata": {},
   "outputs": [
    {
     "name": "stdout",
     "output_type": "stream",
     "text": [
      "8010\n"
     ]
    }
   ],
   "source": [
    "a=10\n",
    "b=20\n",
    "print(a+b**3)"
   ]
  },
  {
   "cell_type": "code",
   "execution_count": 16,
   "metadata": {},
   "outputs": [
    {
     "name": "stdout",
     "output_type": "stream",
     "text": [
      "27000\n"
     ]
    }
   ],
   "source": [
    "a=10\n",
    "b=20\n",
    "print((a+b)**3)"
   ]
  },
  {
   "cell_type": "code",
   "execution_count": 18,
   "metadata": {},
   "outputs": [
    {
     "name": "stdout",
     "output_type": "stream",
     "text": [
      "27000\n",
      "27000\n"
     ]
    }
   ],
   "source": [
    "a=10\n",
    "b=20\n",
    "print((a+b)**3)\n",
    "print(a**3+b**3+3*a*b*(a+b))"
   ]
  },
  {
   "cell_type": "code",
   "execution_count": 19,
   "metadata": {},
   "outputs": [
    {
     "name": "stdout",
     "output_type": "stream",
     "text": [
      "27000\n",
      "27000\n",
      "27000\n"
     ]
    }
   ],
   "source": [
    "a=10\n",
    "b=20\n",
    "print((a+b)**3)\n",
    "print(a**3+b**3+3*a*b*(a+b))\n",
    "print(a**3+b**3+3*a**2*b+3*a*b**2)"
   ]
  },
  {
   "cell_type": "code",
   "execution_count": 20,
   "metadata": {},
   "outputs": [
    {
     "name": "stdout",
     "output_type": "stream",
     "text": [
      "14.0\n"
     ]
    }
   ],
   "source": [
    "print(10+20/5)"
   ]
  },
  {
   "cell_type": "code",
   "execution_count": 21,
   "metadata": {},
   "outputs": [
    {
     "name": "stdout",
     "output_type": "stream",
     "text": [
      "10.0\n"
     ]
    }
   ],
   "source": [
    "print(1000/20/5)"
   ]
  },
  {
   "cell_type": "code",
   "execution_count": 22,
   "metadata": {},
   "outputs": [
    {
     "data": {
      "text/plain": [
       "False"
      ]
     },
     "execution_count": 22,
     "metadata": {},
     "output_type": "execute_result"
    }
   ],
   "source": [
    "# boolean expressions\n",
    "a=10\n",
    "b=20\n",
    "a>b"
   ]
  },
  {
   "cell_type": "code",
   "execution_count": 23,
   "metadata": {},
   "outputs": [
    {
     "data": {
      "text/plain": [
       "True"
      ]
     },
     "execution_count": 23,
     "metadata": {},
     "output_type": "execute_result"
    }
   ],
   "source": [
    "bool(\"python\")"
   ]
  },
  {
   "cell_type": "code",
   "execution_count": 24,
   "metadata": {},
   "outputs": [
    {
     "data": {
      "text/plain": [
       "False"
      ]
     },
     "execution_count": 24,
     "metadata": {},
     "output_type": "execute_result"
    }
   ],
   "source": [
    "bool(\"\")"
   ]
  },
  {
   "cell_type": "code",
   "execution_count": 25,
   "metadata": {},
   "outputs": [
    {
     "data": {
      "text/plain": [
       "True"
      ]
     },
     "execution_count": 25,
     "metadata": {},
     "output_type": "execute_result"
    }
   ],
   "source": [
    "bool(\"0\")"
   ]
  },
  {
   "cell_type": "code",
   "execution_count": 26,
   "metadata": {},
   "outputs": [
    {
     "data": {
      "text/plain": [
       "True"
      ]
     },
     "execution_count": 26,
     "metadata": {},
     "output_type": "execute_result"
    }
   ],
   "source": [
    "bool([1,2,3,4])"
   ]
  },
  {
   "cell_type": "code",
   "execution_count": 27,
   "metadata": {},
   "outputs": [
    {
     "data": {
      "text/plain": [
       "False"
      ]
     },
     "execution_count": 27,
     "metadata": {},
     "output_type": "execute_result"
    }
   ],
   "source": [
    "bool([])"
   ]
  },
  {
   "cell_type": "code",
   "execution_count": 28,
   "metadata": {},
   "outputs": [
    {
     "data": {
      "text/plain": [
       "True"
      ]
     },
     "execution_count": 28,
     "metadata": {},
     "output_type": "execute_result"
    }
   ],
   "source": [
    "bool({1,2,3,4})"
   ]
  },
  {
   "cell_type": "code",
   "execution_count": 29,
   "metadata": {},
   "outputs": [
    {
     "data": {
      "text/plain": [
       "False"
      ]
     },
     "execution_count": 29,
     "metadata": {},
     "output_type": "execute_result"
    }
   ],
   "source": [
    "bool({})"
   ]
  },
  {
   "cell_type": "code",
   "execution_count": 30,
   "metadata": {},
   "outputs": [
    {
     "data": {
      "text/plain": [
       "True"
      ]
     },
     "execution_count": 30,
     "metadata": {},
     "output_type": "execute_result"
    }
   ],
   "source": [
    "bool({0})"
   ]
  },
  {
   "cell_type": "code",
   "execution_count": 33,
   "metadata": {},
   "outputs": [
    {
     "data": {
      "text/plain": [
       "True"
      ]
     },
     "execution_count": 33,
     "metadata": {},
     "output_type": "execute_result"
    }
   ],
   "source": [
    "bool([0])"
   ]
  },
  {
   "cell_type": "code",
   "execution_count": 34,
   "metadata": {},
   "outputs": [
    {
     "data": {
      "text/plain": [
       "False"
      ]
     },
     "execution_count": 34,
     "metadata": {},
     "output_type": "execute_result"
    }
   ],
   "source": [
    "bool(0)"
   ]
  },
  {
   "cell_type": "code",
   "execution_count": 35,
   "metadata": {},
   "outputs": [
    {
     "data": {
      "text/plain": [
       "True"
      ]
     },
     "execution_count": 35,
     "metadata": {},
     "output_type": "execute_result"
    }
   ],
   "source": [
    "bool(10)"
   ]
  },
  {
   "cell_type": "code",
   "execution_count": 36,
   "metadata": {},
   "outputs": [
    {
     "data": {
      "text/plain": [
       "True"
      ]
     },
     "execution_count": 36,
     "metadata": {},
     "output_type": "execute_result"
    }
   ],
   "source": [
    "bool(-10)"
   ]
  },
  {
   "cell_type": "code",
   "execution_count": 37,
   "metadata": {},
   "outputs": [
    {
     "data": {
      "text/plain": [
       "False"
      ]
     },
     "execution_count": 37,
     "metadata": {},
     "output_type": "execute_result"
    }
   ],
   "source": [
    "bool(0.0)"
   ]
  },
  {
   "cell_type": "code",
   "execution_count": 38,
   "metadata": {},
   "outputs": [
    {
     "data": {
      "text/plain": [
       "False"
      ]
     },
     "execution_count": 38,
     "metadata": {},
     "output_type": "execute_result"
    }
   ],
   "source": [
    "bool(0+0j)"
   ]
  },
  {
   "cell_type": "code",
   "execution_count": 39,
   "metadata": {},
   "outputs": [
    {
     "data": {
      "text/plain": [
       "True"
      ]
     },
     "execution_count": 39,
     "metadata": {},
     "output_type": "execute_result"
    }
   ],
   "source": [
    "bool(1+2j)"
   ]
  },
  {
   "cell_type": "code",
   "execution_count": 40,
   "metadata": {},
   "outputs": [
    {
     "data": {
      "text/plain": [
       "True"
      ]
     },
     "execution_count": 40,
     "metadata": {},
     "output_type": "execute_result"
    }
   ],
   "source": [
    "bool(0.00001)"
   ]
  },
  {
   "cell_type": "code",
   "execution_count": null,
   "metadata": {},
   "outputs": [],
   "source": []
  }
 ],
 "metadata": {
  "kernelspec": {
   "display_name": "Python 3",
   "language": "python",
   "name": "python3"
  },
  "language_info": {
   "codemirror_mode": {
    "name": "ipython",
    "version": 3
   },
   "file_extension": ".py",
   "mimetype": "text/x-python",
   "name": "python",
   "nbconvert_exporter": "python",
   "pygments_lexer": "ipython3",
   "version": "3.7.3"
  }
 },
 "nbformat": 4,
 "nbformat_minor": 2
}
