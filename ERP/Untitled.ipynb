{
 "cells": [
  {
   "cell_type": "code",
   "execution_count": null,
   "metadata": {},
   "outputs": [],
   "source": [
    "class Product:\n",
    "    def __init__(x,name,cost):\n",
    "        x.name=name\n",
    "        x.cost=cost\n",
    "    def get(y):\n",
    "        return y.name, y.cost\n",
    "motog=Product(\"MOTOROLA G\",7000)\n",
    "print(motog.get())"
   ]
  },
  {
   "cell_type": "code",
   "execution_count": 1,
   "metadata": {},
   "outputs": [
    {
     "ename": "TypeError",
     "evalue": "fun() missing 1 required positional argument: 'x'",
     "output_type": "error",
     "traceback": [
      "\u001b[1;31m---------------------------------------------------------------------------\u001b[0m",
      "\u001b[1;31mTypeError\u001b[0m                                 Traceback (most recent call last)",
      "\u001b[1;32m<ipython-input-1-16952a0473e5>\u001b[0m in \u001b[0;36m<module>\u001b[1;34m\u001b[0m\n\u001b[0;32m      1\u001b[0m \u001b[1;32mdef\u001b[0m \u001b[0mfun\u001b[0m\u001b[1;33m(\u001b[0m\u001b[0mx\u001b[0m\u001b[1;33m)\u001b[0m\u001b[1;33m:\u001b[0m\u001b[1;33m\u001b[0m\u001b[1;33m\u001b[0m\u001b[0m\n\u001b[0;32m      2\u001b[0m     \u001b[0mprint\u001b[0m\u001b[1;33m(\u001b[0m\u001b[0mx\u001b[0m\u001b[1;33m)\u001b[0m\u001b[1;33m\u001b[0m\u001b[1;33m\u001b[0m\u001b[0m\n\u001b[1;32m----> 3\u001b[1;33m \u001b[0mfun\u001b[0m\u001b[1;33m(\u001b[0m\u001b[1;33m)\u001b[0m\u001b[1;33m\u001b[0m\u001b[1;33m\u001b[0m\u001b[0m\n\u001b[0m",
      "\u001b[1;31mTypeError\u001b[0m: fun() missing 1 required positional argument: 'x'"
     ]
    }
   ],
   "source": [
    "def fun(x):\n",
    "    print(x)\n",
    "fun()"
   ]
  },
  {
   "cell_type": "code",
   "execution_count": 2,
   "metadata": {},
   "outputs": [
    {
     "name": "stdout",
     "output_type": "stream",
     "text": [
      "('MOTOROLA G', 7000)\n"
     ]
    }
   ],
   "source": [
    "class Product:\n",
    "    def __init__(x,name,cost):\n",
    "        x.name=name\n",
    "        x.cost=cost\n",
    "    def get(y):\n",
    "        return y.name, y.cost\n",
    "motog=Product(\"MOTOROLA G\",7000)\n",
    "print(motog.get())"
   ]
  },
  {
   "cell_type": "code",
   "execution_count": 3,
   "metadata": {},
   "outputs": [
    {
     "name": "stdout",
     "output_type": "stream",
     "text": [
      "('MOTOROLA G', 7000)\n",
      "('MOTOROLA G', 7000)\n"
     ]
    }
   ],
   "source": [
    "class Product:\n",
    "    def __init__(x,name,cost):\n",
    "        x.name=name\n",
    "        x.cost=cost\n",
    "    def get(y):\n",
    "        return y.name, y.cost\n",
    "motog=Product(\"MOTOROLA G\",7000)\n",
    "print(motog.get())\n",
    "print(Product.get(motog))"
   ]
  },
  {
   "cell_type": "code",
   "execution_count": 5,
   "metadata": {},
   "outputs": [
    {
     "name": "stdout",
     "output_type": "stream",
     "text": [
      "('MOTOROLA G', 7000)\n",
      "700.0\n"
     ]
    }
   ],
   "source": [
    "class Product:\n",
    "    def __init__(x,name,cost):\n",
    "        x.name=name\n",
    "        x.cost=cost\n",
    "    def get(y):\n",
    "        return y.name, y.cost\n",
    "    def discount(z):\n",
    "        return z.cost*0.1\n",
    "motog=Product(\"MOTOROLA G\",7000)\n",
    "print(motog.get())\n",
    "print(motog.discount())"
   ]
  },
  {
   "cell_type": "code",
   "execution_count": 6,
   "metadata": {},
   "outputs": [
    {
     "name": "stdout",
     "output_type": "stream",
     "text": [
      "('MOTOROLA G', 7000)\n",
      "700.0\n"
     ]
    }
   ],
   "source": [
    "class Product:\n",
    "    def __init__(self,name,cost):\n",
    "        self.name=name\n",
    "        self.cost=cost\n",
    "    def get(self):\n",
    "        return self.name, self.cost\n",
    "    def discount(self):\n",
    "        return self.cost*0.1\n",
    "motog=Product(\"MOTOROLA G\",7000)\n",
    "print(motog.get())\n",
    "print(motog.discount())"
   ]
  },
  {
   "cell_type": "code",
   "execution_count": null,
   "metadata": {},
   "outputs": [],
   "source": []
  }
 ],
 "metadata": {
  "kernelspec": {
   "display_name": "Python 3",
   "language": "python",
   "name": "python3"
  },
  "language_info": {
   "codemirror_mode": {
    "name": "ipython",
    "version": 3
   },
   "file_extension": ".py",
   "mimetype": "text/x-python",
   "name": "python",
   "nbconvert_exporter": "python",
   "pygments_lexer": "ipython3",
   "version": "3.7.3"
  }
 },
 "nbformat": 4,
 "nbformat_minor": 2
}
