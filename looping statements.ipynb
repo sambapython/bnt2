{
 "cells": [
  {
   "cell_type": "code",
   "execution_count": 1,
   "metadata": {},
   "outputs": [
    {
     "name": "stdout",
     "output_type": "stream",
     "text": [
      "st1\n",
      "st2\n",
      "st3\n",
      "st4\n",
      "st5\n"
     ]
    }
   ],
   "source": [
    "print(\"st1\")\n",
    "print(\"st2\")\n",
    "print(\"st3\")\n",
    "print(\"st4\")\n",
    "print(\"st5\")"
   ]
  },
  {
   "cell_type": "code",
   "execution_count": 2,
   "metadata": {},
   "outputs": [
    {
     "name": "stdout",
     "output_type": "stream",
     "text": [
      "st1\n",
      "st2\n",
      "st3\n",
      "st4\n",
      "st5\n"
     ]
    }
   ],
   "source": [
    "for i in range(1,6):\n",
    "    print(\"st%s\"%i)"
   ]
  },
  {
   "cell_type": "code",
   "execution_count": 4,
   "metadata": {},
   "outputs": [
    {
     "name": "stdout",
     "output_type": "stream",
     "text": [
      "10\n",
      "20\n",
      "python\n",
      "java\n",
      "php\n"
     ]
    }
   ],
   "source": [
    "l=[10,20,\"python\",\"java\",\"php\"]\n",
    "print(l[0])\n",
    "print(l[1])\n",
    "print(l[2])\n",
    "print(l[3])\n",
    "print(l[4])"
   ]
  },
  {
   "cell_type": "code",
   "execution_count": 5,
   "metadata": {},
   "outputs": [
    {
     "name": "stdout",
     "output_type": "stream",
     "text": [
      "welcome\n",
      "0\n",
      "thank you!!\n"
     ]
    }
   ],
   "source": [
    "print(\"welcome\")\n",
    "i=0\n",
    "if i<3:\n",
    "    print(i)\n",
    "    i=i+1\n",
    "print(\"thank you!!\")"
   ]
  },
  {
   "cell_type": "code",
   "execution_count": 6,
   "metadata": {},
   "outputs": [
    {
     "name": "stdout",
     "output_type": "stream",
     "text": [
      "welcome\n",
      "0\n",
      "1\n",
      "2\n",
      "thank you!!\n"
     ]
    }
   ],
   "source": [
    "print(\"welcome\")\n",
    "i=0\n",
    "while i<3:\n",
    "    print(i)\n",
    "    i=i+1\n",
    "print(\"thank you!!\")"
   ]
  },
  {
   "cell_type": "code",
   "execution_count": 7,
   "metadata": {},
   "outputs": [
    {
     "name": "stdout",
     "output_type": "stream",
     "text": [
      "welcome\n",
      "thank you!!\n"
     ]
    }
   ],
   "source": [
    "print(\"welcome\")\n",
    "i=10\n",
    "while i<3:\n",
    "    print(i)\n",
    "    i=i+1\n",
    "print(\"thank you!!\")"
   ]
  },
  {
   "cell_type": "code",
   "execution_count": null,
   "metadata": {},
   "outputs": [],
   "source": [
    "print(\"welcome\")\n",
    "i=0\n",
    "while i<3:\n",
    "    print(i)\n",
    "    i=i-1\n",
    "print(\"thank you!!\")"
   ]
  },
  {
   "cell_type": "code",
   "execution_count": null,
   "metadata": {},
   "outputs": [],
   "source": [
    "while True:\n",
    "    print(\"hi\")"
   ]
  },
  {
   "cell_type": "code",
   "execution_count": 1,
   "metadata": {},
   "outputs": [],
   "source": [
    "while False:\n",
    "    print(\"hello\")"
   ]
  },
  {
   "cell_type": "code",
   "execution_count": 5,
   "metadata": {},
   "outputs": [
    {
     "name": "stdout",
     "output_type": "stream",
     "text": [
      "10\n",
      "20\n",
      "30\n",
      "40\n",
      "50\n",
      "60\n"
     ]
    }
   ],
   "source": [
    "l=[10,20,30,40,50,60]\n",
    "print(l[0])\n",
    "print(l[1])\n",
    "print(l[2])\n",
    "print(l[3])\n",
    "print(l[4])\n",
    "print(l[5])\n"
   ]
  },
  {
   "cell_type": "code",
   "execution_count": 7,
   "metadata": {},
   "outputs": [
    {
     "name": "stdout",
     "output_type": "stream",
     "text": [
      "0\n",
      "1\n",
      "2\n",
      "3\n",
      "4\n",
      "5\n"
     ]
    }
   ],
   "source": [
    "i=0\n",
    "while i<6:\n",
    "    print(i)\n",
    "    i=i+1"
   ]
  },
  {
   "cell_type": "code",
   "execution_count": 8,
   "metadata": {},
   "outputs": [
    {
     "name": "stdout",
     "output_type": "stream",
     "text": [
      "10\n",
      "20\n",
      "30\n",
      "40\n",
      "50\n",
      "60\n"
     ]
    }
   ],
   "source": [
    "l=[10,20,30,40,50,60]\n",
    "i=0\n",
    "while i<6:\n",
    "    print(l[i])\n",
    "    i=i+1"
   ]
  },
  {
   "cell_type": "code",
   "execution_count": 3,
   "metadata": {},
   "outputs": [
    {
     "name": "stdout",
     "output_type": "stream",
     "text": [
      "10\n",
      "20\n",
      "30\n",
      "40\n",
      "50\n",
      "60\n"
     ]
    }
   ],
   "source": [
    "l=[10,20,30,40,50,60]\n",
    "for i in l:\n",
    "    print(i)"
   ]
  },
  {
   "cell_type": "code",
   "execution_count": 9,
   "metadata": {},
   "outputs": [
    {
     "name": "stdout",
     "output_type": "stream",
     "text": [
      "apple\n",
      "orange\n",
      "banana\n",
      "grapes\n"
     ]
    }
   ],
   "source": [
    "fruits=[\"apple\",\"orange\",\"banana\",\"grapes\"]\n",
    "for fruit in fruits:\n",
    "    print(fruit)"
   ]
  },
  {
   "cell_type": "code",
   "execution_count": 10,
   "metadata": {},
   "outputs": [
    {
     "name": "stdout",
     "output_type": "stream",
     "text": [
      "apple\n",
      "orange\n",
      "banana\n",
      "grapes\n",
      "guva\n",
      "pineapple\n",
      "strawberry\n"
     ]
    }
   ],
   "source": [
    "fruits=[\"apple\",\"orange\",\"banana\",\"grapes\",\"guva\",\"pineapple\",\"strawberry\"]\n",
    "for fruit in fruits:\n",
    "    print(fruit)"
   ]
  },
  {
   "cell_type": "code",
   "execution_count": 11,
   "metadata": {},
   "outputs": [
    {
     "name": "stdout",
     "output_type": "stream",
     "text": [
      "p\n",
      "y\n",
      "t\n",
      "h\n",
      "o\n",
      "n\n"
     ]
    }
   ],
   "source": [
    "for i in \"python\":\n",
    "    print(i)"
   ]
  },
  {
   "cell_type": "code",
   "execution_count": 12,
   "metadata": {},
   "outputs": [
    {
     "name": "stdout",
     "output_type": "stream",
     "text": [
      "10\n",
      "20\n",
      "30\n",
      "40\n",
      "50\n"
     ]
    }
   ],
   "source": [
    "for i in (10,20,30,40,50):\n",
    "    print(i)"
   ]
  },
  {
   "cell_type": "code",
   "execution_count": 13,
   "metadata": {},
   "outputs": [
    {
     "name": "stdout",
     "output_type": "stream",
     "text": [
      "10\n",
      "67\n",
      "45\n",
      "23\n"
     ]
    }
   ],
   "source": [
    "for i in {10,23,45,67}:\n",
    "    print(i)"
   ]
  },
  {
   "cell_type": "code",
   "execution_count": 14,
   "metadata": {},
   "outputs": [
    {
     "name": "stdout",
     "output_type": "stream",
     "text": [
      "name\n",
      "age\n",
      "height\n",
      "weight\n"
     ]
    }
   ],
   "source": [
    "for i in {\"name\":\"anil\",\"age\":23,\"height\":5.6,\"weight\":56}:\n",
    "    print(i)"
   ]
  },
  {
   "cell_type": "code",
   "execution_count": 15,
   "metadata": {},
   "outputs": [
    {
     "data": {
      "text/plain": [
       "True"
      ]
     },
     "execution_count": 15,
     "metadata": {},
     "output_type": "execute_result"
    }
   ],
   "source": [
    "fruits=[\"apple\",\"orange\",\"banana\",\"grapes\",\"guva\",\"pineapple\",\"strawberry\"]\n",
    "\"apple\" in fruits\n"
   ]
  },
  {
   "cell_type": "code",
   "execution_count": 16,
   "metadata": {},
   "outputs": [
    {
     "name": "stdout",
     "output_type": "stream",
     "text": [
      "Enter a fruit name:banana\n",
      "find the fruit\n"
     ]
    }
   ],
   "source": [
    "fruits=[\"apple\",\"orange\",\"banana\",\"grapes\",\"guva\",\"pineapple\",\"strawberry\"]\n",
    "fruit = input(\"Enter a fruit name:\")\n",
    "if fruit in fruits:\n",
    "    print(\"find the fruit\")\n",
    "else:\n",
    "    print(\"not find the fruti\")"
   ]
  },
  {
   "cell_type": "code",
   "execution_count": 17,
   "metadata": {},
   "outputs": [
    {
     "name": "stdout",
     "output_type": "stream",
     "text": [
      "Enter a fruit name:blueberry\n",
      "not find the fruti\n"
     ]
    }
   ],
   "source": [
    "fruits=[\"apple\",\"orange\",\"banana\",\"grapes\",\"guva\",\"pineapple\",\"strawberry\"]\n",
    "fruit = input(\"Enter a fruit name:\")\n",
    "if fruit in fruits:\n",
    "    print(\"find the fruit\")\n",
    "else:\n",
    "    print(\"not find the fruti\")"
   ]
  },
  {
   "cell_type": "code",
   "execution_count": 18,
   "metadata": {},
   "outputs": [
    {
     "name": "stdout",
     "output_type": "stream",
     "text": [
      "10\n",
      "23\n",
      "45\n",
      "68\n",
      "36\n",
      "78\n"
     ]
    }
   ],
   "source": [
    "l=[10,23,45,68,36,78]\n",
    "#10-->even\n",
    "#23-->odd\n",
    "#45-->odd\n",
    "#68-->even\n",
    "#36-->even\n",
    "#78-->even\n",
    "for i in l:\n",
    "    print(i)\n"
   ]
  },
  {
   "cell_type": "code",
   "execution_count": 19,
   "metadata": {},
   "outputs": [
    {
     "name": "stdout",
     "output_type": "stream",
     "text": [
      "10-->even\n",
      "23-->odd\n",
      "45-->odd\n",
      "68-->even\n",
      "36-->even\n",
      "78-->even\n"
     ]
    }
   ],
   "source": [
    "l=[10,23,45,68,36,78]\n",
    "#10-->even\n",
    "#23-->odd\n",
    "#45-->odd\n",
    "#68-->even\n",
    "#36-->even\n",
    "#78-->even\n",
    "for i in l:\n",
    "    resp= \"even\" if i%2==0 else \"odd\"\n",
    "    print(\"%s-->%s\"%(i,resp))"
   ]
  },
  {
   "cell_type": "code",
   "execution_count": 22,
   "metadata": {},
   "outputs": [
    {
     "ename": "SyntaxError",
     "evalue": "can't assign to conditional expression (<ipython-input-22-41ec11d36585>, line 6)",
     "output_type": "error",
     "traceback": [
      "\u001b[1;36m  File \u001b[1;32m\"<ipython-input-22-41ec11d36585>\"\u001b[1;36m, line \u001b[1;32m6\u001b[0m\n\u001b[1;33m    even_count=+1 if i%2==0 else odd_count=+1\u001b[0m\n\u001b[1;37m              ^\u001b[0m\n\u001b[1;31mSyntaxError\u001b[0m\u001b[1;31m:\u001b[0m can't assign to conditional expression\n"
     ]
    }
   ],
   "source": [
    "# find the number of evenumbers and odd number\n",
    "l=[10,23,45,68,36,78]\n",
    "even_count=0\n",
    "odd_count=0\n",
    "for i in l:\n",
    "    even_count=+1 if i%2==0 else odd_count=+1\n",
    "print(odd_count)\n",
    "print(even_count)"
   ]
  },
  {
   "cell_type": "code",
   "execution_count": 23,
   "metadata": {},
   "outputs": [],
   "source": [
    "even_count=+1"
   ]
  },
  {
   "cell_type": "code",
   "execution_count": 25,
   "metadata": {},
   "outputs": [
    {
     "name": "stdout",
     "output_type": "stream",
     "text": [
      "2\n",
      "4\n"
     ]
    }
   ],
   "source": [
    "# find the number of evenumbers and odd number\n",
    "l=[10,23,45,68,36,78]\n",
    "even_count=0\n",
    "odd_count=0\n",
    "for i in l:\n",
    "    if i%2==0:\n",
    "        even_count+=1 \n",
    "    else:\n",
    "        odd_count+=1\n",
    "print(odd_count)\n",
    "print(even_count)"
   ]
  },
  {
   "cell_type": "code",
   "execution_count": 26,
   "metadata": {},
   "outputs": [
    {
     "name": "stdout",
     "output_type": "stream",
     "text": [
      "given list contains even numbers\n"
     ]
    }
   ],
   "source": [
    "# find the linst contains even numbers are not\n",
    "l=[10,23,45,68,36,78]\n",
    "even_count=0\n",
    "for i in l:\n",
    "    if i%2==0:\n",
    "        even_count+=1 \n",
    "if even_count==0:\n",
    "    print(\"given list does not contains even numbers\")\n",
    "else:\n",
    "    print(\"given list contains even numbers\")\n",
    "    "
   ]
  },
  {
   "cell_type": "code",
   "execution_count": 27,
   "metadata": {},
   "outputs": [
    {
     "name": "stdout",
     "output_type": "stream",
     "text": [
      "10\n",
      "23\n",
      "45\n",
      "68\n",
      "36\n",
      "78\n",
      "given list contains even numbers\n"
     ]
    }
   ],
   "source": [
    "# find the linst contains even numbers are not\n",
    "l=[10,23,45,68,36,78]\n",
    "even_count=0\n",
    "for i in l:\n",
    "    print(i)\n",
    "    if i%2==0:\n",
    "        even_count+=1 \n",
    "if even_count==0:\n",
    "    print(\"given list does not contains even numbers\")\n",
    "else:\n",
    "    print(\"given list contains even numbers\")\n",
    "    "
   ]
  },
  {
   "cell_type": "code",
   "execution_count": 28,
   "metadata": {},
   "outputs": [
    {
     "name": "stdout",
     "output_type": "stream",
     "text": [
      "11\n",
      "23\n",
      "45\n",
      "67\n",
      "35\n",
      "77\n",
      "given list does not contains even numbers\n"
     ]
    }
   ],
   "source": [
    "# find the linst contains even numbers are not\n",
    "l=[11,23,45,67,35,77]\n",
    "even_count=0\n",
    "for i in l:\n",
    "    print(i)\n",
    "    if i%2==0:\n",
    "        even_count+=1 \n",
    "if even_count==0:\n",
    "    print(\"given list does not contains even numbers\")\n",
    "else:\n",
    "    print(\"given list contains even numbers\")\n",
    "    "
   ]
  },
  {
   "cell_type": "code",
   "execution_count": 29,
   "metadata": {},
   "outputs": [
    {
     "name": "stdout",
     "output_type": "stream",
     "text": [
      "11\n",
      "23\n",
      "45\n",
      "80\n",
      "67\n",
      "35\n",
      "77\n",
      "given list contains even numbers\n"
     ]
    }
   ],
   "source": [
    "# find the linst contains even numbers are not\n",
    "l=[11,23,45,80,67,35,77]\n",
    "even_count=0\n",
    "for i in l:\n",
    "    print(i)\n",
    "    if i%2==0:\n",
    "        even_count+=1 \n",
    "if even_count==0:\n",
    "    print(\"given list does not contains even numbers\")\n",
    "else:\n",
    "    print(\"given list contains even numbers\")\n",
    "    "
   ]
  },
  {
   "cell_type": "code",
   "execution_count": 30,
   "metadata": {},
   "outputs": [
    {
     "name": "stdout",
     "output_type": "stream",
     "text": [
      "11\n",
      "23\n",
      "45\n",
      "80\n",
      "given list contains even numbers\n"
     ]
    }
   ],
   "source": [
    "# find the linst contains even numbers are not\n",
    "l=[11,23,45,80,67,35,77]\n",
    "even_count=0\n",
    "for i in l:\n",
    "    print(i)\n",
    "    if i%2==0:\n",
    "        even_count+=1\n",
    "        break\n",
    "if even_count==0:\n",
    "    print(\"given list does not contains even numbers\")\n",
    "else:\n",
    "    print(\"given list contains even numbers\")\n",
    "    "
   ]
  },
  {
   "cell_type": "code",
   "execution_count": 31,
   "metadata": {},
   "outputs": [
    {
     "name": "stdout",
     "output_type": "stream",
     "text": [
      "20\n",
      "given list contains even numbers\n"
     ]
    }
   ],
   "source": [
    "# find the linst contains even numbers are not\n",
    "l=[20,11,23,45,80,67,35,77]\n",
    "even_count=0\n",
    "for i in l:\n",
    "    print(i)\n",
    "    if i%2==0:\n",
    "        even_count+=1\n",
    "        break\n",
    "if even_count==0:\n",
    "    print(\"given list does not contains even numbers\")\n",
    "else:\n",
    "    print(\"given list contains even numbers\")\n",
    "    "
   ]
  },
  {
   "cell_type": "code",
   "execution_count": 32,
   "metadata": {},
   "outputs": [
    {
     "name": "stdout",
     "output_type": "stream",
     "text": [
      "welcome\n",
      "thank you!!\n"
     ]
    }
   ],
   "source": [
    "print(\"welcome\")\n",
    "i=0\n",
    "while i<4:\n",
    "    break\n",
    "    i=i+1\n",
    "    print(i)\n",
    "print(\"thank you!!\")\n"
   ]
  },
  {
   "cell_type": "code",
   "execution_count": 33,
   "metadata": {},
   "outputs": [
    {
     "name": "stdout",
     "output_type": "stream",
     "text": [
      "welcome\n",
      "i outside the loop: 0\n",
      "thank you!!\n"
     ]
    }
   ],
   "source": [
    "print(\"welcome\")\n",
    "i=0\n",
    "while i<4:\n",
    "    break\n",
    "    i=i+1\n",
    "    print(i)\n",
    "print(\"i outside the loop:\",i)\n",
    "print(\"thank you!!\")\n"
   ]
  },
  {
   "cell_type": "code",
   "execution_count": 34,
   "metadata": {},
   "outputs": [
    {
     "name": "stdout",
     "output_type": "stream",
     "text": [
      "welcome\n",
      "i outside the loop: 1\n",
      "thank you!!\n"
     ]
    }
   ],
   "source": [
    "print(\"welcome\")\n",
    "i=0\n",
    "while i<4:\n",
    "    i=i+1\n",
    "    break\n",
    "    print(i)\n",
    "print(\"i outside the loop:\",i)\n",
    "print(\"thank you!!\")\n"
   ]
  },
  {
   "cell_type": "code",
   "execution_count": 35,
   "metadata": {},
   "outputs": [
    {
     "name": "stdout",
     "output_type": "stream",
     "text": [
      "welcome\n",
      "1\n",
      "2\n",
      "i outside the loop: 2\n",
      "thank you!!\n"
     ]
    }
   ],
   "source": [
    "print(\"welcome\")\n",
    "i=0\n",
    "while i<4:\n",
    "    if i==2:\n",
    "        break\n",
    "    i=i+1\n",
    "    print(i)\n",
    "print(\"i outside the loop:\",i)\n",
    "print(\"thank you!!\")\n"
   ]
  },
  {
   "cell_type": "code",
   "execution_count": 36,
   "metadata": {},
   "outputs": [
    {
     "name": "stdout",
     "output_type": "stream",
     "text": [
      "welcome\n",
      "1\n",
      "2\n",
      "3\n",
      "4\n",
      "i outside the loop: 4\n",
      "thank you!!\n"
     ]
    }
   ],
   "source": [
    "print(\"welcome\")\n",
    "i=0\n",
    "while i<4:\n",
    "    if i==20:\n",
    "        break\n",
    "    i=i+1\n",
    "    print(i)\n",
    "print(\"i outside the loop:\",i)\n",
    "print(\"thank you!!\")\n"
   ]
  },
  {
   "cell_type": "code",
   "execution_count": 37,
   "metadata": {},
   "outputs": [
    {
     "name": "stdout",
     "output_type": "stream",
     "text": [
      "welcome\n",
      "10\n",
      "i outside the loop:10\n",
      "thank you!!\n"
     ]
    }
   ],
   "source": [
    "print(\"welcome\")\n",
    "for i in [10,12,34,56,67]:\n",
    "    print(i)\n",
    "    break\n",
    "print(\"i outside the loop:%s\"%i)\n",
    "print(\"thank you!!\")"
   ]
  },
  {
   "cell_type": "code",
   "execution_count": 38,
   "metadata": {},
   "outputs": [
    {
     "name": "stdout",
     "output_type": "stream",
     "text": [
      "welcome\n",
      "10\n",
      "12\n",
      "34\n",
      "56\n",
      "67\n",
      "i outside the loop:67\n",
      "thank you!!\n"
     ]
    }
   ],
   "source": [
    "print(\"welcome\")\n",
    "for i in [10,12,34,56,67]:\n",
    "    print(i)\n",
    "print(\"i outside the loop:%s\"%i)\n",
    "print(\"thank you!!\")"
   ]
  },
  {
   "cell_type": "code",
   "execution_count": 39,
   "metadata": {},
   "outputs": [
    {
     "name": "stdout",
     "output_type": "stream",
     "text": [
      "welcome\n",
      "10\n",
      "12\n",
      "34\n",
      "56\n",
      "67\n",
      "this is else block\n",
      "i outside the loop:67\n",
      "thank you!!\n"
     ]
    }
   ],
   "source": [
    "print(\"welcome\")\n",
    "for i in [10,12,34,56,67]:\n",
    "    print(i)\n",
    "else:\n",
    "    print(\"this is else block\")\n",
    "print(\"i outside the loop:%s\"%i)\n",
    "print(\"thank you!!\")"
   ]
  },
  {
   "cell_type": "code",
   "execution_count": 40,
   "metadata": {},
   "outputs": [
    {
     "name": "stdout",
     "output_type": "stream",
     "text": [
      "welcome\n",
      "10\n",
      "i outside the loop:10\n",
      "thank you!!\n"
     ]
    }
   ],
   "source": [
    "print(\"welcome\")\n",
    "for i in [10,12,34,56,67]:\n",
    "    print(i)\n",
    "    break\n",
    "else:\n",
    "    print(\"this is else block\")\n",
    "print(\"i outside the loop:%s\"%i)\n",
    "print(\"thank you!!\")"
   ]
  },
  {
   "cell_type": "code",
   "execution_count": 41,
   "metadata": {},
   "outputs": [
    {
     "name": "stdout",
     "output_type": "stream",
     "text": [
      "welcome\n",
      "10\n",
      "12\n",
      "34\n",
      "56\n",
      "67\n",
      "this is else block\n",
      "i outside the loop:67\n",
      "thank you!!\n"
     ]
    }
   ],
   "source": [
    "print(\"welcome\")\n",
    "for i in [10,12,34,56,67]:\n",
    "    print(i)\n",
    "    if i==300:\n",
    "        break\n",
    "else:\n",
    "    print(\"this is else block\")\n",
    "print(\"i outside the loop:%s\"%i)\n",
    "print(\"thank you!!\")"
   ]
  },
  {
   "cell_type": "code",
   "execution_count": 42,
   "metadata": {},
   "outputs": [
    {
     "name": "stdout",
     "output_type": "stream",
     "text": [
      "even number found\n"
     ]
    }
   ],
   "source": [
    "# find the linst contains even numbers are not\n",
    "l=[11,23,45,80,67,35,77]\n",
    "for i in l:\n",
    "    if i%2==0:\n",
    "        print(\"even number found\")\n",
    "        break\n",
    "else:\n",
    "    print(\"even number not found\")"
   ]
  },
  {
   "cell_type": "code",
   "execution_count": 43,
   "metadata": {},
   "outputs": [
    {
     "name": "stdout",
     "output_type": "stream",
     "text": [
      "even number not found\n"
     ]
    }
   ],
   "source": [
    "# find the linst contains even numbers are not\n",
    "l=[11,23,45,81,67,35,77]\n",
    "for i in l:\n",
    "    if i%2==0:\n",
    "        print(\"even number found\")\n",
    "        break\n",
    "else:\n",
    "    print(\"even number not found\")"
   ]
  },
  {
   "cell_type": "code",
   "execution_count": null,
   "metadata": {},
   "outputs": [],
   "source": []
  }
 ],
 "metadata": {
  "kernelspec": {
   "display_name": "Python 3",
   "language": "python",
   "name": "python3"
  },
  "language_info": {
   "codemirror_mode": {
    "name": "ipython",
    "version": 3
   },
   "file_extension": ".py",
   "mimetype": "text/x-python",
   "name": "python",
   "nbconvert_exporter": "python",
   "pygments_lexer": "ipython3",
   "version": "3.7.3"
  }
 },
 "nbformat": 4,
 "nbformat_minor": 2
}
