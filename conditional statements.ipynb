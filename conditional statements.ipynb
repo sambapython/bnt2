{
 "cells": [
  {
   "cell_type": "code",
   "execution_count": 1,
   "metadata": {},
   "outputs": [
    {
     "name": "stdout",
     "output_type": "stream",
     "text": [
      "Welcome\n",
      "True\n",
      "EVEN\n",
      "Thank you!!\n"
     ]
    }
   ],
   "source": [
    "print(\"Welcome\")\n",
    "a=10\n",
    "print(a%2==0)\n",
    "if a%2==0:\n",
    "    print(\"EVEN\")\n",
    "else:\n",
    "    print(\"ODD\")\n",
    "print(\"Thank you!!\")"
   ]
  },
  {
   "cell_type": "code",
   "execution_count": 2,
   "metadata": {},
   "outputs": [
    {
     "name": "stdout",
     "output_type": "stream",
     "text": [
      "Welcome\n",
      "False\n",
      "ODD\n",
      "Thank you!!\n"
     ]
    }
   ],
   "source": [
    "print(\"Welcome\")\n",
    "a=11\n",
    "print(a%2==0)\n",
    "if a%2==0:\n",
    "    print(\"EVEN\")\n",
    "else:\n",
    "    print(\"ODD\")\n",
    "print(\"Thank you!!\")"
   ]
  },
  {
   "cell_type": "code",
   "execution_count": 3,
   "metadata": {},
   "outputs": [
    {
     "name": "stdout",
     "output_type": "stream",
     "text": [
      "Welcome\n",
      "False\n",
      "ODD\n",
      "Thank you!!\n"
     ]
    }
   ],
   "source": [
    "print(\"Welcome\")\n",
    "a=11\n",
    "print(a%2==0)\n",
    "if a%2==0:\n",
    "  print(\"EVEN\")\n",
    "else:\n",
    " print(\"ODD\")\n",
    "print(\"Thank you!!\")"
   ]
  },
  {
   "cell_type": "code",
   "execution_count": 4,
   "metadata": {},
   "outputs": [
    {
     "name": "stdout",
     "output_type": "stream",
     "text": [
      "Welcome\n",
      "False\n",
      "else block started\n",
      "ODD\n",
      "Else block ended\n",
      "Thank you!!\n"
     ]
    }
   ],
   "source": [
    "print(\"Welcome\")\n",
    "a=11\n",
    "print(a%2==0)\n",
    "if a%2==0:\n",
    "    print(\"if block started\")\n",
    "    print(\"EVEN\")\n",
    "    print(\"if block ended\")\n",
    "else:\n",
    "    print(\"else block started\")\n",
    "    print(\"ODD\")\n",
    "    print(\"Else block ended\")\n",
    "print(\"Thank you!!\")"
   ]
  },
  {
   "cell_type": "code",
   "execution_count": 5,
   "metadata": {},
   "outputs": [
    {
     "name": "stdout",
     "output_type": "stream",
     "text": [
      "Welcome\n",
      "False\n",
      "Thank you!!\n"
     ]
    }
   ],
   "source": [
    "print(\"Welcome\")\n",
    "a=11\n",
    "print(a%2==0)\n",
    "if a%2==0:\n",
    "    print(\"if block started\")\n",
    "    print(\"EVEN\")\n",
    "    print(\"if block ended\")\n",
    "\n",
    "print(\"Thank you!!\")"
   ]
  },
  {
   "cell_type": "code",
   "execution_count": 6,
   "metadata": {},
   "outputs": [
    {
     "ename": "SyntaxError",
     "evalue": "invalid syntax (<ipython-input-6-0a1889b7084b>, line 8)",
     "output_type": "error",
     "traceback": [
      "\u001b[1;36m  File \u001b[1;32m\"<ipython-input-6-0a1889b7084b>\"\u001b[1;36m, line \u001b[1;32m8\u001b[0m\n\u001b[1;33m    else:\u001b[0m\n\u001b[1;37m       ^\u001b[0m\n\u001b[1;31mSyntaxError\u001b[0m\u001b[1;31m:\u001b[0m invalid syntax\n"
     ]
    }
   ],
   "source": [
    "print(\"Welcome\")\n",
    "a=11\n",
    "print(a%2==0)\n",
    "if a%2==0:\n",
    "    print(\"if block started\")\n",
    "    print(\"EVEN\")\n",
    "print(\"if block ended\")\n",
    "else:\n",
    "    print(\"else block started\")\n",
    "    print(\"ODD\")\n",
    "    print(\"Else block ended\")\n",
    "print(\"Thank you!!\")"
   ]
  },
  {
   "cell_type": "code",
   "execution_count": 7,
   "metadata": {},
   "outputs": [
    {
     "name": "stdout",
     "output_type": "stream",
     "text": [
      "Welcome\n",
      "odd\n",
      "thanks\n"
     ]
    }
   ],
   "source": [
    "print(\"Welcome\")\n",
    "a=10\n",
    "print(\"odd\" if a%2==0 else \"even\")\n",
    "print(\"thanks\")"
   ]
  },
  {
   "cell_type": "code",
   "execution_count": 8,
   "metadata": {},
   "outputs": [
    {
     "name": "stdout",
     "output_type": "stream",
     "text": [
      "hello\n"
     ]
    }
   ],
   "source": [
    "print(\"hello\")"
   ]
  },
  {
   "cell_type": "code",
   "execution_count": 9,
   "metadata": {},
   "outputs": [
    {
     "ename": "SyntaxError",
     "evalue": "EOL while scanning string literal (<ipython-input-9-758d8deb02c7>, line 2)",
     "output_type": "error",
     "traceback": [
      "\u001b[1;36m  File \u001b[1;32m\"<ipython-input-9-758d8deb02c7>\"\u001b[1;36m, line \u001b[1;32m2\u001b[0m\n\u001b[1;33m    print(\"dsfgds)\u001b[0m\n\u001b[1;37m                  ^\u001b[0m\n\u001b[1;31mSyntaxError\u001b[0m\u001b[1;31m:\u001b[0m EOL while scanning string literal\n"
     ]
    }
   ],
   "source": [
    "print(\"hello\")\n",
    "print(\"dsfgds)"
   ]
  },
  {
   "cell_type": "code",
   "execution_count": 10,
   "metadata": {},
   "outputs": [
    {
     "name": "stdout",
     "output_type": "stream",
     "text": [
      "enter string:python\n",
      "6\n"
     ]
    }
   ],
   "source": [
    "s=input(\"enter string:\")\n",
    "if len(s)>0:\n",
    "    print(len(s))\n",
    "else:\n",
    "    print(\"invalid string\")"
   ]
  },
  {
   "cell_type": "code",
   "execution_count": 11,
   "metadata": {},
   "outputs": [
    {
     "name": "stdout",
     "output_type": "stream",
     "text": [
      "enter string:\n",
      "invalid string\n"
     ]
    }
   ],
   "source": [
    "s=input(\"enter string:\")\n",
    "if len(s)>0:\n",
    "    print(len(s))\n",
    "else:\n",
    "    print(\"invalid string\")"
   ]
  },
  {
   "cell_type": "code",
   "execution_count": 12,
   "metadata": {},
   "outputs": [
    {
     "name": "stdout",
     "output_type": "stream",
     "text": [
      "enter string:2\n",
      "1\n"
     ]
    }
   ],
   "source": [
    "s=input(\"enter string:\")\n",
    "if len(s)>0:\n",
    "    print(len(s))\n",
    "else:\n",
    "    print(\"invalid string\")"
   ]
  },
  {
   "cell_type": "code",
   "execution_count": 13,
   "metadata": {},
   "outputs": [
    {
     "name": "stdout",
     "output_type": "stream",
     "text": [
      "enter string:\n",
      "invalid string\n"
     ]
    }
   ],
   "source": [
    "s=input(\"enter string:\")\n",
    "print(len(s) if len(s)>0 else \"invalid string\")a"
   ]
  },
  {
   "cell_type": "code",
   "execution_count": 15,
   "metadata": {},
   "outputs": [
    {
     "name": "stdout",
     "output_type": "stream",
     "text": [
      "enter string:python\n",
      "6\n"
     ]
    }
   ],
   "source": [
    "s=input(\"enter string:\")\n",
    "print(len(s) if len(s)>0 else \"invalid string\")"
   ]
  },
  {
   "cell_type": "code",
   "execution_count": 16,
   "metadata": {},
   "outputs": [
    {
     "name": "stdout",
     "output_type": "stream",
     "text": [
      "enter string:python\n",
      "6\n"
     ]
    }
   ],
   "source": [
    "s=input(\"enter string:\")\n",
    "len_s = len(s)\n",
    "print(len_s if bool(len_s>0) else \"invalid string\")"
   ]
  },
  {
   "cell_type": "code",
   "execution_count": null,
   "metadata": {},
   "outputs": [],
   "source": [
    "s=input(\"enter string:\")\n",
    "len_s = len(s)\n",
    "print(len_s if s else \"invalid string\")"
   ]
  },
  {
   "cell_type": "code",
   "execution_count": 17,
   "metadata": {},
   "outputs": [
    {
     "name": "stdout",
     "output_type": "stream",
     "text": [
      "enter string:python\n",
      "6\n"
     ]
    }
   ],
   "source": [
    "s=input(\"enter string:\")\n",
    "len_s=len(s)\n",
    "if len_s>0:\n",
    "    print(len_s)\n",
    "else:\n",
    "    print(\"invalid string\")"
   ]
  },
  {
   "cell_type": "code",
   "execution_count": 18,
   "metadata": {},
   "outputs": [
    {
     "name": "stdout",
     "output_type": "stream",
     "text": [
      "enter string:python\n",
      "6\n"
     ]
    }
   ],
   "source": [
    "s=input(\"enter string:\")\n",
    "len_s=len(s)\n",
    "if bool(len_s>0):\n",
    "    print(len_s)\n",
    "else:\n",
    "    print(\"invalid string\")"
   ]
  },
  {
   "cell_type": "code",
   "execution_count": 19,
   "metadata": {},
   "outputs": [
    {
     "name": "stdout",
     "output_type": "stream",
     "text": [
      "enter string:\n",
      "invalid string\n"
     ]
    }
   ],
   "source": [
    "s=input(\"enter string:\")\n",
    "len_s=len(s)\n",
    "if bool(len_s>0):\n",
    "    print(len_s)\n",
    "else:\n",
    "    print(\"invalid string\")"
   ]
  },
  {
   "cell_type": "code",
   "execution_count": 20,
   "metadata": {},
   "outputs": [
    {
     "name": "stdout",
     "output_type": "stream",
     "text": [
      "enter string:python\n",
      "6\n"
     ]
    }
   ],
   "source": [
    "s=input(\"enter string:\")\n",
    "len_s=len(s)\n",
    "if bool(s):\n",
    "    print(len_s)\n",
    "else:\n",
    "    print(\"invalid string\")"
   ]
  },
  {
   "cell_type": "code",
   "execution_count": 21,
   "metadata": {},
   "outputs": [
    {
     "name": "stdout",
     "output_type": "stream",
     "text": [
      "enter string:\n",
      "invalid string\n"
     ]
    }
   ],
   "source": [
    "s=input(\"enter string:\")\n",
    "len_s=len(s)\n",
    "if bool(s):\n",
    "    print(len_s)\n",
    "else:\n",
    "    print(\"invalid string\")"
   ]
  },
  {
   "cell_type": "code",
   "execution_count": 22,
   "metadata": {},
   "outputs": [
    {
     "name": "stdout",
     "output_type": "stream",
     "text": [
      "enter string:pythin\n",
      "6\n"
     ]
    }
   ],
   "source": [
    "s=input(\"enter string:\")\n",
    "len_s=len(s)\n",
    "if s:\n",
    "    print(len_s)\n",
    "else:\n",
    "    print(\"invalid string\")"
   ]
  },
  {
   "cell_type": "code",
   "execution_count": 23,
   "metadata": {},
   "outputs": [
    {
     "name": "stdout",
     "output_type": "stream",
     "text": [
      "enter string:\n",
      "invalid string\n"
     ]
    }
   ],
   "source": [
    "s=input(\"enter string:\")\n",
    "len_s=len(s)\n",
    "if s:\n",
    "    print(len_s)\n",
    "else:\n",
    "    print(\"invalid string\")"
   ]
  },
  {
   "cell_type": "code",
   "execution_count": 24,
   "metadata": {},
   "outputs": [
    {
     "name": "stdout",
     "output_type": "stream",
     "text": [
      "enter string:\n",
      "invalid string\n"
     ]
    }
   ],
   "source": [
    "s=input(\"enter string:\")\n",
    "if s:\n",
    "    len_s=len(s)\n",
    "    print(len_s)\n",
    "else:\n",
    "    print(\"invalid string\")"
   ]
  },
  {
   "cell_type": "code",
   "execution_count": 26,
   "metadata": {},
   "outputs": [
    {
     "name": "stdout",
     "output_type": "stream",
     "text": [
      "The mobiles available in the store:\n",
      "\t1.redmi6A\n",
      "\t2.redmipro\n",
      "\t3.vivov10\n",
      "\t4.lenovo note3\n"
     ]
    }
   ],
   "source": [
    "\"\"\"\n",
    "# 1.redmi6A -- >6700\n",
    "  2.redmipro --> 12000\n",
    "  3.vivov10   -->15000\n",
    "  4.lenovo note3 -->12000\n",
    "  \n",
    "\"\"\"\n",
    "print(\"The mobiles available in the store:\\n\\t1.redmi6A\\n\\t2.redmipro\\n\\t3.vivov10\\n\\t4.lenovo note3\")"
   ]
  },
  {
   "cell_type": "code",
   "execution_count": 27,
   "metadata": {},
   "outputs": [
    {
     "name": "stdout",
     "output_type": "stream",
     "text": [
      "The mobiles available in the store:\n",
      "\t1.redmi6A\n",
      "\t2.redmipro\n",
      "\t3.vivov10\n",
      "\t4.lenovo note3\n",
      "enter an option:1\n"
     ]
    }
   ],
   "source": [
    "\"\"\"\n",
    "# 1.redmi6A -- >6700\n",
    "  2.redmipro --> 12000\n",
    "  3.vivov10   -->15000\n",
    "  4.lenovo note3 -->12000\n",
    "  \n",
    "\"\"\"\n",
    "print(\"The mobiles available in the store:\\n\\t1.redmi6A\\n\\t2.redmipro\\n\\t3.vivov10\\n\\t4.lenovo note3\")\n",
    "opt=input(\"enter an option:\")"
   ]
  },
  {
   "cell_type": "code",
   "execution_count": 28,
   "metadata": {},
   "outputs": [
    {
     "name": "stdout",
     "output_type": "stream",
     "text": [
      "The mobiles available in the store:\n",
      "\t1.redmi6A\n",
      "\t2.redmipro\n",
      "\t3.vivov10\n",
      "\t4.lenovo note3\n",
      "enter an option:1\n",
      "remi6A: RAM 2GB, rom 32GB 6700\n",
      "Thank you!!\n"
     ]
    }
   ],
   "source": [
    "\"\"\"\n",
    "# 1.redmi6A -- >6700\n",
    "  2.redmipro --> 12000\n",
    "  3.vivov10   -->15000\n",
    "  4.lenovo note3 -->12000\n",
    "  \n",
    "\"\"\"\n",
    "print(\"The mobiles available in the store:\\n\\t1.redmi6A\\n\\t2.redmipro\\n\\t3.vivov10\\n\\t4.lenovo note3\")\n",
    "opt=input(\"enter an option:\")\n",
    "if opt==\"1\":\n",
    "    print(\"remi6A: RAM 2GB, rom 32GB 6700\")\n",
    "if opt==\"2\":\n",
    "    print(\"redmipro RAM 4GB rom 128GB 12000\")\n",
    "if opt==\"3\":\n",
    "    print(\"vivov10 RAM 4GBm rom 128 GB 15000\")\n",
    "if opt==\"4\":\n",
    "    print(\"lenovo note3 RAM 4GB ROM 128GB 13000\")\n",
    "print(\"Thank you!!\")\n",
    "    "
   ]
  },
  {
   "cell_type": "code",
   "execution_count": 29,
   "metadata": {},
   "outputs": [
    {
     "name": "stdout",
     "output_type": "stream",
     "text": [
      "The mobiles available in the store:\n",
      "\t1.redmi6A\n",
      "\t2.redmipro\n",
      "\t3.vivov10\n",
      "\t4.lenovo note3\n",
      "enter an option:2\n",
      "redmipro RAM 4GB rom 128GB 12000\n",
      "Thank you!!\n"
     ]
    }
   ],
   "source": [
    "\"\"\"\n",
    "# 1.redmi6A -- >6700\n",
    "  2.redmipro --> 12000\n",
    "  3.vivov10   -->15000\n",
    "  4.lenovo note3 -->12000\n",
    "  \n",
    "\"\"\"\n",
    "print(\"The mobiles available in the store:\\n\\t1.redmi6A\\n\\t2.redmipro\\n\\t3.vivov10\\n\\t4.lenovo note3\")\n",
    "opt=input(\"enter an option:\")\n",
    "if opt==\"1\":\n",
    "    print(\"remi6A: RAM 2GB, rom 32GB 6700\")\n",
    "if opt==\"2\":\n",
    "    print(\"redmipro RAM 4GB rom 128GB 12000\")\n",
    "if opt==\"3\":\n",
    "    print(\"vivov10 RAM 4GBm rom 128 GB 15000\")\n",
    "if opt==\"4\":\n",
    "    print(\"lenovo note3 RAM 4GB ROM 128GB 13000\")\n",
    "print(\"Thank you!!\")\n",
    "    "
   ]
  },
  {
   "cell_type": "code",
   "execution_count": 30,
   "metadata": {},
   "outputs": [
    {
     "name": "stdout",
     "output_type": "stream",
     "text": [
      "The mobiles available in the store:\n",
      "\t1.redmi6A\n",
      "\t2.redmipro\n",
      "\t3.vivov10\n",
      "\t4.lenovo note3\n",
      "enter an option:3\n",
      "vivov10 RAM 4GBm rom 128 GB 15000\n",
      "Thank you!!\n"
     ]
    }
   ],
   "source": [
    "\"\"\"\n",
    "# 1.redmi6A -- >6700\n",
    "  2.redmipro --> 12000\n",
    "  3.vivov10   -->15000\n",
    "  4.lenovo note3 -->12000\n",
    "  \n",
    "\"\"\"\n",
    "print(\"The mobiles available in the store:\\n\\t1.redmi6A\\n\\t2.redmipro\\n\\t3.vivov10\\n\\t4.lenovo note3\")\n",
    "opt=input(\"enter an option:\")\n",
    "if opt==\"1\":\n",
    "    print(\"remi6A: RAM 2GB, rom 32GB 6700\")\n",
    "if opt==\"2\":\n",
    "    print(\"redmipro RAM 4GB rom 128GB 12000\")\n",
    "if opt==\"3\":\n",
    "    print(\"vivov10 RAM 4GBm rom 128 GB 15000\")\n",
    "if opt==\"4\":\n",
    "    print(\"lenovo note3 RAM 4GB ROM 128GB 13000\")\n",
    "print(\"Thank you!!\")\n",
    "    "
   ]
  },
  {
   "cell_type": "code",
   "execution_count": 31,
   "metadata": {},
   "outputs": [
    {
     "name": "stdout",
     "output_type": "stream",
     "text": [
      "The mobiles available in the store:\n",
      "\t1.redmi6A\n",
      "\t2.redmipro\n",
      "\t3.vivov10\n",
      "\t4.lenovo note3\n",
      "enter an option:4\n",
      "lenovo note3 RAM 4GB ROM 128GB 13000\n",
      "Thank you!!\n"
     ]
    }
   ],
   "source": [
    "\"\"\"\n",
    "# 1.redmi6A -- >6700\n",
    "  2.redmipro --> 12000\n",
    "  3.vivov10   -->15000\n",
    "  4.lenovo note3 -->12000\n",
    "  \n",
    "\"\"\"\n",
    "print(\"The mobiles available in the store:\\n\\t1.redmi6A\\n\\t2.redmipro\\n\\t3.vivov10\\n\\t4.lenovo note3\")\n",
    "opt=input(\"enter an option:\")\n",
    "if opt==\"1\":\n",
    "    print(\"remi6A: RAM 2GB, rom 32GB 6700\")\n",
    "if opt==\"2\":\n",
    "    print(\"redmipro RAM 4GB rom 128GB 12000\")\n",
    "if opt==\"3\":\n",
    "    print(\"vivov10 RAM 4GBm rom 128 GB 15000\")\n",
    "if opt==\"4\":\n",
    "    print(\"lenovo note3 RAM 4GB ROM 128GB 13000\")\n",
    "print(\"Thank you!!\")\n",
    "    "
   ]
  },
  {
   "cell_type": "code",
   "execution_count": 32,
   "metadata": {},
   "outputs": [
    {
     "name": "stdout",
     "output_type": "stream",
     "text": [
      "The mobiles available in the store:\n",
      "\t1.redmi6A\n",
      "\t2.redmipro\n",
      "\t3.vivov10\n",
      "\t4.lenovo note3\n",
      "enter an option:5\n",
      "Thank you!!\n"
     ]
    }
   ],
   "source": [
    "\"\"\"\n",
    "# 1.redmi6A -- >6700\n",
    "  2.redmipro --> 12000\n",
    "  3.vivov10   -->15000\n",
    "  4.lenovo note3 -->12000\n",
    "  \n",
    "\"\"\"\n",
    "print(\"The mobiles available in the store:\\n\\t1.redmi6A\\n\\t2.redmipro\\n\\t3.vivov10\\n\\t4.lenovo note3\")\n",
    "opt=input(\"enter an option:\")\n",
    "if opt==\"1\":\n",
    "    print(\"remi6A: RAM 2GB, rom 32GB 6700\")\n",
    "if opt==\"2\":\n",
    "    print(\"redmipro RAM 4GB rom 128GB 12000\")\n",
    "if opt==\"3\":\n",
    "    print(\"vivov10 RAM 4GBm rom 128 GB 15000\")\n",
    "if opt==\"4\":\n",
    "    print(\"lenovo note3 RAM 4GB ROM 128GB 13000\")\n",
    "print(\"Thank you!!\")\n",
    "    "
   ]
  },
  {
   "cell_type": "code",
   "execution_count": 34,
   "metadata": {},
   "outputs": [
    {
     "name": "stdout",
     "output_type": "stream",
     "text": [
      "The mobiles available in the store:\n",
      "\t1.redmi6A\n",
      "\t2.redmipro\n",
      "\t3.vivov10\n",
      "\t4.lenovo note3\n",
      "enter an option:1\n",
      "remi6A: RAM 2GB, rom 32GB 6700\n",
      "Thank you!!\n"
     ]
    }
   ],
   "source": [
    "\"\"\"\n",
    "# 1.redmi6A -- >6700\n",
    "  2.redmipro --> 12000\n",
    "  3.vivov10   -->15000\n",
    "  4.lenovo note3 -->12000\n",
    "  \n",
    "\"\"\"\n",
    "print(\"The mobiles available in the store:\\n\\t1.redmi6A\\n\\t2.redmipro\\n\\t3.vivov10\\n\\t4.lenovo note3\")\n",
    "opt=input(\"enter an option:\")\n",
    "if opt not in [\"1\",\"2\",\"3\",\"4\"]:\n",
    "    print(\"invalid option\")\n",
    "if opt==\"1\":\n",
    "    print(\"remi6A: RAM 2GB, rom 32GB 6700\")\n",
    "if opt==\"2\":\n",
    "    print(\"redmipro RAM 4GB rom 128GB 12000\")\n",
    "if opt==\"3\":\n",
    "    print(\"vivov10 RAM 4GBm rom 128 GB 15000\")\n",
    "if opt==\"4\":\n",
    "    print(\"lenovo note3 RAM 4GB ROM 128GB 13000\")\n",
    "print(\"Thank you!!\")\n",
    "    "
   ]
  },
  {
   "cell_type": "code",
   "execution_count": 35,
   "metadata": {},
   "outputs": [
    {
     "name": "stdout",
     "output_type": "stream",
     "text": [
      "The mobiles available in the store:\n",
      "\t1.redmi6A\n",
      "\t2.redmipro\n",
      "\t3.vivov10\n",
      "\t4.lenovo note3\n",
      "enter an option:5\n",
      "invalid option\n",
      "Thank you!!\n"
     ]
    }
   ],
   "source": [
    "\"\"\"\n",
    "# 1.redmi6A -- >6700\n",
    "  2.redmipro --> 12000\n",
    "  3.vivov10   -->15000\n",
    "  4.lenovo note3 -->12000\n",
    "  \n",
    "\"\"\"\n",
    "print(\"The mobiles available in the store:\\n\\t1.redmi6A\\n\\t2.redmipro\\n\\t3.vivov10\\n\\t4.lenovo note3\")\n",
    "opt=input(\"enter an option:\")\n",
    "if opt not in [\"1\",\"2\",\"3\",\"4\"]:\n",
    "    print(\"invalid option\")\n",
    "if opt==\"1\":\n",
    "    print(\"remi6A: RAM 2GB, rom 32GB 6700\")\n",
    "if opt==\"2\":\n",
    "    print(\"redmipro RAM 4GB rom 128GB 12000\")\n",
    "if opt==\"3\":\n",
    "    print(\"vivov10 RAM 4GBm rom 128 GB 15000\")\n",
    "if opt==\"4\":\n",
    "    print(\"lenovo note3 RAM 4GB ROM 128GB 13000\")\n",
    "print(\"Thank you!!\")\n",
    "    "
   ]
  },
  {
   "cell_type": "code",
   "execution_count": 37,
   "metadata": {},
   "outputs": [
    {
     "name": "stdout",
     "output_type": "stream",
     "text": [
      "The mobiles available in the store:\n",
      "\t1.redmi6A\n",
      "\t2.redmipro\n",
      "\t3.vivov10\n",
      "\t4.lenovo note3\n",
      "enter an option:1\n",
      "remi6A: RAM 2GB, rom 32GB 6700\n",
      "Thank you!!\n"
     ]
    }
   ],
   "source": [
    "\"\"\"\n",
    "# 1.redmi6A -- >6700\n",
    "  2.redmipro --> 12000\n",
    "  3.vivov10   -->15000\n",
    "  4.lenovo note3 -->12000\n",
    "  \n",
    "\"\"\"\n",
    "print(\"The mobiles available in the store:\\n\\t1.redmi6A\\n\\t2.redmipro\\n\\t3.vivov10\\n\\t4.lenovo note3\")\n",
    "opt=input(\"enter an option:\")\n",
    "if opt==\"1\":\n",
    "    print(\"remi6A: RAM 2GB, rom 32GB 6700\")\n",
    "elif opt==\"2\":\n",
    "    print(\"redmipro RAM 4GB rom 128GB 12000\")\n",
    "elif opt==\"3\":\n",
    "    print(\"vivov10 RAM 4GBm rom 128 GB 15000\")\n",
    "elif opt==\"4\":\n",
    "    print(\"lenovo note3 RAM 4GB ROM 128GB 13000\")\n",
    "else:\n",
    "    print(\"invalid option\")\n",
    "print(\"Thank you!!\")\n",
    "    "
   ]
  },
  {
   "cell_type": "code",
   "execution_count": 38,
   "metadata": {},
   "outputs": [
    {
     "name": "stdout",
     "output_type": "stream",
     "text": [
      "The mobiles available in the store:\n",
      "\t1.redmi6A\n",
      "\t2.redmipro\n",
      "\t3.vivov10\n",
      "\t4.lenovo note3\n",
      "enter an option:2\n",
      "redmipro RAM 4GB rom 128GB 12000\n",
      "Thank you!!\n"
     ]
    }
   ],
   "source": [
    "\"\"\"\n",
    "# 1.redmi6A -- >6700\n",
    "  2.redmipro --> 12000\n",
    "  3.vivov10   -->15000\n",
    "  4.lenovo note3 -->12000\n",
    "  \n",
    "\"\"\"\n",
    "print(\"The mobiles available in the store:\\n\\t1.redmi6A\\n\\t2.redmipro\\n\\t3.vivov10\\n\\t4.lenovo note3\")\n",
    "opt=input(\"enter an option:\")\n",
    "if opt==\"1\":\n",
    "    print(\"remi6A: RAM 2GB, rom 32GB 6700\")\n",
    "elif opt==\"2\":\n",
    "    print(\"redmipro RAM 4GB rom 128GB 12000\")\n",
    "elif opt==\"3\":\n",
    "    print(\"vivov10 RAM 4GBm rom 128 GB 15000\")\n",
    "elif opt==\"4\":\n",
    "    print(\"lenovo note3 RAM 4GB ROM 128GB 13000\")\n",
    "else:\n",
    "    print(\"invalid option\")\n",
    "print(\"Thank you!!\")\n",
    "    "
   ]
  },
  {
   "cell_type": "code",
   "execution_count": 39,
   "metadata": {},
   "outputs": [
    {
     "name": "stdout",
     "output_type": "stream",
     "text": [
      "The mobiles available in the store:\n",
      "\t1.redmi6A\n",
      "\t2.redmipro\n",
      "\t3.vivov10\n",
      "\t4.lenovo note3\n",
      "enter an option:45\n",
      "invalid option\n",
      "Thank you!!\n"
     ]
    }
   ],
   "source": [
    "\"\"\"\n",
    "# 1.redmi6A -- >6700\n",
    "  2.redmipro --> 12000\n",
    "  3.vivov10   -->15000\n",
    "  4.lenovo note3 -->12000\n",
    "  \n",
    "\"\"\"\n",
    "print(\"The mobiles available in the store:\\n\\t1.redmi6A\\n\\t2.redmipro\\n\\t3.vivov10\\n\\t4.lenovo note3\")\n",
    "opt=input(\"enter an option:\")\n",
    "if opt==\"1\":\n",
    "    print(\"remi6A: RAM 2GB, rom 32GB 6700\")\n",
    "elif opt==\"2\":\n",
    "    print(\"redmipro RAM 4GB rom 128GB 12000\")\n",
    "elif opt==\"3\":\n",
    "    print(\"vivov10 RAM 4GBm rom 128 GB 15000\")\n",
    "elif opt==\"4\":\n",
    "    print(\"lenovo note3 RAM 4GB ROM 128GB 13000\")\n",
    "else:\n",
    "    print(\"invalid option\")\n",
    "print(\"Thank you!!\")\n",
    "    "
   ]
  },
  {
   "cell_type": "code",
   "execution_count": null,
   "metadata": {},
   "outputs": [],
   "source": []
  }
 ],
 "metadata": {
  "kernelspec": {
   "display_name": "Python 3",
   "language": "python",
   "name": "python3"
  },
  "language_info": {
   "codemirror_mode": {
    "name": "ipython",
    "version": 3
   },
   "file_extension": ".py",
   "mimetype": "text/x-python",
   "name": "python",
   "nbconvert_exporter": "python",
   "pygments_lexer": "ipython3",
   "version": "3.7.3"
  }
 },
 "nbformat": 4,
 "nbformat_minor": 2
}
